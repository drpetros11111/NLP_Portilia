{
  "cells": [
    {
      "cell_type": "markdown",
      "metadata": {
        "id": "view-in-github",
        "colab_type": "text"
      },
      "source": [
        "<a href=\"https://colab.research.google.com/github/drpetros11111/NLP_Portilia/blob/main/02_Text_Classification_Project.ipynb\" target=\"_parent\"><img src=\"https://colab.research.google.com/assets/colab-badge.svg\" alt=\"Open In Colab\"/></a>"
      ]
    },
    {
      "cell_type": "markdown",
      "metadata": {
        "collapsed": true,
        "id": "zKnW6oIMDBUL"
      },
      "source": [
        "___\n",
        "\n",
        "<a href='http://www.pieriandata.com'> <img src='../Pierian_Data_Logo.png' /></a>\n",
        "___"
      ]
    },
    {
      "cell_type": "markdown",
      "metadata": {
        "id": "WV1q8T0VDBUO"
      },
      "source": [
        "# Text Classification Project\n",
        "Now we're at the point where we should be able to:\n",
        "* Read in a collection of documents - a *corpus*\n",
        "* Transform text into numerical vector data using a pipeline\n",
        "* Create a classifier\n",
        "* Fit/train the classifier\n",
        "* Test the classifier on new data\n",
        "* Evaluate performance\n",
        "\n",
        "For this project we'll use the Cornell University Movie Review polarity dataset v2.0 obtained from http://www.cs.cornell.edu/people/pabo/movie-review-data/\n",
        "\n",
        "In this exercise we'll try to develop a classification model as we did for the SMSSpamCollection dataset - that is, we'll try to predict the Positive/Negative labels based on text content alone. In an upcoming section we'll apply *Sentiment Analysis* to train models that have a deeper understanding of each review."
      ]
    },
    {
      "cell_type": "markdown",
      "metadata": {
        "id": "pAwu-26FDBUP"
      },
      "source": [
        "## Perform imports and load the dataset\n",
        "The dataset contains the text of 2000 movie reviews. 1000 are positive, 1000 are negative, and the text has been preprocessed as a tab-delimited file."
      ]
    },
    {
      "cell_type": "code",
      "execution_count": 12,
      "metadata": {
        "colab": {
          "base_uri": "https://localhost:8080/",
          "height": 206
        },
        "id": "7nl0QUy0DBUQ",
        "outputId": "f88c522a-8b20-4415-814e-f63ba821d012"
      },
      "outputs": [
        {
          "output_type": "execute_result",
          "data": {
            "text/plain": [
              "  label                                             review\n",
              "0   neg  how do films like mouse hunt get into theatres...\n",
              "1   neg  some talented actresses are blessed with a dem...\n",
              "2   pos  this has been an extraordinary year for austra...\n",
              "3   pos  according to hollywood movies made in last few...\n",
              "4   neg  my first press screening of 1998 and already i..."
            ],
            "text/html": [
              "\n",
              "  <div id=\"df-362f58a4-4a71-4d52-bb41-e262a39b5c08\" class=\"colab-df-container\">\n",
              "    <div>\n",
              "<style scoped>\n",
              "    .dataframe tbody tr th:only-of-type {\n",
              "        vertical-align: middle;\n",
              "    }\n",
              "\n",
              "    .dataframe tbody tr th {\n",
              "        vertical-align: top;\n",
              "    }\n",
              "\n",
              "    .dataframe thead th {\n",
              "        text-align: right;\n",
              "    }\n",
              "</style>\n",
              "<table border=\"1\" class=\"dataframe\">\n",
              "  <thead>\n",
              "    <tr style=\"text-align: right;\">\n",
              "      <th></th>\n",
              "      <th>label</th>\n",
              "      <th>review</th>\n",
              "    </tr>\n",
              "  </thead>\n",
              "  <tbody>\n",
              "    <tr>\n",
              "      <th>0</th>\n",
              "      <td>neg</td>\n",
              "      <td>how do films like mouse hunt get into theatres...</td>\n",
              "    </tr>\n",
              "    <tr>\n",
              "      <th>1</th>\n",
              "      <td>neg</td>\n",
              "      <td>some talented actresses are blessed with a dem...</td>\n",
              "    </tr>\n",
              "    <tr>\n",
              "      <th>2</th>\n",
              "      <td>pos</td>\n",
              "      <td>this has been an extraordinary year for austra...</td>\n",
              "    </tr>\n",
              "    <tr>\n",
              "      <th>3</th>\n",
              "      <td>pos</td>\n",
              "      <td>according to hollywood movies made in last few...</td>\n",
              "    </tr>\n",
              "    <tr>\n",
              "      <th>4</th>\n",
              "      <td>neg</td>\n",
              "      <td>my first press screening of 1998 and already i...</td>\n",
              "    </tr>\n",
              "  </tbody>\n",
              "</table>\n",
              "</div>\n",
              "    <div class=\"colab-df-buttons\">\n",
              "\n",
              "  <div class=\"colab-df-container\">\n",
              "    <button class=\"colab-df-convert\" onclick=\"convertToInteractive('df-362f58a4-4a71-4d52-bb41-e262a39b5c08')\"\n",
              "            title=\"Convert this dataframe to an interactive table.\"\n",
              "            style=\"display:none;\">\n",
              "\n",
              "  <svg xmlns=\"http://www.w3.org/2000/svg\" height=\"24px\" viewBox=\"0 -960 960 960\">\n",
              "    <path d=\"M120-120v-720h720v720H120Zm60-500h600v-160H180v160Zm220 220h160v-160H400v160Zm0 220h160v-160H400v160ZM180-400h160v-160H180v160Zm440 0h160v-160H620v160ZM180-180h160v-160H180v160Zm440 0h160v-160H620v160Z\"/>\n",
              "  </svg>\n",
              "    </button>\n",
              "\n",
              "  <style>\n",
              "    .colab-df-container {\n",
              "      display:flex;\n",
              "      gap: 12px;\n",
              "    }\n",
              "\n",
              "    .colab-df-convert {\n",
              "      background-color: #E8F0FE;\n",
              "      border: none;\n",
              "      border-radius: 50%;\n",
              "      cursor: pointer;\n",
              "      display: none;\n",
              "      fill: #1967D2;\n",
              "      height: 32px;\n",
              "      padding: 0 0 0 0;\n",
              "      width: 32px;\n",
              "    }\n",
              "\n",
              "    .colab-df-convert:hover {\n",
              "      background-color: #E2EBFA;\n",
              "      box-shadow: 0px 1px 2px rgba(60, 64, 67, 0.3), 0px 1px 3px 1px rgba(60, 64, 67, 0.15);\n",
              "      fill: #174EA6;\n",
              "    }\n",
              "\n",
              "    .colab-df-buttons div {\n",
              "      margin-bottom: 4px;\n",
              "    }\n",
              "\n",
              "    [theme=dark] .colab-df-convert {\n",
              "      background-color: #3B4455;\n",
              "      fill: #D2E3FC;\n",
              "    }\n",
              "\n",
              "    [theme=dark] .colab-df-convert:hover {\n",
              "      background-color: #434B5C;\n",
              "      box-shadow: 0px 1px 3px 1px rgba(0, 0, 0, 0.15);\n",
              "      filter: drop-shadow(0px 1px 2px rgba(0, 0, 0, 0.3));\n",
              "      fill: #FFFFFF;\n",
              "    }\n",
              "  </style>\n",
              "\n",
              "    <script>\n",
              "      const buttonEl =\n",
              "        document.querySelector('#df-362f58a4-4a71-4d52-bb41-e262a39b5c08 button.colab-df-convert');\n",
              "      buttonEl.style.display =\n",
              "        google.colab.kernel.accessAllowed ? 'block' : 'none';\n",
              "\n",
              "      async function convertToInteractive(key) {\n",
              "        const element = document.querySelector('#df-362f58a4-4a71-4d52-bb41-e262a39b5c08');\n",
              "        const dataTable =\n",
              "          await google.colab.kernel.invokeFunction('convertToInteractive',\n",
              "                                                    [key], {});\n",
              "        if (!dataTable) return;\n",
              "\n",
              "        const docLinkHtml = 'Like what you see? Visit the ' +\n",
              "          '<a target=\"_blank\" href=https://colab.research.google.com/notebooks/data_table.ipynb>data table notebook</a>'\n",
              "          + ' to learn more about interactive tables.';\n",
              "        element.innerHTML = '';\n",
              "        dataTable['output_type'] = 'display_data';\n",
              "        await google.colab.output.renderOutput(dataTable, element);\n",
              "        const docLink = document.createElement('div');\n",
              "        docLink.innerHTML = docLinkHtml;\n",
              "        element.appendChild(docLink);\n",
              "      }\n",
              "    </script>\n",
              "  </div>\n",
              "\n",
              "\n",
              "<div id=\"df-50c4a2b1-cbce-474f-91d1-02d4bea44369\">\n",
              "  <button class=\"colab-df-quickchart\" onclick=\"quickchart('df-50c4a2b1-cbce-474f-91d1-02d4bea44369')\"\n",
              "            title=\"Suggest charts\"\n",
              "            style=\"display:none;\">\n",
              "\n",
              "<svg xmlns=\"http://www.w3.org/2000/svg\" height=\"24px\"viewBox=\"0 0 24 24\"\n",
              "     width=\"24px\">\n",
              "    <g>\n",
              "        <path d=\"M19 3H5c-1.1 0-2 .9-2 2v14c0 1.1.9 2 2 2h14c1.1 0 2-.9 2-2V5c0-1.1-.9-2-2-2zM9 17H7v-7h2v7zm4 0h-2V7h2v10zm4 0h-2v-4h2v4z\"/>\n",
              "    </g>\n",
              "</svg>\n",
              "  </button>\n",
              "\n",
              "<style>\n",
              "  .colab-df-quickchart {\n",
              "      --bg-color: #E8F0FE;\n",
              "      --fill-color: #1967D2;\n",
              "      --hover-bg-color: #E2EBFA;\n",
              "      --hover-fill-color: #174EA6;\n",
              "      --disabled-fill-color: #AAA;\n",
              "      --disabled-bg-color: #DDD;\n",
              "  }\n",
              "\n",
              "  [theme=dark] .colab-df-quickchart {\n",
              "      --bg-color: #3B4455;\n",
              "      --fill-color: #D2E3FC;\n",
              "      --hover-bg-color: #434B5C;\n",
              "      --hover-fill-color: #FFFFFF;\n",
              "      --disabled-bg-color: #3B4455;\n",
              "      --disabled-fill-color: #666;\n",
              "  }\n",
              "\n",
              "  .colab-df-quickchart {\n",
              "    background-color: var(--bg-color);\n",
              "    border: none;\n",
              "    border-radius: 50%;\n",
              "    cursor: pointer;\n",
              "    display: none;\n",
              "    fill: var(--fill-color);\n",
              "    height: 32px;\n",
              "    padding: 0;\n",
              "    width: 32px;\n",
              "  }\n",
              "\n",
              "  .colab-df-quickchart:hover {\n",
              "    background-color: var(--hover-bg-color);\n",
              "    box-shadow: 0 1px 2px rgba(60, 64, 67, 0.3), 0 1px 3px 1px rgba(60, 64, 67, 0.15);\n",
              "    fill: var(--button-hover-fill-color);\n",
              "  }\n",
              "\n",
              "  .colab-df-quickchart-complete:disabled,\n",
              "  .colab-df-quickchart-complete:disabled:hover {\n",
              "    background-color: var(--disabled-bg-color);\n",
              "    fill: var(--disabled-fill-color);\n",
              "    box-shadow: none;\n",
              "  }\n",
              "\n",
              "  .colab-df-spinner {\n",
              "    border: 2px solid var(--fill-color);\n",
              "    border-color: transparent;\n",
              "    border-bottom-color: var(--fill-color);\n",
              "    animation:\n",
              "      spin 1s steps(1) infinite;\n",
              "  }\n",
              "\n",
              "  @keyframes spin {\n",
              "    0% {\n",
              "      border-color: transparent;\n",
              "      border-bottom-color: var(--fill-color);\n",
              "      border-left-color: var(--fill-color);\n",
              "    }\n",
              "    20% {\n",
              "      border-color: transparent;\n",
              "      border-left-color: var(--fill-color);\n",
              "      border-top-color: var(--fill-color);\n",
              "    }\n",
              "    30% {\n",
              "      border-color: transparent;\n",
              "      border-left-color: var(--fill-color);\n",
              "      border-top-color: var(--fill-color);\n",
              "      border-right-color: var(--fill-color);\n",
              "    }\n",
              "    40% {\n",
              "      border-color: transparent;\n",
              "      border-right-color: var(--fill-color);\n",
              "      border-top-color: var(--fill-color);\n",
              "    }\n",
              "    60% {\n",
              "      border-color: transparent;\n",
              "      border-right-color: var(--fill-color);\n",
              "    }\n",
              "    80% {\n",
              "      border-color: transparent;\n",
              "      border-right-color: var(--fill-color);\n",
              "      border-bottom-color: var(--fill-color);\n",
              "    }\n",
              "    90% {\n",
              "      border-color: transparent;\n",
              "      border-bottom-color: var(--fill-color);\n",
              "    }\n",
              "  }\n",
              "</style>\n",
              "\n",
              "  <script>\n",
              "    async function quickchart(key) {\n",
              "      const quickchartButtonEl =\n",
              "        document.querySelector('#' + key + ' button');\n",
              "      quickchartButtonEl.disabled = true;  // To prevent multiple clicks.\n",
              "      quickchartButtonEl.classList.add('colab-df-spinner');\n",
              "      try {\n",
              "        const charts = await google.colab.kernel.invokeFunction(\n",
              "            'suggestCharts', [key], {});\n",
              "      } catch (error) {\n",
              "        console.error('Error during call to suggestCharts:', error);\n",
              "      }\n",
              "      quickchartButtonEl.classList.remove('colab-df-spinner');\n",
              "      quickchartButtonEl.classList.add('colab-df-quickchart-complete');\n",
              "    }\n",
              "    (() => {\n",
              "      let quickchartButtonEl =\n",
              "        document.querySelector('#df-50c4a2b1-cbce-474f-91d1-02d4bea44369 button');\n",
              "      quickchartButtonEl.style.display =\n",
              "        google.colab.kernel.accessAllowed ? 'block' : 'none';\n",
              "    })();\n",
              "  </script>\n",
              "</div>\n",
              "\n",
              "    </div>\n",
              "  </div>\n"
            ],
            "application/vnd.google.colaboratory.intrinsic+json": {
              "type": "dataframe",
              "variable_name": "df",
              "summary": "{\n  \"name\": \"df\",\n  \"rows\": 2000,\n  \"fields\": [\n    {\n      \"column\": \"label\",\n      \"properties\": {\n        \"dtype\": \"category\",\n        \"num_unique_values\": 2,\n        \"samples\": [\n          \"pos\",\n          \"neg\"\n        ],\n        \"semantic_type\": \"\",\n        \"description\": \"\"\n      }\n    },\n    {\n      \"column\": \"review\",\n      \"properties\": {\n        \"dtype\": \"string\",\n        \"num_unique_values\": 1939,\n        \"samples\": [\n          \"mulholland drive did very well at the cannes film festival . \\r\\nas you can see from the rating it did not do very well from me at the toronto international film festival . \\r\\nit may not be clear to the viewer why i am so negative on this film for most of the running time . \\r\\nin fact it is an interesting mystery story told on the backdrop of the hollywood film industry . \\r\\ntoward the end of the film i think everything that has been built falls apart . \\r\\nthe film was to be a pilot for a tv series but writer and director david lynch did not sell his tv pilot and i think he decided that he wanted to do something else with it . \\r\\nsomething else is what he did . \\r\\nthe film opens with a woman ( played by laura harring ) about to be killed in a car when a car crash saves her life . \\r\\nshe crawls away from the accident with a concussion and finds herself a bungalow with an unlocked door to sleep . \\r\\nmeanwhile young vivacious betty ( naomi watts ) arrives in hollywood from canada . \\r\\nshe wants to build a career as an actress . \\r\\nbetty is a little surprised to find a woman sleeping in the borrowed bungalow . \\r\\nshe does not know who the woman is . \\r\\nshe is even more surprised when the woman awakes and does not herself know who she is . \\r\\nthey fix on a name rita for her , but are not sure if this right or not . \\r\\nmeanwhile local director adam kesher ( justin theroux ) has problems of his own . \\r\\nhe is trying to cast one actress for his new film and is getting pressure from the producers and from crime figures to cast someone else , cammie rhodes ( melissa george ) . \\r\\nthese two threads are joined by a third one in which there is a strange and comic murder that goes terribly wrong . \\r\\nthere is also a strange character called the cowboy ( monty montgomery ) adding to the confusion . \\r\\nin what was probably intended for the television pilot the film opens with a great vibrancy showing dancing 60s style under the credits . \\r\\na lot of mulholland drive starts out fun . \\r\\nlynch wants you to know he could make an enjoyable stylish film . \\r\\nhe just chooses not to . \\r\\nas with any david lynch film there is strange material added for little reason . \\r\\nthere are no earthworms , but there are some decidedly strange david lynch touches . \\r\\nthe film is a little long for the subject matter . \\r\\ntoward the end it gets into some heavier violence and sex scenes , clearly not intended for the tv pilot . \\r\\nunfortunately some of the most important comments to make about this film would be spoilers . \\r\\ni will not mention them in the main body of the review but i give mulholland drive a 4 on the 0 to 10 scale and a low 0 on the -4 to +4 scale . \\r\\nmulholland drive spoiler warning . \\r\\ni have rated this film fairly low . \\r\\nyou should read this only after seeing the film or deciding that you will not see the film . \\r\\ndavid lynch is in large part a dark satirist . \\r\\nmost of his work is done in familiar genres but in some way shows their underside . \\r\\nin mulholland drive i think he is having a laugh at the expense of the crime film genre . \\r\\nwhat he does with this film is ( are you sure you want to read this ? ) \\r\\nplaying off the audience expectations that there will be a simple explanation for what is going on . \\r\\nthe first 80% of the film he tells a simple multi-thread crime story with clues sprinkled throughout . \\r\\nthen suddenly at the end he turns the story on its ear with a large number of clues that appear that they should add up to something . \\r\\nthe audience expectation is that they will add up . \\r\\nbut he has given clues that are self-contradictory . \\r\\nlynch wants the audience to argue about what they have seen afterward and come up with theories . \\r\\nin fact , the pointers are noticeably contradictory and until i hear a better explanation , i think lynch is merely playing a joke . \\r\\nthere is a visual curiosity that was popular in the sixties . \\r\\nmad magazine called it a poiuyt . \\r\\nother sources called it a tri- pronged u-bar . \\r\\nlook at small portions of it and makes sense . \\r\\nlook at the whole figure and it does not . \\r\\nthis film is , in my estimation , the cinematic equivalent of a tri-pronged u-bar . \\r\\n\",\n          \"unzipped is a cinematic portrait of isaac mizrahi , an artist whose palette is fabric . \\r\\nostensibly , the film is a documentary , but use of that term requires stretching its meaning . \\r\\nmany scenes appear staged , and a great deal of cutting-and-pasting has been done in the editing room . \\r\\nthe cinema verite effect is a conceit -- genuine spontaneity is at a premium , and everyone is aware of and playing to the camera ( especially would-be actresses like cindy crawford ) . \\r\\ndirector douglas keeve ( who was mizrahi's lover at the time ) freely admits that he \\\" couldn't care less about the truth \\\" but was more interested in capturing \\\" the spirit and love in isaac and in fashion . \\\" \\r\\ndespite violating nearly every rule of \\\" legitimate \\\" documentary film making , however , unzipped is a remarkably enjoyable piece of entertainment . \\r\\nwhile it sheds only a little light on the behind-the-scenes world of the fashion industry , it presents a fascinating , if incomplete , picture of designer mizrahi . \\r\\nthis man is the perfect subject for this kind of study -- he's funny , energetic , and eminently quotable . \\r\\nhe has unusual views on just about everything , from fashion ( \\\" it's about women not wanting to look like cows \\\" ) to mary tyler moore ( \\\" between her and jackie kennedy , they shaped this country \\\" ) to style ( \\\" it's almost impossible to have style nowadays without the right dogs \\\" ) . \\r\\nunzipped also gives a glimpse into the creative process by which mizrahi turns an idea into a dress . \\r\\nit's almost certainly different that anyone would imagine . \\r\\nthe designer draws on a variety of sources for his look , including nanook of the north and old bette davis movies , then enlists the aid of a ouija board to help form the collection . \\r\\nin particular , unzipped traces mizrahi's development of his fall 1994 line from its inception in the spring to the final fashion show , which highlights a number of prominent models , including cindy crawford , naomi campbell , kate bush , and linda evangelista . \\r\\non the technical side , a number of interesting choices were made in filming unzipped . \\r\\na variety of film stocks were used : super 8 , 16 mm black-and-white , and 35 mm color . \\r\\nthere is a purpose to this beyond simple artiness -- the stock often serves as an emotional key to the movie , and , during the climactic fashion show , color is used to show the audience's perspective , while black-and-white is for the behind-the- scenes sequences . \\r\\nnevertheless , some viewers will be put off by this treatment . \\r\\nwhile unzipped isn't an expose on the fashion industry per se , keeve has enough clips of petulant models to make the viewer realize how tame robert altman was with ready to wear . \\r\\noverall , however , this movie is far more about mizrahi than anything else , and only when viewed from that perspective does unzipped succeed . \\r\\nwhen the designer declares that \\\" everything is frustrating except designing clothes -- that's beautiful and liberating , \\\" it fits perfectly with the image of him that unzipped has constructed . \\r\\n\"\n        ],\n        \"semantic_type\": \"\",\n        \"description\": \"\"\n      }\n    }\n  ]\n}"
            }
          },
          "metadata": {},
          "execution_count": 12
        }
      ],
      "source": [
        "import numpy as np\n",
        "import pandas as pd\n",
        "\n",
        "df = pd.read_csv('/content/moviereviews.tsv', sep='\\t')\n",
        "df.head()"
      ]
    },
    {
      "cell_type": "code",
      "execution_count": 13,
      "metadata": {
        "colab": {
          "base_uri": "https://localhost:8080/"
        },
        "id": "WpRA13eRDBUS",
        "outputId": "73177ae3-1562-4128-94a5-4030f2d8b9b5"
      },
      "outputs": [
        {
          "output_type": "execute_result",
          "data": {
            "text/plain": [
              "2000"
            ]
          },
          "metadata": {},
          "execution_count": 13
        }
      ],
      "source": [
        "len(df)"
      ]
    },
    {
      "cell_type": "markdown",
      "metadata": {
        "id": "QELr4ISpDBUS"
      },
      "source": [
        "### Take a look at a typical review. This one is labeled \"negative\":"
      ]
    },
    {
      "cell_type": "code",
      "execution_count": 14,
      "metadata": {
        "colab": {
          "base_uri": "https://localhost:8080/",
          "height": 323
        },
        "id": "R8W9-bD5DBUS",
        "outputId": "d949aadf-d290-4c6b-88d9-23b1657fd8b1"
      },
      "outputs": [
        {
          "output_type": "display_data",
          "data": {
            "text/plain": [
              "<IPython.core.display.Markdown object>"
            ],
            "text/markdown": "> how do films like mouse hunt get into theatres ? \r\nisn't there a law or something ? \r\nthis diabolical load of claptrap from steven speilberg's dreamworks studio is hollywood family fare at its deadly worst . \r\nmouse hunt takes the bare threads of a plot and tries to prop it up with overacting and flat-out stupid slapstick that makes comedies like jingle all the way look decent by comparison . \r\nwriter adam rifkin and director gore verbinski are the names chiefly responsible for this swill . \r\nthe plot , for what its worth , concerns two brothers ( nathan lane and an appalling lee evens ) who inherit a poorly run string factory and a seemingly worthless house from their eccentric father . \r\ndeciding to check out the long-abandoned house , they soon learn that it's worth a fortune and set about selling it in auction to the highest bidder . \r\nbut battling them at every turn is a very smart mouse , happy with his run-down little abode and wanting it to stay that way . \r\nthe story alternates between unfunny scenes of the brothers bickering over what to do with their inheritance and endless action sequences as the two take on their increasingly determined furry foe . \r\nwhatever promise the film starts with soon deteriorates into boring dialogue , terrible overacting , and increasingly uninspired slapstick that becomes all sound and fury , signifying nothing . \r\nthe script becomes so unspeakably bad that the best line poor lee evens can utter after another run in with the rodent is : \" i hate that mouse \" . \r\noh cringe ! \r\nthis is home alone all over again , and ten times worse . \r\none touching scene early on is worth mentioning . \r\nwe follow the mouse through a maze of walls and pipes until he arrives at his makeshift abode somewhere in a wall . \r\nhe jumps into a tiny bed , pulls up a makeshift sheet and snuggles up to sleep , seemingly happy and just wanting to be left alone . \r\nit's a magical little moment in an otherwise soulless film . \r\na message to speilberg : if you want dreamworks to be associated with some kind of artistic credibility , then either give all concerned in mouse hunt a swift kick up the arse or hire yourself some decent writers and directors . \r\nthis kind of rubbish will just not do at all . \r\n"
          },
          "metadata": {}
        }
      ],
      "source": [
        "from IPython.display import Markdown, display\n",
        "display(Markdown('> '+df['review'][0]))"
      ]
    },
    {
      "cell_type": "markdown",
      "source": [
        "# Import Libraries\n",
        "\n",
        "    from IPython.display import Markdown, display\n",
        "\n",
        "This imports two functions from the IPython.display module:\n",
        "Markdown:\n",
        "\n",
        "--------------------------------------\n",
        "#Markdown\n",
        "\n",
        "This function is used to render text in Markdown format within a Jupyter notebook.\n",
        "\n",
        "-----------------\n",
        "#display\n",
        "\n",
        "This function is used to display the given content (text, HTML, Markdown, etc.) in the notebook's output cells.\n",
        "display(Markdown('> '+df['review'][0])):\n",
        "\n",
        "##df['review'][0]:\n",
        "\n",
        "This part assumes that df is a pandas DataFrame, and it is accessing the first entry in the review column (index 0).\n",
        "\n",
        "##'>' + df['review'][0]:\n",
        "The > symbol in Markdown is used to create a blockquote.\n",
        "\n",
        "This expression concatenates the > symbol with the first review (the text from df['review'][0]), so that the review text will be rendered as a blockquote in the notebook.\n",
        "\n",
        "##Markdown(...):\n",
        "This wraps the review text in Markdown format, meaning it will be displayed as Markdown in the notebook.\n",
        "\n",
        "#display(...):\n",
        "Finally, the display function is used to render the Markdown-formatted text in the notebook's output.\n",
        "\n",
        "-------------------------\n",
        "#Summary\n",
        "This code takes the first review from the review column of the DataFrame df, formats it as a Markdown blockquote (with the > symbol), and displays it nicely within a Jupyter notebook.\n",
        "\n",
        "For example, if df['review'][0] contains \"This is a great product!\", the code would display the following blockquote in the notebook:\n",
        "\n",
        "> This is a great product!"
      ],
      "metadata": {
        "id": "f2krzO8nHHvO"
      }
    },
    {
      "cell_type": "markdown",
      "metadata": {
        "id": "MBIJ-MCCDBUT"
      },
      "source": [
        "## Check for missing values:\n",
        "We have intentionally included records with missing data. Some have NaN values, others have short strings composed of only spaces. This might happen if a reviewer declined to provide a comment with their review. We will show two ways using pandas to identify and remove records containing empty data.\n",
        "* NaN records are efficiently handled with [.isnull()](https://pandas.pydata.org/pandas-docs/stable/generated/pandas.DataFrame.isnull.html) and [.dropna()](https://pandas.pydata.org/pandas-docs/stable/generated/pandas.DataFrame.dropna.html)\n",
        "* Strings that contain only whitespace can be handled with [.isspace()](https://docs.python.org/3/library/stdtypes.html#str.isspace), [.itertuples()](https://pandas.pydata.org/pandas-docs/stable/generated/pandas.DataFrame.itertuples.html), and [.drop()](https://pandas.pydata.org/pandas-docs/stable/generated/pandas.DataFrame.drop.html)\n",
        "\n",
        "### Detect & remove NaN values:"
      ]
    },
    {
      "cell_type": "code",
      "source": [
        "len(df)"
      ],
      "metadata": {
        "colab": {
          "base_uri": "https://localhost:8080/"
        },
        "id": "e-3pQwoSKht4",
        "outputId": "7e6b2b42-e591-4b10-a2bd-60f2719ebcdf"
      },
      "execution_count": 15,
      "outputs": [
        {
          "output_type": "execute_result",
          "data": {
            "text/plain": [
              "2000"
            ]
          },
          "metadata": {},
          "execution_count": 15
        }
      ]
    },
    {
      "cell_type": "code",
      "execution_count": 16,
      "metadata": {
        "colab": {
          "base_uri": "https://localhost:8080/",
          "height": 146
        },
        "id": "bdWJX8_lDBUT",
        "outputId": "ac4549ac-58ce-479c-a265-cbbb9256cf58"
      },
      "outputs": [
        {
          "output_type": "execute_result",
          "data": {
            "text/plain": [
              "label      0\n",
              "review    35\n",
              "dtype: int64"
            ],
            "text/html": [
              "<div>\n",
              "<style scoped>\n",
              "    .dataframe tbody tr th:only-of-type {\n",
              "        vertical-align: middle;\n",
              "    }\n",
              "\n",
              "    .dataframe tbody tr th {\n",
              "        vertical-align: top;\n",
              "    }\n",
              "\n",
              "    .dataframe thead th {\n",
              "        text-align: right;\n",
              "    }\n",
              "</style>\n",
              "<table border=\"1\" class=\"dataframe\">\n",
              "  <thead>\n",
              "    <tr style=\"text-align: right;\">\n",
              "      <th></th>\n",
              "      <th>0</th>\n",
              "    </tr>\n",
              "  </thead>\n",
              "  <tbody>\n",
              "    <tr>\n",
              "      <th>label</th>\n",
              "      <td>0</td>\n",
              "    </tr>\n",
              "    <tr>\n",
              "      <th>review</th>\n",
              "      <td>35</td>\n",
              "    </tr>\n",
              "  </tbody>\n",
              "</table>\n",
              "</div><br><label><b>dtype:</b> int64</label>"
            ]
          },
          "metadata": {},
          "execution_count": 16
        }
      ],
      "source": [
        "# Check for the existence of NaN values in a cell:\n",
        "df.isnull().sum()\n"
      ]
    },
    {
      "cell_type": "markdown",
      "metadata": {
        "id": "Hj-c1ugrDBUT"
      },
      "source": [
        "35 records show **NaN** (this stands for \"not a number\" and is equivalent to *None*). These are easily removed using the `.dropna()` pandas function.\n",
        "<div class=\"alert alert-info\" style=\"margin: 20px\">CAUTION: By setting inplace=True, we permanently affect the DataFrame currently in memory, and this can't be undone. However, it does *not* affect the original source data. If we needed to, we could always load the original DataFrame from scratch.</div>"
      ]
    },
    {
      "cell_type": "code",
      "execution_count": 17,
      "metadata": {
        "colab": {
          "base_uri": "https://localhost:8080/"
        },
        "id": "cZRai7reDBUT",
        "outputId": "15e4f44d-f03d-4c65-f7bc-b2de3b72d6b9"
      },
      "outputs": [
        {
          "output_type": "execute_result",
          "data": {
            "text/plain": [
              "1965"
            ]
          },
          "metadata": {},
          "execution_count": 17
        }
      ],
      "source": [
        "df.dropna(inplace=True)\n",
        "\n",
        "len(df)"
      ]
    },
    {
      "cell_type": "markdown",
      "metadata": {
        "id": "EGFzk0Z1DBUU"
      },
      "source": [
        "### Detect & remove empty strings\n",
        "Technically, we're dealing with \"whitespace only\" strings. If the original .tsv file had contained empty strings, pandas **.read_csv()** would have assigned NaN values to those cells by default.\n",
        "\n",
        "In order to detect these strings we need to iterate over each row in the DataFrame. The **.itertuples()** pandas method is a good tool for this as it provides access to every field. For brevity we'll assign the names `i`, `lb` and `rv` to the `index`, `label` and `review` columns."
      ]
    },
    {
      "cell_type": "code",
      "execution_count": 18,
      "metadata": {
        "colab": {
          "base_uri": "https://localhost:8080/"
        },
        "id": "_GxxNf0CDBUU",
        "outputId": "d1985acf-9ffa-48aa-9a39-566c1f2b122a"
      },
      "outputs": [
        {
          "output_type": "stream",
          "name": "stdout",
          "text": [
            "27 blanks:  [57, 71, 147, 151, 283, 307, 313, 323, 343, 351, 427, 501, 633, 675, 815, 851, 977, 1079, 1299, 1455, 1493, 1525, 1531, 1763, 1851, 1905, 1993]\n"
          ]
        }
      ],
      "source": [
        "blanks = []  # start with an empty list\n",
        "\n",
        "for i,lb,rv in df.itertuples():  # iterate over the DataFrame\n",
        "    if type(rv)==str:            # avoid NaN values\n",
        "        if rv.isspace():         # test 'review' for whitespace\n",
        "            blanks.append(i)     # add matching index numbers to the list\n",
        "\n",
        "print(len(blanks), 'blanks: ', blanks)"
      ]
    },
    {
      "cell_type": "markdown",
      "source": [
        "# Identify empty strings (white-space only) in the review column\n",
        "The code you shared is designed to identify rows in a pandas DataFrame (df) where the values in the review column consist only of whitespace (or are empty strings).\n",
        "\n",
        "It adds the index of these rows to a list called blanks. Let's break it down step by step:\n",
        "\n",
        "-------------------------------\n",
        "    blanks = []\n",
        "\n",
        "This initializes an empty list called blanks which will store the indices of rows that have reviews consisting only of whitespace.\n",
        "\n",
        "    for i, lb, rv in df.itertuples():\n",
        "\n",
        "This line uses itertuples() to iterate over the rows of the DataFrame (df). itertuples() generates named tuples for each row of the DataFrame, and each tuple contains the index and column values.\n",
        "\n",
        "    i\n",
        "\n",
        "represents the index of the row.\n",
        "\n",
        "    lb\n",
        "\n",
        "represents the value of the first column after the index (presumably the label column in this case).\n",
        "\n",
        "    rv\n",
        "\n",
        "represents the value from the review column.\n",
        "\n",
        "    if type(rv)==str:\n",
        "\n",
        "This checks if the value in the review column (rv) is a string.\n",
        "\n",
        "This ensures that the code avoids NaN values (which can be of type float, not str).\n",
        "\n",
        "    if rv.isspace():\n",
        "\n",
        "This checks if the string in the review column consists only of whitespace characters (spaces, tabs, newlines, etc.).\n",
        "\n",
        "The\n",
        "    .isspace()\n",
        "\n",
        "method returns True if all characters in the string are whitespace, and False otherwise.\n",
        "\n",
        "    blanks.append(i)\n",
        "\n",
        "If the rv (review) is indeed a string containing only whitespace, the index i is appended to the blanks list.\n",
        "\n",
        "    print(len(blanks), 'blanks: ', blanks)\n",
        "\n",
        "After the loop finishes, this prints the number of rows with blank reviews (len(blanks)), followed by the actual list of indices where these blank reviews were found.\n",
        "\n",
        "-------------------------------\n",
        "#Example Behavior\n",
        "Suppose you have a DataFrame (df) like this:\n",
        "\n",
        "index\tlabel\treview\n",
        "    0\tpos\t\"Great product!\"\n",
        "    1\tneg\t\" \"\n",
        "    2\tpos\t\"\"\n",
        "    3\tneg\t\"Not worth it.\"\n",
        "    4\tpos\t\" \"\n",
        "\n",
        "Row 1 and 4 contain only whitespace.\n",
        "\n",
        "The code would append indices 1 and 4 to blanks, and then print something like:\n",
        "\n",
        "    2 blanks:  [1, 4]\n",
        "\n",
        "----------------------------\n",
        "#Summary\n",
        "This code looks for rows in the DataFrame where the review column contains only whitespace.\n",
        "\n",
        "It collects the indices of those rows and prints both the number of such rows and their indices."
      ],
      "metadata": {
        "id": "qA0DvQgwLUSB"
      }
    },
    {
      "cell_type": "markdown",
      "metadata": {
        "id": "RYZb6HnwDBUU"
      },
      "source": [
        "# Note -itertuples()\n",
        "itertuples() is a method provided by pandas that allows you to iterate over rows of a DataFrame as named tuples.\n",
        "\n",
        "Each tuple corresponds to a row in the DataFrame, with its fields representing the values of the row's columns.\n",
        "\n",
        "It is a very efficient way to loop over the DataFrame rows compared to using .iterrows() because itertuples() avoids the overhead of constructing a pandas Series for each row.\n",
        "\n",
        "-------------------------------\n",
        "##Key Points:\n",
        "###Named Tuples:\n",
        "Each row is returned as a namedtuple, where each field corresponds to a column in the DataFrame.\n",
        "\n",
        "You can access the values either by index or by the column name as an attribute of the tuple.\n",
        "\n",
        "###Efficient:\n",
        "itertuples() is generally faster than iterrows() because it doesn’t convert each row to a Series object.\n",
        "\n",
        "Instead, it directly returns a tuple, which is more lightweight.\n",
        "\n",
        "-------------------------\n",
        "#Example\n",
        "Let's consider a simple DataFrame:\n",
        "\n",
        "    import pandas as pd\n",
        "\n",
        "    data = {'label': ['pos', 'neg', 'pos'],\n",
        "        'review': ['Great product!', 'Not good', 'Excellent!']}\n",
        "        \n",
        "    df = pd.DataFrame(data)\n",
        "\n",
        "# Using itertuples\n",
        "    for row in df.itertuples():\n",
        "       print(row)\n",
        "\n",
        "#Output:\n",
        "\n",
        "    Pandas(Index=0, label='pos', review='Great product!')\n",
        "    Pandas(Index=1, label='neg', review='Not good')\n",
        "    Pandas(Index=2, label='pos', review='Excellent!')\n",
        "\n",
        "------------------------------------\n",
        "Here:\n",
        "\n",
        "###Index=0, 1, 2 represents the row index.\n",
        "\n",
        "label and review are the column names, and their values correspond to the row’s data.\n",
        "\n",
        "###Accessing Values:\n",
        "You can access the fields of the named tuple like this:\n",
        "\n",
        "    for row in df.itertuples():\n",
        "    print(row.label, row.review)\n",
        "\n",
        "------------------------------------\n",
        "##Output:\n",
        "\n",
        "    pos Great product!\n",
        "    neg Not good\n",
        "    pos Excellent!\n",
        "\n",
        "##Customizing Columns:\n",
        "By default, the first element in the named tuple is the index of the row (like Pandas(Index=0, ...)).\n",
        "\n",
        "You can disable this behavior using itertuples(index=False) if you don’t want to include the row index in the tuple:\n",
        "\n",
        "    for row in df.itertuples(index=False):\n",
        "       print(row)\n",
        "\n",
        "###Output:\n",
        "\n",
        "    Pandas(label='pos', review='Great product!')\n",
        "    Pandas(label='neg', review='Not good')\n",
        "    Pandas(label='pos', review='Excellent!')\n",
        "\n",
        "-----------------------------\n",
        "#Why Use itertuples()?\n",
        "##Performance:\n",
        "It is faster than iterrows() because it doesn't convert rows to Series objects.\n",
        "\n",
        "##Convenience:\n",
        "Since it returns a named tuple, accessing columns by name is intuitive and avoids using indices.\n",
        "\n",
        "In conclusion, itertuples() is an efficient, easy-to-use method for iterating over DataFrame rows, especially when you need both speed and readability."
      ]
    },
    {
      "cell_type": "code",
      "execution_count": 19,
      "metadata": {
        "colab": {
          "base_uri": "https://localhost:8080/"
        },
        "id": "6YGhG3CVDBUV",
        "outputId": "aaf8afe7-9242-4867-d3b0-e4e44ecb997c"
      },
      "outputs": [
        {
          "output_type": "execute_result",
          "data": {
            "text/plain": [
              "1938"
            ]
          },
          "metadata": {},
          "execution_count": 19
        }
      ],
      "source": [
        "df.drop(blanks, inplace=True)\n",
        "\n",
        "len(df)"
      ]
    },
    {
      "cell_type": "markdown",
      "metadata": {
        "id": "2Zzh-FtjDBUV"
      },
      "source": [
        "Great! We dropped 62 records from the original 2000. Let's continue with the analysis."
      ]
    },
    {
      "cell_type": "markdown",
      "metadata": {
        "id": "bhG-Y40NDBUV"
      },
      "source": [
        "## Take a quick look at the `label` column:"
      ]
    },
    {
      "cell_type": "code",
      "execution_count": 20,
      "metadata": {
        "colab": {
          "base_uri": "https://localhost:8080/",
          "height": 178
        },
        "id": "rK6kUjXqDBUV",
        "outputId": "a830633a-9fd1-4a01-a78d-43ff4e7905e9"
      },
      "outputs": [
        {
          "output_type": "execute_result",
          "data": {
            "text/plain": [
              "label\n",
              "neg    969\n",
              "pos    969\n",
              "Name: count, dtype: int64"
            ],
            "text/html": [
              "<div>\n",
              "<style scoped>\n",
              "    .dataframe tbody tr th:only-of-type {\n",
              "        vertical-align: middle;\n",
              "    }\n",
              "\n",
              "    .dataframe tbody tr th {\n",
              "        vertical-align: top;\n",
              "    }\n",
              "\n",
              "    .dataframe thead th {\n",
              "        text-align: right;\n",
              "    }\n",
              "</style>\n",
              "<table border=\"1\" class=\"dataframe\">\n",
              "  <thead>\n",
              "    <tr style=\"text-align: right;\">\n",
              "      <th></th>\n",
              "      <th>count</th>\n",
              "    </tr>\n",
              "    <tr>\n",
              "      <th>label</th>\n",
              "      <th></th>\n",
              "    </tr>\n",
              "  </thead>\n",
              "  <tbody>\n",
              "    <tr>\n",
              "      <th>neg</th>\n",
              "      <td>969</td>\n",
              "    </tr>\n",
              "    <tr>\n",
              "      <th>pos</th>\n",
              "      <td>969</td>\n",
              "    </tr>\n",
              "  </tbody>\n",
              "</table>\n",
              "</div><br><label><b>dtype:</b> int64</label>"
            ]
          },
          "metadata": {},
          "execution_count": 20
        }
      ],
      "source": [
        "df['label'].value_counts()"
      ]
    },
    {
      "cell_type": "markdown",
      "metadata": {
        "id": "bsUFDq8NDBUW"
      },
      "source": [
        "## Split the data into train & test sets:"
      ]
    },
    {
      "cell_type": "code",
      "execution_count": 21,
      "metadata": {
        "collapsed": true,
        "id": "qTsMqoqVDBUW"
      },
      "outputs": [],
      "source": [
        "from sklearn.model_selection import train_test_split\n",
        "\n",
        "X = df['review']\n",
        "y = df['label']\n",
        "\n",
        "X_train, X_test, y_train, y_test = train_test_split(X, y, test_size=0.33, random_state=42)"
      ]
    },
    {
      "cell_type": "markdown",
      "metadata": {
        "id": "G6KVdPiJDBUW"
      },
      "source": [
        "## Build pipelines to vectorize the data, then train and fit a model\n",
        "Now that we have sets to train and test, we'll develop a selection of pipelines, each with a different model."
      ]
    },
    {
      "cell_type": "code",
      "execution_count": 22,
      "metadata": {
        "collapsed": true,
        "id": "9paaEIPnDBUW"
      },
      "outputs": [],
      "source": [
        "from sklearn.pipeline import Pipeline\n",
        "from sklearn.feature_extraction.text import TfidfVectorizer\n",
        "from sklearn.naive_bayes import MultinomialNB\n",
        "from sklearn.svm import LinearSVC\n",
        "\n",
        "# Naïve Bayes:\n",
        "text_clf_nb = Pipeline([('tfidf', TfidfVectorizer()),\n",
        "                     ('clf', MultinomialNB()),\n",
        "])\n",
        "\n",
        "# Linear SVC:\n",
        "text_clf_lsvc = Pipeline([('tfidf', TfidfVectorizer()),\n",
        "                     ('clf', LinearSVC()),\n",
        "])"
      ]
    },
    {
      "cell_type": "markdown",
      "source": [
        "# Define a Pipeline\n",
        "    Pipeline (from sklearn.pipeline)\n",
        "\n",
        "A Pipeline is a tool provided by scikit-learn to automate workflows that involve multiple steps, such as transforming data and then applying a machine learning algorithm.\n",
        "\n",
        "In this case, it's used to chain together a text vectorization step (using TfidfVectorizer) and a classification step (using either MultinomialNB or LinearSVC).\n",
        "\n",
        "----------------------------------------------\n",
        "    TfidfVectorizer (from sklearn.feature_extraction.text)\n",
        "\n",
        "#This is the text vectorization step.\n",
        "\n",
        "It converts raw text into numerical features by calculating TF-IDF (Term Frequency-Inverse Document Frequency) values for each word in the text.\n",
        "\n",
        "#TF (Term Frequency)\n",
        "\n",
        "Counts how often a word appears in a document.\n",
        "\n",
        "----------------------------\n",
        "#IDF (Inverse Document Frequency)\n",
        "\n",
        "Reduces the weight of common words that appear in many documents, focusing on words that are more unique to specific documents.\n",
        "\n",
        "The TfidfVectorizer will take the input text data, tokenize it, and convert it into a matrix of TF-IDF features that can be used by a classifier.\n",
        "\n",
        "-------------------------------------\n",
        "#MultinomialNB (from sklearn.naive_bayes)\n",
        "\n",
        "This is the classifier in the first pipeline. MultinomialNB is a Naive Bayes classifier that works well for text data, particularly for classification problems where the features represent discrete frequency counts (e.g., how often a word appears in a document).\n",
        "\n",
        "Naive Bayes is a probabilistic classifier based on applying Bayes' theorem, assuming that the features are conditionally independent of each other.\n",
        "\n",
        "--------------------------\n",
        "#LinearSVC (from sklearn.svm)\n",
        "\n",
        "This is the classifier in the second pipeline. LinearSVC is a Support Vector Classifier (SVC) that uses a linear kernel, which works well for high-dimensional datasets like text data.\n",
        "\n",
        "SVC attempts to find a hyperplane that best separates the classes in the dataset by maximizing the margin between them.\n",
        "Linear SVC is often faster for text classification problems due to its linear nature and is useful for binary or multi-class classification tasks.\n",
        "\n",
        "----------------------------------------\n",
        "#Pipelines Explanation:\n",
        "#1. Naive Bayes Pipeline (text_clf_nb):\n",
        "\n",
        "    text_clf_nb = Pipeline([\n",
        "        ('tfidf', TfidfVectorizer()),   # Step 1: Convert text to TF-IDF vectors\n",
        "        ('clf', MultinomialNB()),       # Step 2: Apply Naive Bayes classification\n",
        "      ])\n",
        "This pipeline first transforms the text using TfidfVectorizer() to generate numerical features from the text data.\n",
        "\n",
        "Then, it passes these features to MultinomialNB(), the Naive Bayes classifier, which will predict the class labels based on the learned probability distributions.\n",
        "\n",
        "-----------------------------------------\n",
        "#2. Linear SVC Pipeline (text_clf_lsvc):\n",
        "\n",
        "    text_clf_lsvc = Pipeline([\n",
        "       ('tfidf', TfidfVectorizer()),   # Step 1: Convert text to TF-IDF vectors\n",
        "      ('clf', LinearSVC()),           # Step 2: Apply Linear Support Vector Classification\n",
        "       ])\n",
        "\n",
        "This pipeline is similar to the Naive Bayes pipeline, except that the classifier step uses LinearSVC() instead of Naive Bayes.\n",
        "\n",
        "After transforming the text with TfidfVectorizer(), the numerical features are passed to the LinearSVC() classifier, which learns a linear decision boundary between the classes.\n",
        "\n",
        "----------------------------\n",
        "#Summary\n",
        "Both pipelines follow the same structure: they convert raw text data into TF-IDF feature vectors and then apply a classifier.\n",
        "\n",
        "The first pipeline (text_clf_nb) uses the Naive Bayes classifier, which is simple and works well for certain types of text classification tasks, especially when the features (words) are conditionally independent.\n",
        "\n",
        "The second pipeline (text_clf_lsvc) uses Linear SVC, which is a more powerful model for classification tasks that involve high-dimensional feature spaces, like text data.\n",
        "\n",
        "Once these pipelines are set up, they can be used to train on labeled text data and make predictions on new, unseen text.\n",
        "\n",
        "-----------------------------\n",
        "------------------------------------\n",
        "#Note 1 - TF-IDF\n",
        "TF-IDF stands for Term Frequency-Inverse Document Frequency. It is a statistical measure used to evaluate the importance of a word in a document relative to a collection of documents (often called a corpus).\n",
        "\n",
        "TF-IDF is commonly used in text mining, information retrieval, and natural language processing tasks like document classification and information retrieval, where it's important to weigh words by their relevance rather than just frequency.\n",
        "\n",
        "-----------------------\n",
        "#TF-IDF Components:\n",
        "TF-IDF is a combination of two metrics:\n",
        "\n",
        "##TF (Term Frequency):\n",
        "\n",
        "This measures how frequently a word (term) appears in a document.\n",
        "\n",
        "For a term\n",
        "𝑡 in a document 𝑑, the term frequency Tf(𝑡, 𝑑)\n",
        "\n",
        "##TF(t,d) is calculated as:\n",
        "![image.png](data:image/png;base64,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)\n",
        "\n",
        "\n",
        "##Example:\n",
        "If the term \"data\" appears 3 times in a document with 100 words, the term frequency for \"data\" is\n",
        "$$3/100= 0.03$$\n",
        "\n",
        "---------------------------------\n",
        "#IDF (Inverse Document Frequency)\n",
        "\n",
        "This measures how important or rare a term is across the entire collection of documents (the corpus).\n",
        "\n",
        "If a term appears in many documents, it is less informative (i.e., common words like \"the\", \"is\", etc.). Rare words are more informative.\n",
        "\n",
        "The inverse document frequency is calculated as:\n",
        "IDF\n",
        "![image.png](data:image/png;base64,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)\n",
        "\n",
        "![image.png](data:image/png;base64,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)\n",
        "\n",
        "![image.png](data:image/png;base64,iVBORw0KGgoAAAANSUhEUgAAAzoAAAFkCAIAAABnyNlNAAAgAElEQVR4Aeyd/1NUR7r/P/9AzyzDrbGkRgssvtSQAilQSkOtXLQishasBCw1a5BLlbMkgNe7zGJSN2pNsmyuwQwuJOXEiMq9uzdOhjhYEdxApLIxYixR1I3KLrpEMxZi+Q3Dl8oMdfrj9an7VN8+Z76ogw7w8EPSc06f7qdf/XT3+/Tpbv8fpz8iQASIABEgAkSACBCBCCbw/yLYNjKNCBABIkAEiAARIAJEgJNcIycgAkSACBABIkAEiEBEEyC5FtHVQ8YRASJABIgAESACRIDkGvkAESACRIAIEAEiQAQimgDJtYiuHjKOCBABIkAEiAARIAIk18gHiAARIAJEgAgQASIQ0QRIrkV09ZBxRIAIEAEiQASIABEguUY+QASIABEgAkSACBCBiCZAci2iq4eMIwJEgAgQASJABIgAyTXyASJABIgAESACRIAIRDSBSZdr7e3tRqOxt7c3ojGQcUSACBABIkAEiAARiFQCJNcitWbILiJABIgAESACRIAIPCJAco0cgQgQASJABIgAESACEU2A5FpEVw8ZRwSIABEgAkSACBABkmvkA0SACBABIkAEiAARiGgCjy3X+vr65s6da7PZsFg3btxITk4uKioaHx+Hix6PJykpCeLAVoOenp5PP/00MTGRMWYymRoaGrxeL6agKEpra2t6ejpjTK/XFxUV9ff341273W42m3t7e0tKShhjFosFbt28ebOystJgMDDGEhMTHQ4HptnW1mYwGD788ENMhAJEgAgQASJABIgAEZiiBB5bro2Nja1atSovL29kZATK3NXVpdPp4uPjBwYG8IrRaOzu7uacg1xbu3ZtTk6O89FfVlYWY+zgwYMQWVGU+vp6nU5XWlrqcrn27duXmpoaGxt76dIliGC3200m0y9+8Ysvv/xSURS4eP369bS0tPj4+N27d7vd7srKSsZYTU0NRCC5BpTov0SACBABIkAEiMA0IPDYco1zbrfb586d29fXB+W3Wq2LFi2aO3duW1sbXLHZbAsXLrx9+zbINcZYfn7+8PAw3L169WpCQgLOxvX29hqNxp07d6IUu3btWkpKitVqhfh2u50x5nA44Cfn3OfzVVRUpKSkXLt2DS4qirJz507RKoxMASJABIgAESACRIAITGkCTyLXTp06FR0d7XQ6Oef37t1bsmTJxx9//HC+DQTWyMhIXl5edXU1yK/29nbG2OHDhxGTz+dbv349zs/ZbDZxZo5zrihKWVkZRrDb7Uaj8cyZM5jCwMBAfHy8+EGWc37mzBmj0dje3o7RKEAEiAARIAJEgAgQgWlA4EnkGki08vJyRVG6u7tTU1MHBgZsNtuSJUvu3bvX19cXGxuLM23wMVQUW5xzi8ViNpsHBwchzLT+MILdbk9KSvJ4PIgbJuS0HmJ2ux2jUYAIEAEiQASIABEgAtOAwJPINc651WqFz512ux0+a3Z1dc2ZM6e3t/fw4cPibJnmv2ogybXU1NRPPvnE/X//Ojo6xsbG4NsrSjcgDnLtjTfe+L9P/M8v/EQ7DeqGikAEiAARIAJEgAgQAc75E8q1rq4uo9HY0dGRl5fX1NTEOb99+/bChQubmpqsVuv69et9Ph/wDSrXrFarKO/UtQI7Q2EqDu6qd6eqn6IrRIAIEAEiQASIABGYHgSeUK7B4R2//vWvMzIyLl68CAvOysvLf/nLX2ZlZYGAA0BB5VpnZ6dOpxO3Gkhk1XINdqeKWw2kR+gnESACRIAIEAEiQASmDYEnlGuKopSXlzPGcEMA59zpdBoMBvgkioCCyjWv11tVVcUYKygocDqdbrd7z549eXl5X3zxBSSilmuc856eHpPJFBMTs2PHDrfb7XK5fvvb327YsAGOF6GDPJA/BYgAESACRIAIEIGpTuAJ5RqIM8b+z9J++EYpCjg8d623t1ckJa5d45yPjY05HA44RBfOvH3zzTfhHBDNtWuQ1OXLl4uKivR6PWPMYDAsX768s7OTzl0TOVOYCBABIkAEiAARmAYEnlyuTYPCUxGIABEgAkSACBABIhD5BEiuRX4dkYVEgAgQASJABIjAjCZAcm1GVz8VnggQASJABIgAEYh8AiTXIr+OyEIiQASIABEgAkRgRhMguTajq58KTwSIABEgAkSACEQ+AZJrkV9HZCERIAJEgAgQASIwowmQXJvR1U+FJwJEgAgQASJABCKfAMm1yK8jspAIEAEiQASIABGY0QRIrs3o6qfCEwEiQASIABEgApFPgORa5NcRWUgEiAARIAJEgAjMaAIk12Z09VPhiQARIAJEgAgQgcgnQHIt8uuILCQCRIAIEAEiQARmNAGSazO6+qnwRIAIEAEiQASIQOQTILkW+XVEFhIBIkAEiAARIAIzmgDJtRld/VR4IkAEiAARIAJEIPIJkFyL/DoiC4kAESACRIAIEIEZTYDk2oyufio8ESACRIAIEAEiEPkESK5Ffh2RhUSACBABIkAEiMCMJkBybUZXPxWeCBABIkAEiAARiHwCJNciv47IQiJABIgAESACRGBGEyC5NqOrnwpPBIgAESACRIAIRD4BkmuRX0dkIREgAkSACBABIjCjCZBcm9HVT4UnAkSACBABIkAEIp8AybXIryOykAgQASJABIgAEZjRBEiuzejqp8ITASJABIgAESACkU+A5Frk1xFZSASIABEgAkSACMxoAiTXZnT1U+GJABEgAkSACBCByCdAci3y64gsJAJEgAgQASJABGY0AZJrM7r6qfBEgAgQASJABIhA5BMguRb5dUQWEgEiQASIABEgAjOaAMm1GV39VHgiQASIABEgAkQg8gmQXIv8OiILiQARIAJEgAgQgRlNgOTajK5+KjwRIAJEgAgQASIQ+QSmpFxTFOXbb791/+/fkSNH7t69K7K+e/fukSNH/vf+//z/22+/VRRFjENhIkAEiAARIAJEgAhMCQJTUq6Nj4//+te/NpvNBoOBPfpzOBwi7r/+9a+LFi3CuwkJCe+99x7JNRERhYkAESACRIAIEIGpQmBKyjWA6/P5SkpKfvaznzHGcnJyhoeHJehnzpxZsGDB3/72N+m6+HP//v1Go7G9vV28+MRhu91uNpsHBwefOIXn9eDg4KDZbLbb7c/LAM18R0ZG8vLyLBaL5t1nf1FRlJaWlri4OMZYY2NjKAYA2MgpQig2P+M4t27dysrKevnll0dGRsKY9dRtjGGEQEkRASIwbQhMYbl248aN5cuX/+d//md0dLROp+vs7JRq5fDhw+vXr/f5fNJ18eeHH35Ico1zTnJN9Ap/4WPHjun1+qKioj/96U9Hjx71F028TnJNpKEZ9ng8ixcvJrmmCYcuEgEiQASAwBSWa93d3atXr759+/aqVasYY6WlpZIys1qtkzdddP/+/ddff136CBv2F/rx8fHf/e53W7ZseVx/PX/+fEFBwYULF0J8kORaKKAqKiqSk5Nv3LgRSmSIM0PkmmZzCJ3SU8bUbCZhb4xPaSQ9TgSIABF4GgJTWK7Z7XabzcY5d7lcjDGTyXTx4kVkMTIy8vLLL3d3d+OV8AY09U3YR4gn/hrY3t5uNBp7e3tDLLVmcUJ8dvKiPXHxJ8Ok8fHxoqKivLy8x/pmN0Pk2vP1H00/CXtjnAynojSJABEgAiESmKpyzefzlZaWdnV1cc6HhoYyMjIYY7W1tVjsgYGB5cuXP9ZECD4bSkBzfAr7CKE5DoViHsm1UCg9VhyoC5JrmtA0m4NmzMm4qNlMwt4YJ8NySpMIEAEiECKByZJrBw4cWLBgAWNswYIFBw4cCNGa0KPBwrWBgQF4pLa2ljGWkZExNDQEV9ra2kpKSqTPo+r0JVnj9XodDkdycjJsOF2xYsW1a9fUT1ksFogA/8V5LBghBgYGdu3aZTKZGGOJiYktLS3iptTR0dFt27bBXZPJtG3bttHRUXUWnHO73S7mwhjDLREPHjzYunXrvHnzIEJmZmZrayvkAgOn+CAqDI/HU1lZOWvWLMaYwWDYsmULZh10uNUs2tGjR7Fo6tFRGkQxi+PHj2dmZjLG4uLiIAW8YjQaGxoavF4vAMEUbt68WVlZCVt909PTsbAQTVGU1tbW9PR0xhisLevv70ekYFhvb29JSQljzN+qf0VRvvnmm5deekmv1zPGZs2aVVlZefPmTUhHqgusccwFLfnmm2+WLl0K/FevXv3tt9+azWYp08uXLxcXF0NxDAZDcXGxaDDnfGJi4rPPPgNK4EWff/4557y3t1e91FIiDz+vXLmyZcsWyKK0tPTu3bujo6N4ZenSpVKOAdwSK+7y5cu5ubkAuaysDE/P8dcc+vv7sZgmk+mDDz6QcMFPrGX4GTQ7KRGparCZAIfAjTGw50gZBagXznlg/+GcQ1dz/PjxmpoavV4PrRIunj17Fh3YYDCIjsc5t1gs2IQlRPAzxF5LXRy6QgSIwBQiMCly7cCBA6JcYIyFXbF1d3e/+uqr4+PjwPrixYsggFwuF1yxWq2h7N0T5ZqiKDU1NQaDwWazud3u3bt3Z2dna35PPH369P79+00mU1lZmdvtxoPf7HZ7XFxcYWHhmjVrXC7Xvn37zGZzdHT0iRMnwKrh4eH8/Hyj0fjuu++63W6bzWYwGFavXj02NqZ2mr6+voMHD6anp+fm5sIZcjBZeP369czMTIPBYLVa3W53c3NzVlbWw0G0vr7+YRHGxsY6Ojq2bt0aFRVlt9vdbvfXX3/t8/lgUDSbzbt373a73a+99hpjbPPmzaBocYxUmwFX/BXt1KlTGEHaFas5DBcXF+fk5Ox79Jeammo0Gj/66KMXXnihoaHB5XIVFRU9/K69d+9eSBNSKC4u/uUvf7lx40aXy9Xc3JyZmanX61tbWyGOoij19fU6na60tBSYp6amxsbGXrp0CQ0zmUy/+MUvvvzySxSXcAv/qyhKQ0MDYywrK6u5udntdlutVoPBkJaWdv36dc451kV6evrBgwexxjEFCLS2tur1ekjE5XJt3LgxJiZGr9eLcu3w4cMGgwErYseOHTExMSaTqaenBxLxer1VVVWMsYKCAqfT6Xa7a2pqPv7449DlWlxcXFFRUWVlpdvtrqysZIxt3LixvLy8qKjI5XI1NDQ81HyZmZm3bt2CHAO7JfhGcXHx/PnzGxsb0Xlwtahmc7h06VJsbGx2drbT6XS5XBaLpaqqSsIFP/35ib/spESwaqRm4s9jsTEG9RwpowD1EtR/UK4tW7asubl5YmICEof+59///d/T0tKgYVZXV+v1+vz8fNzqHliuhd5rScWhn0SACEwtApMi12BeTVRsCxYsCC8XXLgGycK3UcbYqlWrxsbGQl+4Jsq1oaGhlJSUsrIyHNR9j/40LdfUN/CiX1VVhfNDJ06ciI6OtlqtkIjdbjcajadPn8Y0W1paDAYDfNXFixiQRjLOuc/nq6ioEEd3zjkMJOLqPbFckNrIyMiePXtwOs3r9a5bty4pKcnj8YSyMzSUooUi1xISEq5evQomwVyRqL3gu3ZRUREIcSi+TqdraWlBJnfu3MnOzl68ePGdO3dQwezcuRNr7dq1aykpKSJzxpi0KQRTEy0RK45z3tPTYzKZqqurIWUwRprnENP54Ycf5s+fLw60iqI4HA5xSk8dh3N+/fr1tLQ0cF3O+d69e3U6HYhvMX0sLE6ywl317Bpj7J133gGzwWEYY6JhDodDp9Oh1wV2S3B10eW8Xm9JScncuXP7+vrABnVzaGxsNBqNZ86cwSLgyxVegYDk5KFkFzgFuBvUY8H9AniOlEvQegnsP+3t7YwxdCdIHC7m5uaiOOOcHzx4kDHW1NQEcQLLtcfqtaQS0U8iQASmEIFJkWuiUMNwGKHAiWsdHR1imp2dnTqdDqay+vr6li5dih9GxWhSWJQ1w8PDOTk5aWlpqCekyOJP9fgEny+lIerevXtLliyByRUIS2eLeDyepKQkfztYpZGMcz4wMBAfHy91+jiQ44SiWC7RbDEMgzRMH2oWRx1ZHH1v3769cOFCVLeSaOCcS8ZDFhifcw5AlixZcu/ePchLUZSysrKFCxfevn0bUxAjQLSmpibkbLPZ4uPj8bM4fJYqKytDXQXFFC0XywVhm80mil00pry8PCUlBRwpqFw7fPiw+kAZqF+cXXM6neo44DmzZ8++cOEC5ILSTTI1xI+hCAcedzqdjDGn04mpnTlzxmg0giAI6pbqiuOci1WgKfddLpdOp9u5cyfOJGHuUiCon6izC5wC3FXXu9gYOedBPUfMJXC9hOI/oMwOHz4sJgsXxarhnEstK7Bce6xeS8yawkSACEwtApMi1yZ7dk1auAbEoduCEz1aW1tDWbiGXyjwi2dHR0dMTAxjrLCw8Ntvvw0w0mjqG7vdjvNVYJU4xsMjqF/FAA7nkvdIIxnKMql/x/GyoqICUtCUa6Ojo4cOHdq0adOLL74IZ73iGizN4ojG+FNjoioKZXZNFKYiHMzLYrFgOhBBVHhYOlyiJC2cQqqYiLpSMC8MWCwWtSgUVRRqRywvPosBu90uCUesF6xfzTjgh4yxjo4OqAjY8owpYyBEuYZlhwdBE4hzcpAO1EVQt9T0DSlNdZzh4eHS0lJYoVhfXw9ToVgQMSA5uTop5CMWIUAKcEtd75K/BfUcMQuwyl+9hOI/0CSl1wbNi2o7Ja+TEIXea4klojARIAJTi8CkyLXJXrsGJ67hdz0kDh+eTCbT0qVLcZ4J72oG1LJmdHTU4XCkpqaCaBM/UogpSD0m3AqsaeCRkpIS8R8zhbD4eVTMRRrJnkaunT17NjY21mAwrF27tra21u12V1VVTQm5hloHybS3t+O3PIvFkpqa+sknn0hUOzo6YEWgulIwHQyEMtxKgyg+iwG1PnhiuVZXV4fJioHJk2sB3FLT1YPKNZjm/Otf/7phwwa9Xm8wGKSJJSyX5OShZIfPQkBKAS6q612qwaCeI+YCVvmrl1D8R93VqF8XxeLgkoDAs2vwSIi9llgiChMBIjC1CEyKXOOcT+rOUGnhGhKHhUGMsaioqBBPXNPsQ2EL2L59+3Q6nTgbhBnhMCzdDTxCwDcO6WOomKY6rB6HAn8MxfUuUrkURYHveuJG17q6uvDKNfich6W4ceNGcnIyii31MCwNn/CgenZNmlqAz1i4cMpqtarntNAGmCGTZpvEuxAO8DFL+jKrNgZTa2pqUjse1BdCCPAxFEoEToJDNSYOAZBr4qsI1KxYQLUTStIKRT94b1C3VFecerpLMw4a7/F4cnJy/J0wLDm5ZlLqImDiOPGJkOGWmoPkb0E9R8wicL2E4j9Sk4TEoVxtbW1iXuAzuPjSYrHgF3mIJk6Oig9OTEwE7rXEyBQmAkRgahGYLLk2eRTGx8dXr14tdXCYHZzogUMsXvcXEPvQiYkJ3CLAOYdVR9hpSinAoIIfH+Fu4BFCUZTq6mppq4GUrPQTBpj8/HycSoRNFeK6b9xqIG6HhGEAl/eNjo7m5+cvX778xx9/hCxgwX4Y5RoskDp48CAWAVZM4yCqHoal4RMeVMu16Ojor776CpO9evVqQkICbqeFNYvignGMCQF1pUgROOenTp2Kjo7WXCpeU1MT4lYDGETLy8vRix5+TN++fbu41eD7779PSkoSV/3jVgMokaIo77zzjrj9QrQWBvKSkhLMAmg8jVwL6pbqivMn18Tm8NNPP+HmD855XV0dKmyxRGqxFUp2mimIzURTpkv+FtRzxFwC10so/iN2NZgytNP169fj3nDM6NixYxDNZrOJu8shAmMM1PZj9VqYLwWIABGYcgSmklwbHx/3eDw7d+6Mior64IMPhoaGcNBC7nCiR+gzWGIfOjg4uHjx4pqaGrfb7XK51qxZYzQacds/ZgEB6PpNJtNHH33kcDi+++67UEYI2AOIZ3DAWR4FBQX+/lV4mDvR6/XvvffeRx99BFOGUiJwkIc0wIN0WLZsmcvlamxsHBkZASGLp10sXLhw2bJlYZRrHo8nIyMDj0Gprq5etGhRenr608u15OTkpKQkOF2lsbEx6LEXe/bsycvL++KLL6CmQpFrcKaD+iAPUVdJg73kD7Bpd/PmzYyxlStXOh/9FRQUFBYWxsXFIQTOORz2IR3kgSeGcM7hWA04fcP16O9f//Vf4SAPn88HWcBJMbt3705LS8vPz38auYZ60Z9bhqKf1M1h165d2dnZcCoK1JqoMkV68CwiCiU78XH46lpeXi41E3W9SzWoPphD8hwplwD1Eor/iF0Nptze3h4VFbVgwQI88WTNmjWMMfHN4dy5cyaTKSYmprGx0eVylZaW5uTkxMXFgVwL0GudO3duzpw51dXVQY+fRHsoQASIQMQSmDJybWJiYsOGDbiQ/OHLJa5eEuHC5BN+ExRvaYbFPnRkZOQ3v/kNnCKr1+tXrFhx9uxZzafg4vnz5+FfU3jhhRfg0NGgIwRM2uGJr3q9ftGiRZ988olad2K+Ho8HziYVtePt27erq6vR1KKiIslURVE+/vhjo9EIey/Gx8fFU1JTU1M7Ojref//9MMo1znl/fz+YyhgrKSm5cuVKXl5egGFYGj6hyOrZNYvFcu7cuezsbM1TcDnnY2NjDocjMTER3CMxMfHNN9+EvaWaGhrZigFFUf785z/DCXZwMu2uXbtwUhMngQJ8DIVpTrQEzkC+cuWK+pjcs2fPrlixAs7jNZlMorVgkngMsl6vf+mll3B1o1iPGRkZx48fl7xO+qmeCZM+hkKOcIQyHKsruWWI+klqDl999RUe8ztv3rz33ntPhCmSf3q5Bs1KaiZqDmp/C+w5opFB6yWo/4hdDaYMF0+ePPn73/8eWmtiYqLD4ZA6BDxHWq/X19TUgFOBXAvQa5FcQ84UIALTgMCUkWvTgDUVgQgQASIgEtDUcGIEChMBIkAEgADJNfIEIkAEiMDzIUBy7flwp1yJwBQkQHJtClYamUwEiMC0IEBybVpUIxWCCDwLAiTXngVlyoMIEAEioCZAck3NhK4QASKgSYDkmiYWukgEiAARmHQCJNcmHTFlQASmCwGSa9OlJqkcRIAIEAEiQASIwDQlQHJtmlYsFYsIEAEiQASIABGYLgRIrk2XmqRyEAEiQASIABEgAtOUAMm1aVqxVCwiQASIABEgAkRguhAguTZdapLKQQSIABEgAkSACExTAiTXpmnFUrGIABEgAkSACBCB6UKA5Np0qUkqBxEgAkSACBABIjBNCZBcm6YVS8UiAkSACBABIkAEpgsBkmvTpSapHESACBABIkAEiMA0JUBybZpWLBWLCBABIkAEiAARmC4ESK5Nl5qkchABIkAEiAARIALTlADJtWlasVQsIkAEiAARIAJEYLoQILk2XWqSykEEiAARIAJEgAhMUwIk16ZpxVKxiAARIAJEgAgQgelCgOTadKlJKgcRIAJEgAgQASIwTQmQXJumFUvFIgJEgAgQASJABKYLAZJr06UmqRxEgAgQASJABIjANCVAcm2aViwViwgQASJABIgAEZguBEiuTZeapHIQASJABIgAESAC05QAybVpWrFULCJABIgAESACRGC6ECC5Nl1qkspBBIgAESACRIAITFMCJNemacVSsYgAESACRIAIEIHpQmDmyrW7d++uWbOmra0tcFV6PJ7CwsLz588HjkZ3iQARIAJEgAgQASIwSQSmtly7ceOGy+V66623qqqqOjo6JEaKonzzzTerVq2aPXt2Zmbm8ePHMcLw8HBBQUF9fb2iKHjRX6CnpyctLa2np8dfBLpOBIgAESACRIAIEIHJIzC15VpXV1dSUpJer2eM2e12EZOiKA0NDQaDoaWl5dNPP2WM5eXljYyMcM4VRampqVm9evXY2Jj4SIDw3r17Fy5c6PF4AsShW0SACBABIkAEiAARmAwCU1uuAZG6ujq1XOvt7TUajdXV1YqiuFwuxti6devGx8c55ydOnIiLiztx4oQaqM/n27x58wsvvCApszt37mRnZ9fU1ASejbt161ZWVtbLL78MulCd/mNdaW9vNxqNvb29j/VUBEYeHBw0m82Snn6Odt68ebOkpIQxlpKSMjQ0FIol4E6RU4RQbH7Gcfbv3280Gtvb259BvkE9KvSWODIykpeXZ7FYntLsoCY9ZfoR8vi5c+fmzJmzc+fOCLGHzCACM4fAdJBrdrtdLdcaGxsZY01NTTCddvfuXa/Xyzn3er0lJSWrVq3SnFobGBiIj49fuHDh7du3JSdwOByxsbGXLl2Sros/PR7P4sWLSa6JTDjnETWSjY2NrV692mg0NjQ0fPTRR3fu3JGs1fxJck0Ti3jxww8/jBy5FnpLJLkmVmLQsM1mw341aGSKQASIQBgJTFu5BhpO/a4P467T6dSE2NXVpdPp1q9f7/P5pAh9fX1z586tra2Vrofr59GjRwsLC8XJHppdCxdbMZ0LFy7Mnj37cefJZohcUzuhiC5ywmF8AXgyuaYGFUaTkPP58+cLCgouXLiAV55vYHx8vKioKCoqqru7+/laQrkTgRlIYMbJNbvdPnfu3L6+Ps3Khu+qMCcnRYBuHRfASXef/qfdbjebzYODg5gUyTVEEcYAKHK1jg+cxQyRa2onDIzled0NozZ6MrmmBhVGk5BqpPUAHo8nKSlJ8+MD2kwBIkAEJonA1JNriqL09/fX1tZWVVU1NDQMDg5KH0Pv3r175MiRsrIyxtjWrVvdbndHRwd8+oS3wyVLlty7d08E2tfX53a7XS7XkiVLfvazn9XV1bnd7tOnT4txOOdWqzWA1JMiP+5P9QAQaZ3145YI40/GSIaJP26gvb2dMUZyTZOb2gk1oz33i2H0KJJrQWtzbGyso6PD7Xa/++67Op1u2bJlhw4dOnLkyN27d4M+SxGIABEIF4HJkmsHDhxYsGABY2zBggUHDhwIl7mjo6Pl5eVRUVHV1dUXLlw4dOjQ8uXLkyc0ekAAACAASURBVJOTxbVr33333aJFi2bNmsUYmzVrltlsXr58+a1btzjnQ0NDKSkp6m+db7zxhtlsjouLY4zp9fqkpCSz2fy73/1OMrupqYkxpj4xBKOpu/6TJ0++9NJLsHc1MTHx888/x8gYgJkbJvzBwmeQaz09PZ9++mliYiJjzGQyNTQ0wCI8eFxRlNbW1vT0dLC8qKiov78fU5YCOMhdvnw5NzcXHikrK8NuFyOID0qqEX6eOnWqoaHBZDIxxnJzc69du+b1evFKRkaGeGwKJtvf319UVAQ0li5devLkSTGj0dHRbdu2QZomk2nbtm2jo6MQAVJ4//33W1pa4uLiAuzAePDgwdatW+fNmwc4MzMzW1tbYYMIJCJgZv4WmE9MTHz22WdIddOmTceOHTMajeIn1LGxMYfDAb7HGEtOTnY4HGLVcM6lOOnp6bBxRK2KJM9BYsePH8/MzGSMxcXFHT16VFEUvALL76QcT548uXTpUiijRFjTnRwOx8TEBOfcnxN6vV6xmCtWrLh27ZpYaxjW9BPJezE7fAoC6vcoRVHKy8vFtyNFUcrKyuBdC/mInrxhw4abN29CghJPuHj58uXi4mKDwcAYMxgMb7311vj4OMb0eDwbNmwA58zNzfXXjvyBCmoS2BCggiAC/FftqzivH6DJY1mOHz+ekZEBryV4sb+/H1q90WiEisArer2+pqYGm5toCeccelSz2Qzo5syZYzabs7Ky/CES26BerxfrhXMOzn/9+nWHw4HdmtjY0eCbN29WVlZCpunp6diQwbwAHDjn0ISh7TzkIB3kBDb09vbCliPoB6D/ga5Dr9eXlJTcv39fQkE/icBzJDApcu3AgQPioMgYC4ti83q9VVVVOp2upaUFkQ0PD+fn54tyDW5JU25wEdYt+Ruk4TNZWVmZv+2fMDGj+akU0seOBn4eO3YsKipqzZo1LpfL6XQWFhY2NDTALfG/OB1oMpn279+PE3sw/q1duzYnJ8f56C8rK4sxdvDgQXhcUZT6+nqdTldaWupyufbt25eamhpgPwSMAcXFxfPnz29sbHS73a+99hpjrLS0FNbq4ZAjmqc5DL/yyivr1q1zuVw2m81gMOTm5r799ttZWVlOp3Pfvn1ms1k0A5KtqqrKysqyWq1ut3v37t3x8fEmkwlPs4N6NBqN7777rtvthmTxsBVIYdmyZa+99tqDBw9E88Tw9evXMzMzDQYD5NLc3AzE4IA9mCTYunUrTruqJ1BhYwpQLSgoAOwFBQUxMTE6nQ7l2vDwcGFhIWNs48aNULkFBQWMsaqqKtRP6JkQx+VyWSyWL7/8Ekcs8cO35DlYUzk5Ofse/aWmphqNxo8++uiFF15oaGhwuVxFRUUPFfzevXuRQGtrq16vX7lyJZidnZ2t1+uPHTsGEfy5k8vl4pxrOiEceWMwGGw2G9Radna2v63Kmn6i9l7IDm3GgMPhEFX47du3Fy5cyBjDZaZwxWaz4eYVtSeXlJQAf4kn5xzgmM3m3bt3Q1kqKipGHv3l5eXl5ORkZWVBMbdv367X67OzszW3oWiCCsUktMFfBSEKEPodHR1bt26Nioqy2+1ut/vrr7/2+XyBmzyUOiMj49VXX8W97XAxJydn2bJljY2NTqczOztbp9P94Q9/WLx48fbt27EfCLzzHSS10Wg8c+aMaKo6bLFYYmJiduzY4Xa7AWZBQQFulrfb7UlJSdXV1T//+c+bm5tdLldpaanYdsDg4uLiX/7yl9B2mpubMzMz9Xp9a2srZBeYA+cc+mp4HHokk8l07tw5eNxut5tMpl/84hdffvkl9PawAykmJgY6xh07duTk5IgtVF1MukIEnjGBSZFrMK8mKrYFCxY8fcFOnToVHR2t/pSpqcw0LwZegRR001N3dzf0nv7KIg0SFRUVSUlJ2G8qivLTTz/5e1Y94wI9Tn5+/vDwMDx19erVhISEoqIiOJEEirNz507Ul9euXUtJSbFarZq5gAgQRRLsk8U5DIiAogQSUQ/DjDEcF0F8MMbS0tKuX78Oj3R2dup0OtS1kKzRaBTlEZQFT1ex2+1ShJaWFoPB0NXVhWNhRkaGuBVDKqPP56uoqBBLBxuBq6qqTCbTxYsXsTiBP4YCVVF4TUxMVFdXi68EdrtdHDxQ5On1+s7OTvhZU1MjxUGD1XUteQ4QS0hIuHr1KjwFVokJDg0NZWRkoDP88MMP8+fPLy8vF/Vibm4uRgjqTmodCbPR4guM79EfFkQMaPpJAO8Vn8XpPfSZrq6uh7PRGRkZ5eXl4N7d3d1Go1H0B7GuJU+WeF66dCk2NlY0BnOHmCJYRVHeeecdnU4HeWFMMaCuwaCNK2gFielDWEKKlPw1eSiL6O0Pl3DAxejoaDy6CCx5OLmO54SPjY2tWrUq8KK0ALvmJcv37NmD05yKomzdulUUedAzi44qAQeDpddyOEoJLQza9XV3d4vV95e//CUqKqqurg5MBRscDgdaDm/yGAG6Dph4xjgUIALPl8CkyDVRqGH46csJckocPCBNTWWmeREauSRHIJFQ3h0DPA6JQEeDs3e1tbV6vb6lpQXlVAAI6gEAxtfDhw/jUz6fb/369fhZxGazxcfHDwwMYAT4YIQR8DoEYESRADY1NWFnChEkPtKYobYKVCxMe0BGsCQZVSMkq/4GbbVaQc7eu3dvyZIlUgRIBIzRtFwqHQwncNKeeAtqrbGxES6C/QHWrtXV1UkDHuf8zJkz+DEUrFWfBXPjxo3k5OSKigrOOYTVxoAN6rqWPEddXshUfFeBusYBzOl0qrfs1dXV4f4VdcWBzy9fvvzHH3/UNGx4eDgnJyctLQ1VowhWCgf1E3V2YgqQF/qAzWZbv379e++9hwW02+2o19V8OOdOpxPn5ySeMJuCkl3MF2KKEDjn4NIBnERdg0FNClpBolUQlpByzgM3ec2yqC9CNyJ1HXV1dfjapraEcx7044PmUzjRhTDtdrvaUWHfPaglMFh0dUhZ7KkCc1BbArWDPTO8HIrThN9//31SUtLKlStxZYg6EbpCBJ4vgUmRa5M0u2axWBjTWG+kqcw0L4qDrsQ9lE1PjyvXPB7PsmXLGGOpqal//OMf/S0NAUvUAwB01mKfwjm3WCw4AAMQFMQYwAhSGaHPUqsxnG3yFwFHQeh8xZ/4xi8mK3WO8FN8c8UiQ1IQAe0XA9DD+ktBLCDUDn47w1vwLKgo9eCB0TBgsVjUQ4VY9ZCgKE/hWRhm8vPzR0dH/RkDMdV1Dc/icAJZiEghgiTERWcAhxfRQRgrSz32S+6knl3jnHd0dMTExDDGCgsLv/322wDzDVL60k8ouGgwAseAzWZLTk6+ceMGaFOn09nd3W0ymbq7u0Hq4Uybpj+IQlziqVmnkC/ElN5hxOpG88SAugaDmhS0gsT0IaxmGLjJa5ZFQgEpqysCFIy/L92c8wC75iXLvV7vsWPHrFZrTk5OQkIC+KEo18RvDvAs0AP/1yyF1HIDc4DpbdiRtnbtWlx1h+0LPsjidw+Iv2fPHoPBoNfrLRbL5cuXQ3nHlgpOP4nApBKYFLk2SWvXnl6uBeiFQ3l3fNyPobDi9auvvoKFTbGxsWfPnvVXneoBQN1ZS+OrxWJJTU395JNP3P/3D3fCSnmpRYDUCfqLgEP+08g1UXyAYXioCuRbUlLyf8vxP7/g+6mmYVLp/CkkePax5Jo01yJJUkgwFLkmzoyK1qrrWhpT1eWFCIHlWkxMzN69eyWGR/53B19Qd9KUa5zz0dFRh8ORmpoKog0/zYslUjtGKNlJKXR1dcHn797e3vnz5/f19cF6NbvdDm9TqMXVfCRPlnhaLBZ1nULuUky4GKCjgAjqGgxqkt1uD1xBEg01Umj+AZq8Zlk0Lz6uXAvl4wPYD+tHYQ3lW2+95XK5/uM//gNfCP35GNCD+XhNg4EGfqEO3PV5vd7NmzfrdLr09PRNmzY1Nzf/93//d1xcnCjXNN9p79y5U1tbC3vONm/ejOsK1FVDV4jAsycwKXKNcz4ZO0PhHyrAzyUIS3MiTfNigK0G0rvjN998c+jQIcwCAvD6jstrpLu4TAQ7BTHChQsXzGazNNyKEdQDQNABz2q1Sl80xATV4aAjCkRAZQMpSK/daqvUYxukgxzgJ06NQLLwRQY+dcGorK5ZLIKm5XgXAoE/hmKtiXMwUgrwU5OqqNQDfwyFIQc+7uDnYCkju90+e/Zs8fhT+HgqERMFLoxhkv+Ig25TU5P6G5OYr7riJPXvbyiFRCYmJvbt2yfutxATV2uLULKTUsDNBHa7HZfcWa3WoqKio0ePms1m/O6v6Q9izUpDfoAjeKSYYJLapSVT1a01qElBK0jKQo0UzhIK0OQ1y6J5UfQcyFdq5pIx0seHkZGRDz74QHMhKaQjrlI9fPiwJNfE1z/ICNoXNFIwWHJ1+BCMn2s1GynaDNUnrvAD+7F9qasPn4V9Hm+//TZjrK2tTbxOYSLwfAlMllybjFLBemH4XILpw1JWcRk43NKUa/4O8oB3RxzthoeHV69erf4u0NTUhK93aIAYkHrG8Uf/RClEkFYaiU9BWD2EBx3wYEW/2CupkxWvBB1RQIiIe+Jgha/YvaqtUo9tkBF2jvAzISHhb3/7G9pz4sSJ6Oho2IymKEp1dbW01QBj4lYDUb6IdyHs8/lKS0vF5ee41UDcpioO6upEOOdtbW2MMZHq2NjY+vXrRR+DVYm4Tw23GkRFRcFOTFj5LhmD2TmdTnGHL+f84MGD4od+dU1pjmHioHvx4kWTySSu4MbsIKCuOE25JurIiYkJcYIBxjx/GlRKX/oJNogGS+YBw/Ly8ofnj+Tm5uIy8La2NrPZ/C//8i8o4Pz5g1izUksEZxO3j2DuUky4rnZpjA8BdWtVVxnoLVQqQStIygIfF08OCtzkNcuieVFdEYHlGnx8wBeqlpaWf/u3f1P/0y+cc2l/FTQEhACvBIyx7du344d1iIONFAyOjo7+6quvkAnsTMKt4oE5dHR0MMbEuW2pfanlmrSHBpbN4DsemkEBIvAcCUwluQabtxlj77zzDowiiqK0tLTAUUkbN270eDzjj/4GBwe3bNnCGNuyZcvg4OCdO3dgIQLIMvXKJLgOr61er/fdd9/dtWuXeu1C4Fc69ezaa6+9VlhY6HQ68WSKd955R50sVD+ohPXr17tcLhirgg54cLIJYwyOnHC73Xv27MnLy/viiy80XSroiMI5b2hoYIxlZ2c7nc7m5uZFixbBv7CJ4lVtlXpsg4wkubZo0aJ58+bBPnk4p0PcTHr9+vW0tDQ8gwOIFRQUwF56TcvVZZQSgYM8xE1/OATiShp1IiMjI/DxGo5HaW5u/vnPf7527VrcasA5lw7pcDqdBQUFOp0Ot9pxziVjnE7nhg0b4CAPj8eTkZGBB2RUV1cvWrQoPT1dIibKUxjDpCkHcdDF1pGVldXc3Ox2u5ubm3/1q199+OGHUEZ1xanlmuSEg4ODixcvrqmpgUOk16xZYzQacYOhhE5KX/oJkUWDpcfhJxggvh4MDAzA2iORhqY/BJBrajh1dXXiQR5IHsxQu7RkrQQqFAWptkGqICkL/AS/bNkyl8vV2Ng4MjISuMlrKjPNi+qKCEWuwQKAvr6+oqIi3AYume1yuRhjeFhJTk5OXl6eJNeMRmNaWhqecJSdnS1uUwWDk5OTk5KS4GiVxsbGh9+RxZefwBxg30B8fDwc2lJZWZmVlWUymbCW1XKtt7c3PT0dDh+Bs05wX3ZbW5vBYMB2JJWXfhKBZ0ZgKsk1eP9uaWmJiYlJTU21WCyZmZkP3/W3b9+OK6zbH/3hTwiIg1xtbS3OqIuUv/zyy1mzZhUUFGRkZOzYsUOcVIBo0Imo9wOKiUg945/+9CfxGNU//vGP6mTx8Ye34Iwixhh0i6EMeHAQK5w2yRhLTEx888031f8+PeQSdJCD6Sg87TYuLq6lpaWtrU0cPtVWqcc2Tbn2/vvvd3R0wBIog8FQWVmJu/3BPI/Hg6di6vX6RYsWffLJJ0BM03JEJwZu375dXV0NhyTr9fqioiJpvaA4qIsPimHxwN7ExESHw3Hq1ClRrsGKrvfeew/P4126dGlnZ6ekxaFEYIzBYCguLsbPeXhCKZyKcuXKlby8PBxO1OUF1xI9WS22xNN9H/473HPmzCkvL//HP/4BRVNXnDoFyQlHRkZ+85vfIMwVK1ZIMEVoUvrST4ipVgliCpxz+KItFhNXTeELQyjaSGqJ6nNTk5OTP/74Y5/Pp46JOkkUiJKdEqhQTEIb4PhldQVJWUB39/HHHxuNRjgcEWbrAzR5zbJoXlRXRGC5NjIyUlJSEh8f//LLL7/44ov+/hE/dQeyf//+zz//XJJrZrP50qVLmzZtgjdt6QhcNPjcuXOg5KAhS6fyBuDAOcfTpPV6/aZNmy5dumQ2m7F9qeXa4ODgK6+8gkcov/rqq9hwSK6pPZOuPBcCU0yuASOv1zs0NPRwCg36r5GRkcHBwfuhnUANh7fhmmUR+vj4+ODgIB7nKN7inMNqJPxGI92ln0SACBCBaUxAUZQ7d+7cunULP2I+WWHVUklKB+WadJ1+EoEZTmBKyrWnqTM4EDLwJJlm+g6HIykp6fvvv9e8SxeJABEgAkQgKAGSa0ERUQQioElgxsk1zvmxY8dMJpO/JTiamGDFfYCVZ5pP0UUiQASIABEQCZBcE2lQmAiETmAmyjWfz7d582bcZBQKrL179+bk5Gj+G4KhPE5xiAARIAJEIPBhMcCHPoaSnxABTQIzUa7Bzr6CggJxH58mHbjY09OTlpaG/xh5gJh0iwgQASJABAIQoNm1AHDoFhEIQGCGyjXO+d27d9esWRP0IESPx1NYWHj+/PkAEOkWESACRIAIEAEiQAQmj8DMlWuTx5RSJgJEgAgQASJABIhAGAmQXAsjTEqKCBABIkAEiAARIALhJ0ByLfxMKUUiQASIABEgAkSACISRAMm1MMKkpIgAESACRIAIEAEiEH4CJNfCz5RSJAJEgAgQASJABIhAGAmQXAsjTEqKCBABIkAEiAARIALhJ0ByLfxMKUUiQASIABEgAkSACISRAMm1MMKkpIgAESACRIAIEAEiEH4CJNfCz5RSJAJEgAgQASJABIhAGAmQXAsjTEqKCBABIkAEiAARIALhJ0ByLfxMKUUiQASIABEgAkSACISRAMm1MMKkpIgAESACRIAIEAEiEH4CJNfCz5RSJAJEgAgQASJABIhAGAmQXAsjTEqKCBABIkAEiAARIALhJ0ByLfxMKUUiQASIABEgAkSACISRAMm1MMKkpIgAESACRIAIEAEiEH4CJNfCz5RSJAJEgAgQASJABIhAGAmQXAsjTEqKCBABIkAEiAARIALhJ0ByLfxMKUUiQASIABEgAkSACISRAMm1MMKkpIgAESACRIAIEAEiEH4CJNfCz5RSJAJEgAgQASJABIhAGAmQXAsjTEqKCBCBcBJQFOXQoUPr1q0bGRkJnO65c+dWrVrl8XgCR6O7RIAIEIEpSoDk2hStODKbCEwZAn19fU6n02q1VlVVnT9/XrL7wYMHtbW1qampRqNxy5Yto6OjGKG1tXXx4sXXr1/HKwECjxU5QDp0iwgQASIQgQRIrkVgpZBJRCBsBMbGxt5///2ioiJRBoUt9dAS2rt3b0JCAnv0197eLj50/fr1zMzMlStXDgwM5OTkMMba2togwqVLl8xm87Fjx8T4AcKKotTU1BQUFASdiguQCN0iAkSACEQmgZki1wYHB81ms8ViCVANvb29RqPRbrdDnP379xuNRml0CfD4VL81MjKSl5cXGFFYymixWMxm8+DgYFhSm6RE+vr6EhMTq6urfT7fJGUxqcn29fXt2bNnw4YNRqORMZaXl/d8RYyiKGVlZYwxsUH5fL6KigqTyXTx4sXh4eGcnBy9Xv/1119zzr1eb8mjP6/Xqwbl8XgyMjJee+21iYkJ8e7Vq1eTkpL27t0rXgwlPNMae2AmQbsCRVHefPPNuLi4CxcuBE4qou7a7fan7HmmerfwzKojFA8JZVBWGywOH7du3crKynr55ZdD6dxCbOORXMVTVa4NDAzEx8cnJyffuHFDXaPqK6F4hiTXPvzww2cp1+7evfurX/0KxaK6CJN9JWgfHS4DxPYWrjTDns6FCxfi4uKmkFxTFKW+vj4jIwM+HXZ0dFRVVTU1NTkcjqeRaxcuXCgtLQ3LzJzFYpHk2tDQUEpKysKFC2/fvs05Hx8fv3//PlTliRMnZs+e3dnZqVmzTqeTMWa1WqW7iqJUV1dnZmbeunULbg0PD+fn52/evDmw7H7GjV0yO9J+Bu0KfD5fdXX1DJRrU65beF6uFYqHhDIoq+0Xhw+Px7N48eIQ5VqIbTySq3iqyjWHw5GamhobG+tyudQ1qr4SimdIck2dyCRd8Xq9TqczJiaGMRZUrt2/f//11193OBxPacz58+cLCgrEl+OgffRT5oiPi+0NL077gBp4eIt8+vTp2NhY9afD9vb2p5Frvb29a9euDeXlNWhx1HINWqV65k9RlPLy8iVLlty7d08zWavVyhhzOp3qu11dXXq9XuwWzp07Fx8fj99Y1Y/M8CvqLuWZdQVByR89erSwsHBoaChozFAiPP3sWii5PIM44cXyDAzWzCKUQVn94MwcPoDDlJRr8N3k/fffLy8vX7Vq1djYmLpSpSuheMZzkWstLS3wuSo3NzcqKiqoXIOCBI0mFV/9s7293Wg09vb24q1n1kfPzPamBo7knz4wNja2evXq0tJS9RzSVJRrN27cSE5OVk+eAagff/xx+fLlc+fO7evrU6ODZ8vLyxVFgbuKorzzzjs5OTnDw8Pq+HRF3aU8s64gKPzwCqzwphbU+MmLMD0KEsqgrGY4M4cP4DAl5dqpU6cSEhJ6e3s7OzvnzZt38eJFdaVKV0LxjOci1xoaGgoLCy9fvhxi7uq+VSppiD/V6uGZ9dEzs72pgYdYU6FEO3XqVFxc3KlTp9SRn5dcm5iYOH369FtvvVVVVdXc3PzgwQNpdu306dP79+83mUzp6ekHDx50u90ov7q6unQ6nTR55vP5vv76a7fb7XA4jEZjamrqJ5984na7peUQ4+PjRUVF+IEVgFy8eHHevHn+Pq2qoc2oK+ou5Zl1BUE5h1eXhDe1oMZPXoTpUZBQBmU1w5k5fACHyZJrBw4cWLBgAWNswYIFBw4cUEN/4iuwPAUm1YaGhjIyMmpra6XUFEX55ptvli5dCpvRVq9e/e2330pbDSYmJj777LP09HTGmF6v37Rp07Fjx8StBtL4Ci1kYGBg165dJpOJMZaYmHj06FF8ieecP3jwYOvWrXA3Li5u//79dXV10iSWZCr+DEWuwYAHhWKMiSlfvny5uLjYYDAwxgwGQ3FxcX9/PyYuBqCRYCL4pQz7aI/Hs2HDBr1ezxjLzc2V0rl582ZlZSVklJiY6HA4NBeDY44ejwfjp6amdnR0bNy4UVrwe/LkSayspUuXnjx5Eh+HWujp6fn0008TExMZYyaTyeFwiGvMobpfeuklsHnWrFmVlZU3b96UEjl16lRDQwPUTm5u7rVr17xeL17JyMg4fvw4PiKNYaGYASWdNWsWVAGeSeEPOOc8RMuPHz9eU1Oj1+vV3w3BYJvN5u/T4XORazdv3szPzzcajXV1dRcvXmxqasrKyoqPjxfXrr3xxhu4XTQhIcFsNuMWgcbGxqioqO7ubqwOzvmtW7eWL19uNpuB8KxZs8xmc0pKyokTJ8RonHOr1Tp79mzxQz9oOHHKTXpEauxer9fhcCQnJ0MzWbFixbVr16RH4KdUg4mJiS0tLWKfID3V39+P7dRkMn3wwQcQAQx4LBcNxX8452NjY2JZkpOTxTar2aWE0hVIiiHs3SP0h2I3hbugRkdHt23bBg3ZZDJt27ZNWlsptkS9Xl9SUgJrIjWNFOsraDOXugXOuTSOlJWVSeOIBOqhfyJe9A1FUVpbW3EwKioqknpdjBkAS+CKxhTEgAjKYDBgl3Xq1Kno6GhpYIWPWvg5K2h2UsFDGZRF2yAcePgQSQa1WWrj4EXz5s0DAYBOoq5iqY37G18CD1Lqoj3BlUmRawcOHBCbGWMsjIoNPnbA4i2QbtKbNOe8tbVVr9dnZWU1Nze7XK6NGzfGxMTo9Xps8LAuW6fTFRQUOB/9FRQUxMTE6HQ6/M4o1a7dbo+Li3s4E7ZmzRqXy7Vv3z6z2RwdHY1TGrCo2WAwWK1Wt9u9e/fu5OTkOXPmiKIqQA2FItdwQqKsrMztdh85cuTu3buc88OHDxsMhocj2e7du91u944dO2JiYkwmU09PjzrHsbGxjo6OrVu3wrdXt9v99ddf+3w+cP2cnJysrCybzeZ2u7dv367X67Ozs+/cuQPpXL9+PS0tLT4+HjKqrKxkjNXU1PgbnyB+TEzMjh07wLB58+YZjUZRrkFlrVy5EioiOztbr9fjGiyohbVr1+bk5ECErKwsxhguTlIUpaGhgTEG1e12u61Wq8FgSEtLw/O6IJFXXnll3bp1LpfLZrMZDIbc3Ny33347KyvL6XRCbcbGxl66dAlKKjXaoGYAPayC1157jTEGK9z9AQ/d8mXLljU3N4sKVazW0dHR/Px8f58On71cg4ZgNBpPnz6NdoIniHKNcw6QRWeA+BUVFQFaDSxcO3z4MCYuBex2u06n6+rqEq/b7XZ1R4ERxMYOB4IYDAZoBbt3787OzhaXDeBTnPPe3t7Zs2djN5KVlaXX6/2tk7t06VJsbGx2drbT6XS5XBaLpaqqClJ7AhcNxX+Gh4cLCwsZYxs3bnS5XE6ns6CggDFWVVUFb1maXUooXYE0GIe9e7x79+6RI0fKyspMJtP+/fvdbje4E3rXu+++63a7oS2vXr0al8T09PSYTCbsc5qbm199kYW3kAAAIABJREFU9VVY/ebPSFT8QZu51C2EMo5IoNRyDRMpLS2FkQWWZWNfJPpbACyBK1pMBMKBu6xVq1ZJb4Dd3d3R0dHQ8Qb1K865VPCgg7LawqDDBxQBhvWxsbHANottHFaPxMTENDY2wsCUk5MDhxWoqzjE8SXAIKUu2pNdmRS5BvNqomJbsGDBk9mnfuqhQ8+dOxc/gHZ1dRkMBvEzxw8//DB//vz8/HxcqqIoCuyPQ7kG2gj7LHhJqq6uFhf7i7ULzid2c5zzEydOREdH4zBpt9v1en1rayvaDN4WYODBmNDvi3N74i0xLDkT51xdXs45ZI1vQmIKEJZKh52IWARY9IMjHxy7kJKSgjMNiqLs3LnT3yoiPKZBVI0XLlyIjY3FERqMLy8vxym64eHh3NzcoqKi8fFxzjmoDbE2r169mpCQgBHUVck5hy67uroadCQkUlJSgrnY7XbGmCjpOjs7dTpdU1MT8JE4BzVjZGRkz549+Jbv9XrXrVuXlJSE5+yrgYduORZEXY8oetByKc6zl2sul4sxtn79emkhnfQxFC1HZ0DLA3zvuHfv3pIlS/y5HKQA+0bFE0PAkaQpN8wO7mI7hf2qZWVl+BLie/Qnxsfwd99919raijGvXLkSFxcnPosxOeeNjY1Go/HMmTN4EZwc/fyxXDQU/1F3SiAOHr7NYp8puXooXYF6MIYGJfaoYekepSEf8pXeBFpaWgwGA6jzW7duZWZmiu0aUYfShwdt5hIrmNERS+31equqqsRxRF0EUWRgz79z5070omvXrqWkpODIIhYBwuo0Q6loKZ3AXVZTUxP2/PCg1WrFoxhCyU40Uj1IqQdlybxQhg+JZGCbxR74woULs2fPrqurw0y9Xi+8D0tVHEorC+o2mMtTBiZFrolCDcNPaSg8Dh81RBVy+/bthQsXiousDx8+rNPpsDOCBz0eT1JSEsq1uro6OO1JtOrMmTOiYBJrF7sJsauFrKFrBr8RDYOUw/sxFEc4nALknDudTnV5weAQxycwFYqwfPnyH3/8EbF0d3dHRUXByAeHp9hsNrzLOQdo0tAIEYC5JDXg/C0coZ1Op/qzV11dHUaAliBOpYAPoJ02m01dlbC1MCUlBd6q1YlAucSygLXYRUqNVp2CZIbIBMJ2ux0VgCQIIMKTWa7OqK+vb+7cuZpVgDrA31dUMbXvvvvOrfqz2+1ZWVmwtky8+fnnn8PpG2IKnHOfz7d+/XrGmNgVQpywyDUoLNa+lDv8hMqSgPT29prNZn+TZGJjh48+aWlpV69e1Uw/wEVoRP5ou1wunU63c+dO9USp2sGCumhQ/wFpq+6U4ANFRUUFFERydZRrEmSxK4DuBRvp5HWP4pDPOYcSSW8C0HKhS2xraxOVqFRT0CTFPhwSxHFBXQtSM5dYhTKOSEVAvJipzWaLj48fGBhAa6GT9OdFavghVjSm7y8gdlnff/99UlIS9t6w7gh+hpidWPBQBmXJqlCGD0muBbBZ6oEh5sqVK+HzlJi1VMVBWxn2sQEGKTH9pwlPilybvNm1ixcvmkwmaSJBcne73S55P6ocbCEWi0Wa6cW3HFRCYg+ubiHY6qBRQR2Lwz/UitgAAtcTqHjM3V9kyZnAMHV50Yc6Ojo0k5JKh8WRJgZEqyCM+lsMaJoN8aUF45xzce4EXsrFpCCMQkdtp5SCZlUCFlSr6kTEcgEfAIseInFWpyCZwTkfHR09dOjQpk2bXnzxxbi4OGlxoTqF0C0XBxh1bUJZJHWC0WAECtD1Y8ywyDXoQMXZBUw/RLkmCXp8HAKHDx/WPHFNjPaUco1z3tHRAQfrFBYWfvvtt2p1JWb3ww8/NDQ0bNiwISUlBdbV+aM9PDxcWlrKGIuLi6uvr8c1BtJYAokHddGg/uOvU4I6ys/Ph8lgydVD6QrU/aE4NoP9onL1Z0nQ7lFKFtJRdxeMMWi5mp0/VpbdbhcnvLGkWF/qRio1c4mVZhVIFScVATPFrkZaPoilE9UwFgECUpr+8EoVLSUSuMuCN96Hh1HDG29bW5vRaISVPyFmJxqpWS+QDnKQzAOMgYcPKCCmEMBmqYkpirJnzx6DwQBLpC5fvoxTm6FUcdDxRXIbqWhP/HNS5NrkrV2rra1Fb5YCeBSZuk1qyjXp3TEsck09oxC0P8Kakxo5XpcCkjOFXa6h60O+olUQfuONN8RZFgjjnj7RWogvvnPAXUmuPVxmt3fvXilNXJYXtAPV7DGDNiexXGCV1HdInIOacfbs2djYWIPBsHbt2traWrfbXVVVhaJT6iyQg/qdIajlImEIw8T+08s1dcrQKB7r3DXoQJ9GrgXu6YIuXIP5ZmmRHBQkxNk14DA6OgqHOzLGCgsLcWWFSAlXjyUmJloslj179rhcrqysLBz+xcgQVhTlr3/9K2zlMRgM2DrUDhbURYN6Pviw+h1SGsUlV1frCbBcskccjMFpJXkBuQAKyOIJukcpF0inpKRE6i5wZZtm54+1IKWGJcX6UteC5I0SK4vFEnQc8Zcp9rQWiwW3OYvl6ujowAV5WAQISGmCVUErWkokaJfV2dkJC418Pl9paSlO04aYnWikZr1AOshBMi+U4UOSa5xzfzZr9sB37typra2FV+vNmzfDUhl1FT9ZLy0Oc1LRnvjnpMg1zvlk7AyFOdjc3FzRp91u96effpqZmYnnKjU1Nam/r8GHPPQMq9WqnpGC2X6cKJKaruh8gFvsj2C9izRLzzm32WzimB2gnqTe0F9MyZkCfwwNsMRHKh32XIgIDBCtgu9Q6k7Bn6ma8eFjGfbsmpUlJqi2U+pAA0xW49JydSJiuSA7qe+QOKtTEM3Ab6+4qo9zLn0HV6fwZJaLcETL1a+hcDf02TV1yk8g1zjnFRUVjDG1n4Q4uwYpaLYa6cQ1n8/38ccf//3vf5cs19xq0NHRYTKZxO2i4lPq2oG7ExMT+/btE3cgiU/hGW+4JhIsxOFfjCyFPR5PTk4OLgZSGxDURYP6T+CPVv6++4fSFaj12SR1j1KysP5E3c0i2ybViiu8pbYZS4r1pa4FsZnjaz+OEaGMI3a7Haf5wRhwG+xpNRMRzVaHJSwhVrSYTihdFiRbXl4Oy4Vxd1eI2YlGavbz0qAsmsc5D2X4UMs1fzZryjXIcWxs7O2338Z/rVjq+YO2Mn8pTyW5JqEPy09YDK45LNXW1uImTejmxNXrD79lbN++HSfMOedtbW2MMXF159jYGKy5waYoNV3R+aA4olyD9w9pDezf/va3hIQEzYFHDUTdO6vjYH+B60445/AZXlyMj1sNxA1TUmowioufStWuL804wtYbcauBlKb0ExKU4n/11VfR0dEo1+DrtlhZUiJSLcBdsSWoV/viVgPcsqpORE37aeQa7M0U37Pv3LmTnZ0tVr0a+JNZLvGBLxoRtTP02LFjetWZI7D3Qpr0AuboDFg0zYM8sAfHl93Tp09rzvxZrVb1i0pjYyPKd8wIA6KHTExMoPzinEuLGvERzrl6wTKsr8fhX4zMOf/pp5/wmwsIerRTNACeCuqiofhPbW2tuHkIzv6or6+PiorCzddQC2KXErQrUEufSeoeJa0DRwFI3awIGYSF1BlihMBGhjLuSmN5KOMIbHw5ePAgmnHw4EFxMIJxTRyMMKa/gISFcx5KRYuphdJlQbLJyclvv/02vldAIqFkJ9IOZVAWzUMlHXj40HTU2tpaTZvFJiZtHoIV2LDISqriUFqZmDKWQhyk8OJTBiZrdu0pzVI/DnpIPSUGMcEbYCGkz+fbvHkzYwzPhigoKCgsLIyLi8MXmpGREdjQDnunm5ubf/7zn69duzbwVgNpXAFfwa753LlzJpPJaDTCDvOHR1fMnz+/uLhYHLPV5cIr6t4Zb4kByNRkMn300UcOh+O7777Dg0vwFAk4yMPf9ihIDbJbtmyZy+VqbGwcefSn/ifeJaukTfIul+u3v/3thg0b/P0jRbDyFw/+sFqtWVlZD4/kQJKwT008hqO5uflXv/rVhx9+CHYGbQnqFOAgD7HLVicilQt1MHqI1GjVKUiv3fCZHrfiL1y4cNmyZWLVq4E/meWiM2DYZrPh7DJcHB8fH3z094c//AHw/v3vfx8cHLxz546oGDAFf4En+EeoYHOcTqdrbm6GvCYmJnbu3AmrF37/+98PDQ399NNPd+7c6enpiXv019PTMzg4OP5oLzDnXPOYXJRrMLly8+bNdevWiZuOseBFRUUo6eAizOmKG5Kk8or1Ozg4uHjx4pqaGrfb7XK51qxZYzQa8awH8UHYlIBN3mazpaenp6SkYJ8gRuac79q1Kzs7u7m52e12NzY2xsTE4FZQ0QB4KqiLhuI/cOyFdJCHTqerr69HN1B3KZqjoGSPOBir1RsOt4jiybpH0EPr1693uVyw3AX2vON5SXCWR0FBAZzCoO4M9+zZs27dOjzIA3segCz14epakJq51C3AeRCIF8aRgoICcRzxeDwZGRl4Lkx1dfWiRYvS09Oxq8HNpHAcjNvt3rNnT15e3hdffCH5D/5UYwmlovFxCATtsjjncL70rFmzcM8BPBtKdqKHhDIoS+bBrIperw8wfGg6qj+bxcrt7e1NT0+H46WcTmd2dnZCQgJsLZKqOJRWJqaMpZjRcg3mkPxNg8PED74BwCmXeKrqtm3brly5Ih2TK561CMe9njp1SmxmUh2IzgdVIjV1znl/f39RUREc1grHvYZ97Rrn/Pz58xkZGQ/PHnvhhRfwNMWzZ8+uWLECsjaZTG+++abmxj10JkVRPv74Y/j3r0pLS8fHxzVdX+qjOeeXL1/GMhoMhuXLl3d2dmLXj+ljAI/A1ev1cPyj5MfiOZOMsTlz5pSXl//jH/+AFKRagItSCoqi/PnPf4bz2OD44l27duGZGpovzepyQSvFPlRqtEHNGB0d3bJlC5weDKcBv//++6JcUwOHqY7HtRzBigH1v2oAk3nS+k48Ell8NnD4CeQa59zr9e7ateuf/umfsrKyLBZLenp6fX09zF7DDozu7u68vDzJPFx+B40dv9ahhT6fb+vWrbNmzVq9evX8+fO/+uorvIUB+NIkjS4XL16cO3cufs3ByBgQ63dkZOQ3v/kNbBrQ6/UrVqw4e/YsxpQC/f39ubm5UJDVq1d/9913eY/+NF9gvvrqq8zMTIg8b9689957D71UNACyCOqiofgPTL6+9957cBwoY2zp0qXqBit1KaF0BVJ/KP1Uy7Un6x4fTnPC6Y/i53Xx6FS9Xr9o0aJPPvkEJ0SlQ03nzZtns9lgEVhQI9W1EFiuAV7xzN6GhgZpHIGCo5OUlJRcuXJFejGGI2dhwIIeLHAHrolldHQ0aEWL3hu0y4IzlletWoVfrqTHA2cn0Q5lUBbTh3Dg4UPTUUEMqG0WK3dwcPCVV17BU+VfffVVHHGknj+UViamjEWQBim8/jSBKTO79jSFfI7P1tXVSQsXnqMxlPV0JQBv+RUVFdJRZ09f3ieTa5AvzPANDQ3BUHr//v3BwUFNHSPZCVPp0gwZxrl//z6miRcxoD6IEY4PFE97xsgUeL4EpmX3qNbZzxcy5T5tCJBcm8SqBJkfYMXMJOZNSc8wAqdPn46NjcUFSeEq/YULF0pLS3ESKFzJBk0Hd3gFjSlGgLVN0nfhc+fOxcfH+/uXBsTHKfwsCUzX7pHk2rP0ohmVF8m1Saxu+Gc3cMH7JOZESc94ArDGIiMjA//prSmNBOYLcWlXiGW5evVqUlKSuKwbFtnAvwYWYiIU7dkQmK7dI8m1Z+M/MzAXkmthq/Qvv/xy5cqV9fX1brfb6XS++uqrjLF//ud/xjWwYcuJEiICM4AAzIqFPl8I/9bn4yq8GQAyIoo4c7pHkmsR4XDT0QiSa2Gr1b6+vlWrVsEKZcZYcnJyfX39gwcPwpYBJUQEZhiB1tbWxYsXhzhf+FiRZxjI51/cmdM9klx7/t42TS0guTZNK5aKRQSmPgFFUQ4dOrRu3bqgGxTOnTu3atUqj8cz9QtNJSACRIAIaBAguaYBhS4RASJABIgAESACRCByCJBci5y6IEuIABEgAkSACBABIqBBgOSaBhS6RASIABEgAkSACBCByCFAci1y6oIsIQJEgAgQASJABIiABgGSaxpQ6BIRIAJEgAgQASJABCKHAMm1yKkLsoQIEAEiQASIABEgAhoESK5pQKFLRIAIEAEiQASIABGIHAIk1yKnLsgSIkAEiAARIAJEgAhoECC5pgGFLhEBIkAEiAARIAJEIHIIkFyLnLogS4gAESACRIAIEAEioEGA5JoGFLpEBIgAESACRIAIEIHIIUByLXLqgiwhAkSACBABIkAEiIAGAZJrGlDoEhEgAkSACBABIkAEIocAybXIqQuyhAgQASJABIgAESACGgSmklwbGRnJy8uzWCwa5ZgBl2Z48cNVwxaLxWw2Dw4OhitBSucJCOzfv99oNLa3tz/BsxHySG9vr9FotNvtEWIPmUEEiMD0JkBybcrUL8m1sFRV5Mg1qNCZOd5/+OGHJNfC4s+UCBEgAjOEAMm1KVPRU0Ku3b9///XXX3c4HBGLNWLl2vj4+O9+97stW7ZELDoyTCQwQ2bXjh49WlhYODQ0JJadwkSACDx7AiTXnj3zJ8xxSsi1wcFBs9kcyTNGESvXpkT9PqHvTsfHZohcs9vttHhgOvovlWnqESC5NmXqbEoM5yTXQvcnqFCUtlOifkMv3bSPSXJt2lcxFZAIRBSBKSnXbt68WVlZaTAYGGPp6emtra2KonDOXS4XY6ypqUlEPDw8nJOTs2rVqrGxMfE659xisTDV37x58/7+979DzJMnTy5duhSiLF269OTJk5hCe3u70Wg8fvx4TU2NXq/Py8sbGRnhnD948GDr1q3z5s2DpzIzM9E8fBYDVqs1Pj5+YGAAr9jtdp1O19XVhVfq6uogDg7nHo9nw4YNer2eMZabm9vf34+ROecinMTERIfD4fV6IQJqqcuXL+fm5jLG9Hp9WVnZ3bt3xRTEsKIo33zzzUsvvQTZJSYmtrS0AG0xGoQlnkajsbe3F249LknAe+rUqYaGBpPJBCW9du2a1+vFKxkZGcePH1ebIV7xeDzoKqmpqR0dHRs3bpRmCy5fvlxcXAzuZDAYiouLJaSKorS2tqanpwOxoqIiMUJ/fz8+bjKZPvjgAzAAitDT0/Ppp58mJiYyxkwmk8PhmJiYEC2EsN1ulzzR3zJ8KNGsWbMYYwaDYcuWLaOjo5AIeojoA2ID4ZyjD/T39xcVFUG1Sr7NOR8dHd22bRuQN5lM27Ztw1wkJ9fr9Rs2bLh586Zkw/HjxzMyMhhjmgUBOOgeMIUzMDCwa9cuyDQxMfHo0aP+PI1zPjEx8dlnn2VmZmJDE50hcIKP21FgdugDmzZtOnbsmLTVYGxszOFwJCcng0nJycli6wM+Upz09HSAoJ7EwtqEB7Hijh8/DqWOi4sDRHjFaDQ2NDRge4cHgzY9fy4KelR0S9zmdfLkSbFP+PzzzyEv+i8RIAKTR2DqybXi4uJf/vKXGzdudLlczc3NmZmZer2+tbWVcz40NJSRkVFUVDQ+Po7Iurq69Hq9y+XCKxg4ffq0W/h7/fXXMSnOeWtrq16vX7lypfPRX3Z2tl6vP3bsGDwO482yZcuam5txAL5+/XpmZqbBYLBarW63u7m5OSsr6+EYX19frznwdHZ26vX6trY2SHN8fLyoqIgxZrPZxCvr16/3+XzQfefk5GRlZdlsNrfbvX37dr1en52dfefOHYh//fr1tLS0+Pj43bt3u93uyspKxlhNTQ3kDj1+cXHx/PnzGxsb3W73a6+9xhgrLS31+XyQgvTf3t7e2bNnFxQUAISsrCzRYCny6dOn9+/fbzKZysrK3G73kSNHQAg+AUnA+8orr6xbt87lctlsNoPBkJub+/bbb2dlZTmdzn379pnN5tjY2EuXLklm4E+gERMTs2PHDrfbvWPHjnnz5hmNRlGuHT582GAwmM1mILZjx46YmBiTydTT0wPpKIpSX1+v0+lKS0tdLte+fftSU1Mx30uXLsXGxmZnZzudTpfLZbFYqqqq4EEowtq1a3NycpAeY0zTFfv6+g4ePJienp6bmwsueePGDSwIBsAH0Fqovs2bN0P1wd0ADQTlWlVVVVZWFnjp7t274+PjxSIPDw/n5+cbjcZ3333X7XYD/NWrV+MLj8ViQarghAUFBfC6AjZkZGS8+uqrHo8HLZcCarkWFxdXWFi4Zs0agGw2m6Ojo0+dOiU9iD/b29sZY9APgDOYTKZz585BBLvdHiDBx+0o0AewIRQUFMTExOh0OpwcHR4eLiwsRJOcTmdBQQFjrKqqCvUTgMU44DBffvkl5zxEuVZcXJyTk7Pv0V9qaqrRaPzoo49eeOGFhoYGl8sFvcfevXuRUihNz5+L3r1798iRI2VlZSaTaf/+/W63+/Tp05zzY8eORUVFQU05nc7CwsKGhgbMkQJEgAhMEoGpJ9d0Ol1LSwviuHPnTnZ29uLFi0Gy1NbWmkymixcvQgRFUaqrqzMyMoIulb169WpCQgL2rT/88MP8+fPLy8vFrjY3Nxe1IIwW1dXVqMN8Pl9FRYU47HHOvV5vVVWVaBJazjm/ceNGcnKy1WqFi319ffPnz8/KysK5uoGBgfj4eJgvhIFQFJSKorzzzjs4GwcGpKSkXLt2DYu/c+fOuXPn9vX14VAtWuj1ektKSjCCaBuEv/vuO3F28MqVK3FxcWVlZVhq6RGcA8DrT0CScw54S0pKkD/MP6WlpV2/fh0S7+zs1Ol00mQq5qtZHRcuXIiNjUW5Brbl5+cPDw/jgyDycDoW5hh27tyJRb527VpKSgrUWmNjo9FoPHPmDD6OrwpQBDFx8DF0IXwEAlC/OIEh3cU4e/bswYkur9e7bt26pKQkEEaQgmYDWbhw4e3bt9EHjEYjDL2QrGSY3W6XIrS0tBgMBpz03bNnD06nKYqydetWhAA2+HN4LJRarknK5sSJE9HR0dg08EEMdHd3oz2c87/85S9RUVF1dXUQAbwFmzPnXErwsToK8AExtYmJierqasYYyjW73S62Tc45iDy9Xt/Z2Qk/YSYe3i2xIGgwuiVckfwBWlZCQsLVq1chAlglZirJ0BCbXmAXVevIiooKdDko108//SQVh34SASIQdgJTT64tWbLk3r17IoimpiYcLaALw52JoIdqa2vF+OowvPWK01ROpzMqKqq7u1uMXFdXh10qDMaHDx/GCCCtRAEHt8CkxsZGjIkBn89XWlqKJXI6nUuWLPmv//qv2NhYEFhtbW1z584F9Qnd9/Lly3/88UdMobu7OyoqCr43gQE4Mwdxzpw5gycmQI8viS2RHibrLwA2oJpUR1PLtScgiXJNxAslFUvn8XiSkpL8jehwV6oORVHKysqwEp1Op06ng9FULIvdbp89e/aFCxc45zabTfpgDYkABJfLpdPpdu7ciTOsmI7aQ2D2VKpBjC8Nz3g9cACkFXxQgxTQnfBBsYqhgmC+FiNwzq1WK4zB9+7dW7JkiRQBYKI0ER/EygIn1PRSKT48In4rh1KIqvf27dsLFy6UfFWdDl6BcqHYDZrgY3UUdXV1agEKLQuYADSU+GgV9D8VFRX4biY5JMZUqyLJH9SNFzIVqxs8E6X5EzQ9tYuqDautrdXr9QEWRWChKEAEiEAYCUw9uabuwWFchNFibGxs1apVqCdcLtfs2bNxiYwmOHgJnjNnDn7/gm8T4qINDOMYA9MD4gADA4DT6ZRygX4WumzpFufc6XRCmj6fb/369TabDVQXpGO1WrEs0H1LxYdMYcyAMJoqBiACWCINuiI9tXmc8x9++KGhoWHDhg0pKSmwZApNUsdXZ6FelQWGBSCpHs4552JJIV/IC0doyRh/1SHuDLXb7ZIUg0SASUdHh78Fjowx0HzDw8OlpaWMsbi4uPr6evwqrVkESA3FomSwNDxLd/Hn6OjooUOHNm3a9OKLL8bFxTHGkKSmh0hyCqDhLBQmi7IPIojOg2FE7fV6jx07ZrVac3JyEhISIIIo1yQvxVwwoJ5dk7BAWQJ4mqIo/f39tbW1a9euNZvNsPQQLVSLDCnBx+ooLBaLqIqgFKJDAjTxXQLiQKb5+fmjo6P+HBJi+jMYSwRZiI1XKhGkI7n3/2/v/Z+iuPL9/7+gZ5bBGktqpMBSqSHFl5KVUqnAoiWGWBC9aKkJImtVCInil8tEzQZMEZdNIjoYuTchBqS4ZRLImIA3gbgQKTdG1PULaqKSoFFxLNQrKsqXykD1efvxVfva8znd0zPAzDADL37Q7p7T57zO45w+59nny6ux7PgDrDBCKShjUJ2ltdvtCxYskCQpOjr6wIEDONYLt9O/RIAIeIlA4Mk1bL+QSGNjI04IwoYDo9F46tQpEEDKV168EQ5gKYaw/MJqtT5dw1RRUcGtbfv/DnE9lrKlc9YcQzvrTK61t7eHhoZWVlbevn07Nja2paUFXnBzc3N7enpSUlKwD4DWWcg+32fA8bZt2wSb6+rq+MlQvsUX+nKBjCzLe/fulSRp5syZT5cr7du3z2az8XO1Qnica+OTGAFJVa3D5xTSBbACEDQJwvPjc/CT0J+5I9eio6O/+OILgWpTUxOs5ZJl+aeffoLNHwaDAVNU1pDRy7Vz586FhYUZDIaVK1cWFxfX1dXl5eVh76taQwAmPiDKXh+wWK1WmBOHAFlZWUJ+cekSLNCEZZ0FBQU2m+3999/HLQXObMBygQMBjjOx4kyuORyOTZs26XS6WbNmbdiwobq6+vPPPw8PD8fK4E6ENpvNzYYiJydHOSbKV0iAho8qZhZo8HINqweGgQNnBmOOlAUHkQuIhOo93EZMWUWVhsHGi6NHj8LivLCwsHPnzgnZoVMiQAQ8TiDw5JrQPMF0Fb/6ChZwFBcXX7o2mD/jAAAgAElEQVR0KTQ0VHVlN3KEhUr8GjX4qbKyUjkZinep6gntyVBnS6xAnGVmZtbX18fHx8MCo8rKytmzZ//4449msxknZFU7Qr7PAOWn7DPQbGWLry3XYCqHh/PkyZOUlBRlEWgkMQKSqnj5nEJykB3sz9AGOFClAQoeB3I0JkOxRil37woJ4andbk9OTo6MjIRdAoIigWB8b4o3woFq+fJhZFnOzc3l1yYyxkpKSgS5piydoqIizA5Ay83NxaV4jDHAApNoMAspTIbyZsA4HL/07dChQz6Wa1AZ+AWFMF2LlUEpMpTixv2GQrUOwOw8vJloT4bCfD1USGdz9/z8O9CGpw9zpHx4lTkSxNbIHj2hiipJ8pXh4sWLZrNZWeX4MHRMBIiARwgEnlwLDg4+evQoZh5WSfPb1mB7QWJiYkFBgfYmA4fDkZuby69ex2gvXbpkMpl4pYI/wYGyM4aFaPxCftxqgBsJhUjg1Gq1RkVFvfLKK7iupa2tLSIiYtOmTbgM5enqItXunBcxML8jdOd8isoWX1uuXbx4ccqUKfzEGazX1midIQl+KHEEJD0i1wCXQOPo0aPBwcEo127cuBEREcEvtWaMgYLHGgUbGnhlwCP9/fffed1TUlKCwkhZQ4TelI8HyxdGYoSf4LSvry8tLY0f5oF9NoJc035AoIBmzJjxyy+/YCpQrLCDGB4fYasBhmSMCSvNYbeKj+VaU1OTJEn8SFVNTY0kSShulCJDKW7cbygaGhokSeLrQH9/f2ZmJr/VAFZ08dsIYJVFUFAQbCcHUEL7gGBra2slSaqpqcErQo6UD68yR0IFG9mjp5RruI4TbBvg9t0Lq+XQeDogAkTA4wQCT65FRkZGRESAJ4uysjLB7QIAOnXqlMlkMhqN2psMYKZv2/9/9hAmuaCplSQpISGhuroavHK88sor//3f/w1JqHbG0NMLjjz4rVuq5QeSS5Ik9OgBL+uTJ0/mR0FcyjXG2JkzZ0wmEzpZsNlsb7755po1a8DJgrLF15Zr4LLOyDl0mDVrVlRUlIZcAyNNJtMnn3xSXl7+888/j4ykEi8vTAEjZAd7aCXbhoYGvV6Pbk0sFktCQsJTtxoo19BdC7rGAEcevIKHvb2SJIETh7q6un379qWmpv79739njO3ZsycpKQlqCNRG3M2qzILQmwoGw+CZXq/fuXPnJ598gqOqfLDi4mJwvALeLmbPnr1gwQJBrmk/IABtzpw506ZNA2cu4KeDz7JQjcGXR3p6eldXF3o3RAc3ycnJqampPpZroLOxZNevX5+QkGAymbAyuCPXGGNuNhS9vb0w8QfOXKqrq59//vmVK1fyftcEJx3gyEOn0/FOfASwtbW1a9asAUcedrs9Li7OYDBAy5afnz9nzpxZs2ZhjpQPr0u5NrJHT5BrIFUzMzNtNhts4Xr99deXLl1aW1uLTl527NghyzJQmjt3roYDF74y0zERIALDIhB4ci0nJ+f8+fNJSUmqPksh8zDOpO236ddff0Vntvw6XOzLwQ8nOMZ86n136tSpubm5v/32GySh2hkzxu7fv5+fnw9L8vV6fUZGhsuFHSDOcBIN4rdYLLyAw9EXbL4hmFLEXLlyBd2fGgyGlJSU5uZmGAFStvjaco0x1tHRAQ51JUlavnz5zz//nPrsD/Qf2CD8e+HCBfCP+txzz4E72RGQVOJV5tSlXGOMoY9QKIuOjg6hN2KMnTt37oUXXgCHsSaT6a233oIpacwXuDYFV7ewkg/DHD16FD21Tps2befOnbjyWpkFbbnGGLPb7UDbaDQeP34cDcCDvr6+rVu3wrJ68Pq7e/duQa5pPyAAbffu3U1NTdHR0eBrd/369eiYA9Li3Qvr9fo5c+Z88cUX4FSF91QcHh5eVVX1zTff+FiuMcbQN6xer9+wYcPly5fNZjM+HW7KNXcaCgDC+w0G79OnTp3i5Rr4Ft65cye2KvPnz8dHD0tQ8HK8bNky9JLNP2tZWVlXr15NTU3FHCkfXpdyTfDu62YjJjwgTwsdXOuhP8jPPvuMdwV84MABqBgk17CU6YAIeINAIMk19/MPrbDLTQbuR0ghiYD/E1AdfxXMVvb6QoAJdUoNxYQqbsosEQhoAuNTrsGLr/Ymg4AuNjKeCCgJkFxTMtG+Qg2FNh/6lQgQAf8hMA7lmvtfMvCfYiBLiMDoCZBcGxZDaiiGhYsCEwEiMLYExpVc+/nnn8vLy9evX/+HP/yB/1DV2CKm1ImAbwiQXHOTMzUUboKiYESACPgPgXEl18DxhNFo/PTTT3n3Cv6DmywhAt4jQHLNTbbUULgJioIRASLgPwTGlVzzH6xkCREgAkSACBABIkAEPEWA5JqnSFI8RIAIEAEiQASIABHwCgGSa17BSpESASJABIgAESACRMBTBEiueYokxUMEiAARIAJEgAgQAa8QILnmFawUKREgAkSACBABIkAEPEWA5JqnSFI8RIAIEAEiQASIABHwCgGSa17BSpESASJABIgAESACRMBTBEiueYokxUMEiAARIAJEgAgQAa8QILnmFawUKREgAkSACBABIkAEPEWA5JqnSFI8RIAIEAEiQASIABHwCgGSa17BSpESASJABIgAESACRMBTBEiueYokxUMEiAARIAJEgAgQAa8QILnmFawUKREgAkSACBABIkAEPEWA5JqnSFI8RIAIEAEiQASIABHwCgGSa17BSpESASJABIgAESACRMBTBEiueYokxUMEiAARIAJEgAgQAa8QILnmFawUKREgAkSACBABIkAEPEWA5JqnSFI8RIAIEAEiQASIABHwCgGSa17BSpESASJABIgAESACRMBTBEiueYokxUMEiAARIAJEgAgQAa8QILnmFawUKREgAkSACBABIkAEPEWA5JqnSFI8RIAIEAEiQASIABHwCgGSa17BSpESASJABIgAESACRMBTBEiueYokxUMEiAARIAJEgAgQAa8QILnmFawUKREgAkSACBABIkAEPEVgAsk1q9UqSVJqampvb6+n8PHxyLJ88ODB8PBwSZLKysr4n5wd9/b2pqam5uTkOAsQQNetVqvRaGxraxu9zR6MavTGjOMY7t27l5CQ8B//8R9eeiLcRNfV1WU2m8fHU+BmlsdBsI6Ojvnz50uSlJaW1tfX51c5am9vnzlzZn5+/uDgoF8ZpmFMINqskR36yRsERiLXQGRIij/vKSGP5Nyzcq2xsVGSpMbGRrTtyJEjer0+IyPjs88+++677/C6xsHEkWvQJTc2NrqTZW/LtcbGRrPZ3NXV1dbWZjQa+ULUKKzx95Pdbp87d+4o5Ro8CHxjMFzVTnIt4KrWvXv34uPjzWbz/v37q6qqtOXa2bNn586dq3yR6+vr2759u8lkkiQpPDy8vLzc4XDwKDo6OjIyMvR6vSRJSUlJJ06c4H/VOL548WJ4eLin5JrQ1EOjwVf4qVOnLlmy5PDhw0NDQ7xVypCSJEHLwweDY8/arIyfrowDAiTXRliIwjPMGFu3bl1kZOTt27edxfjo0aM33nijvLwcA7ijXTCwnx9oayzvybWBgYG//vWvW7dudZ8PyTX3WbkMWVlZGRwc/OGHH9b96+/bb7998OCByxsxwASRaxcuXEhPT7948SJm3PcH33333dKlS+/evTvKpJuamnQ6XUNDg3Y83d3d+fn5kiQpFXxPT09aWprRaHzvvfdsNlt2drZOpystLZVlGeI8c+aMyWSKj4+vfvYXHx9vMpnOnDmjnaLqryNoIvh4hKYeRNjatWvr6upsNltBQcHKlSsnT54sSVJiYuLNmzfxXj7kvx6Ouqampv7+fgxDB0TAfQKjkmtWq9X9lMY8pFdH1wYGBjIyMrTHF6Fb4qGRXFOtFdrKT7hlBAxJrgkMR3NqtVqdDRi4Ge0EkWuNjY1K1eImIk8FG31hgSWVlZXaeRkYGNi4caMkSSEhIfPnz1cGrqioCAoKam5uhggdDkdubq7JZLp06RJjrL+/f/ny5bNnz75z5w4EuHnzZlRU1JIlS0agdUbQRPDAVeUa34wzxhwOR1VVlV6vT0pK6u7uhttBrgkh+ZjpmAgMiwDJtWHh+ndg4RmGFoHkmnLKA5B5b3RtBG0xybV/1+NRH5WUlJBcc4fieJJrLl+oent7V6xYUVhY+PjxY2VgeGYF7dXa2hoUFFRZWckYA6HDT0QwxoqKikJDQ9vb292hzYcZQRPB3y409RoirKKiQpIkNFsjJB8/HRMBNwl4Xq7t3btXkqSwsLDLly+DEZcvXw4LC9PpdAcPHmSMPX78uLS0NDo6Gqb/p02btnfvXly1AFXcaDQeO3Zs69atBoNBkqQXX3zx5s2bDodj7969sNZh5syZBw8exJFzHDm7evXqG2+8Acsd4uPjjx49qgyDC6tlWT58+HBCQgJYwocfHBzctGlTWFiYs8kL/hmG1HE1g/JVkjGWk5ODAXB2ANsRu92+Zs0aMHvRokUdHR18+fGLPEwm0/bt21UXi8AIX2Ji4sOHD+F2WZZzc3P5Nk6W5bVr12IYWZZ//PHHhQsXQtKTJ09ev349vtEyxqCPOXbs2JYtW/R6PerRx48fFxYW4rqTqqqqkpIS1YzzGVE9dhnV0NDQV199FR8fj8V07NgxiEogj6sJNW5RtcHZRbvdvn79epjpMBgMW7duRfJYdnfu3Fm/fj1U1FmzZtXX12OVw/FUfhXO/PnzhVU42uULfKZNmyZJkl6vX7NmDRYQ2nDs2LG4uDjMfkdHx7Jly8Akk8n0X//1X6oZxNvhVzzlayM8eqq3w8WcnBysFRrB8CeocrBKXZKk5cuXnzx5Uthq4LJaMsaEIp45c+Y333yDPb2wHpEfVcJsdnR0LFq0CB7G8vLyoaEhvKLX67ds2YJlDcbzBT1z5kx+rRUW9JUrVyBOvV6/du1amBSGX/nHH4mdOHECnz7MArLiD1wy4fMIN2JOEQtvg8bejitXrmD9MRgMy5YtwxYJ2mc+HpejR0q5dv369enTpxcVFfEZBEpgVW1tbVBQUGtrKx+Ab3L568pjLA7GmLMmAh46fKyysrIePXqkjAraQHyykKRqru/evRsXF5eRkTEwMKAdUpkQbzP8qlo3ent709PT586da7fblZHQlfFNwPNyraenBxqsLVu2yLI8ODi4bt06SZJyc3NBk8HzM3Xq1IULF0ZGRsKTj7UfmoOgoKA//vGPBoMBNlrCUtPt27frdLrp06eDtggODj516hQUD8QZHx///PPPGwyGiIgICKPX63GBBYTBhlKW5dLSUugCFy9enJiYCMf19fWMsWHJtfb29pqamlnP/mpqalTX7pw+fbqqqspkMsGiBwgD7WlycnJCQkJRUVFdXd0777wjjKjzizzq6uqKiooMBsPy5ctVJwXKy8t5zXT//v3Zs2c/Xd9aW1sLoOAKNJSyLIO2TkhIqK6urqurs1gsBoMhNja2s7MTwoNcW7BgQXV1NS6kBZMMBoPFYqmrq/v4448jIyOnTp3KJ+3mY+NOVNBMv/rqqzabbf/+/Waz2WQynT9/njGG5BctWgSrQ2DtoMYtbhrGGIPSMZvNH3/8cV1d3euvvy5J0qZNm2C7Gfy6bNmyl156CWyrrq6Oj4/X6/VQhRhj0ATn5eUlJCQgq+nTp/OrcFyWb05OTkhIyAcffIDVIz09HV45wIa4uLjVq1dj8w1vR0lJSbW1tTabLScnJy8vTzXXcDt223CqrI3Jyck9PT2qMQjvIdOmTYMBFWeBGWP19fV6vR6qnM1me/XVV0NCQvR6PZrhTrV0OBx5eXmSJKWnp9fW1tbV1W3ZsuXTTz/FPtKlXEtOTl6wYEFZWVltbW1SUpJOp/vwww/nzp37zjvvYFlDCwZ56ezsjI2NnT59OlSG9evXS5KEAaCgly1bFhMTU1ZWhjFkZ2cPDg729/c3NTUVFhYGBQVZrda6uroffvhhcHDwyJEjQUFBK1assNlstbW1S5cu3bt3ryo6d5hoy7UHDx58++23a9euNZlMVVVVdXV1p0+fVk3r0KFDBoMBq/0HH3wQEhKCNRbjwby4HO5SyjVo5LFRAjOg+sE+U6vVOn369OvXr/MWwl3ubLrnpY9qEwGTrSEhIVBYH3zwQXJycldXF58cHgsyEczADguDwUFOTg4ONmuHFG7kbWaMOasbJNcEbhPqdFRyjX/HkiQJa/Dx48eDg4Oh84bjqKgoXINZW1uLg16yLO/YsQMWacKYEFRx2B/e09Mjy/KXX36p0+kkSTKZTCdPnmSMwToGSZLw/QxfobZt2wY65sGDB4sXL5YkCYfcBbkGGznNZjOOAh48eFCn08XFxbmzFFd4hqGtQS2oWoeEBxIFAd/BAxCdTtfS0gKRQGPHt60HDx40GAwYgE8L6MGEAmOspaXl6St7XFxcbm4uDPm0trYajUa4FwLn5eXh0CZjDFb45ufnQ3jIJp6iSbzNjLE7d+7Mnj17BHLNarW6jKq1tZXP7D/+8Y+goKCSkhIwRtAccFH7Fp6YxnFvb+++fftwiMXhcKxatSoiIgKEEaSLY8YQT3d3d1JS0uzZs+/fv49yzWg08sV37dq1GTNm4Cu4y/Ldt28fDqfJslxYWGg0Gs+ePYv1B1f8gA1lZWUYAK7Au74ypwI6OOWLQ1kbhUgGBwd/+OEHEMrV1dUvvvgiPrlCSDi9detWTExMWloa6j9ZlsvLyyVJQrnmTrWsqKgQVqZjcnC7S7kWHBx8/Phx3qqnb2u41L2/v3/JkiVYjvDOyTdisizv2rUr9F9zc/Boo6aBxUxZWVkYAAeq+dUC69atw+rEGJNl+ffff8eM8AfuMNGWaxCbMgyfCmNMWUCMMZCq2JDCkJX7D7tSrgmNJ9gA1Q+aUF70oIUAAXsZvK48EFpaoZ4zxi5evDhlyhRsQ6C88HVUiFCwVtsMfm0AhHTWSwqpCDa7XzeEeOh0HBPwilyTZXnLli2SJGVnZy9ZskTo0gSasGRBeCPhR8JxiIgXDTBih008SDFBaUHM2GLycg1mCXmJiZ0rn7RgKn8qPMN8W8MH44+FBxK725SUlCdPnmBIMBv6m4cPHyYmJmZmZvIOhOx2e0REhGqz1dPTk5ycjOGLiooyMzN37tyJHY/VakVKRUVFQk8PfUZubm5UVBRoVsjmoUOH0LwnT56kpKTwbTf8NILJ0JFFBRix6JVtMZqKB8IteH24B3zHA+nitDJGBauwQU5BulgcGMZisUA/PdzyFaZmwAah/thsNp1Ot2vXLmfdD5ohoFONraWlRafT8RUAb1ce4Ig1Lt8Rwhw6dEin0+ECc/gV6jMWqMtqCXYqayDEBn2kS7nGQxscHMzMzBSGc0pKSrDpUJ28O3v2LHqBgYJeu3YtzoMzxviaoCrXiouL9Xo9v6hDwIWnLpmAhMJWFG4Uylc1DCYBB7W1tcoCghunTJmCK0P4B0GIQXmqDCw0nnALWOsbuXbjxo2IiIjFixe7s4VZsFZbrlksFiwFCAnTKbgz1NlgJFQhbNXdrxtK4HRlvBIYlVzDuqWkY7fbYTGNJElZWVn8+M3Q0NDp06cLCgrS0tJmzJgBLx9CFedf3eAx5mf0oPng38hBignNJXQDGBUv1zBO4dUHToW2Xpk7oddE4TWy0TXBbL45gGdY1Ujs3gTzioqKwJ8ISIHa2trW1laTydTa2gqL23CkLScnR6k2hKYZJkNBfEBCYBKOa2LqykYZf3J24GZUsix3dHQUFxevXLnSbDbDkizMvrJPAtGpcYsze5TX+/r6vv766w0bNsybNw/m5bE6QbpC2QkVAzLIv8RDEsjKnfJ1OBxHjhyxWCzJycn4vEAVVbWhp6cnOzsbfFmVlpbiPjVl7gR0wimE52ujMgblFah1OHYoBFCd5AIIWKAuq6WzasMbLDzC/KiSajaVwzlYRjjBqvoYQhsIJgntodDNK7ca2O32BQsWSJIUHR194MABHMcVoMGMs8tHlc8jxKDMqTKMkJZqAWGtbmpqgvA8HCEG5akyMLyRCu8AYC3UnKKiIn7cEeKEqohTB8qE8IpQHEoOsizv27fPYDDALPyVK1d4nY3xwIFQjhpPBOh+LCmNkEISOFiAVcj9uqGMiq6MVwLekmu4go1f7gOyJisrC1aJxcTE5OTkrFq1SqfTuSPX+CYYtBc28cIplBaMeGP/qirXUlNT8xR/Fy5ccFnewjMMLcLI5BrmAhLlH3Jod7KysvDlDA/4+TXe2paWFpgqbWtri4mJaW9vh+FJq9UK+hWXjLjsF1WHBMAkDQnCG6N97E5UDodj06ZNOp1u1qxZGzZsqK6u/vzzz8PDwxGasi12eYu2VfjruXPnwsLCDAbDypUri4uL6+rq8vLysDop04UbGxsbcS5b6DYwZqvVCiM3Lsu3s7MT1sMtXry4oKDAZrO9//77uPDZmQ2yLP/000+wecVgMAj9Ipoh3C6cQjC+NuKNGgcQibMHwWq1KrthgIAF6rJaOqs2vMF8WyGMKqlm0x25tm3bNnz68AAGS1QLWmgilHINNkwcPXo0PT0dtmedO3dOla1LJkIeIRJlTv1ErinnIhljd+/ejYqKslgsjDHlhD5jrKmpSa/X8+siVFkppY+SA9zY3d1dXFwMr2GbNm3ixxT4mIVy1HgiYNAOZ4E0QvLxw7GyCg0NDblTN5RR0ZXxSsArcg1XpC1dujQ2NpZf7w9zK/wqENXJUOwUceAKuygoCUGfwSk/wcEYs9lskiThvB4v12CDJL/6bbgFLDzD2r0URK58IFXbEf4hB6WlnE3TsBY3E1itVhzksFgsGRkZ3333ndlsxgW8GjMsOHmq7GOcmVRUVMSXmoaF+JM7UQGNXbt24euvMHemZOjyFjRA4wCmy/mKyhjjJ3ydlTjvbgBKHIczITl4BQfCzgigYTAywUvzQ4cO4bOgzDveCAd2uz05OdmZ92bhduEUYuBroxC56ilsjnNWYysrK5WLDWCqEeWay2oJ0LBuC2aAwfyCdChKfCFUzaa2XGtvbw8NDVWOKGPSykcbR6RQOCofJbwdVlOZzWZnMtclE2FQHGK+fft2ZGQkglWVdLwNjDGNyVCcGoZ43H/YlaNrqmsAWltbg4ODbTYbYww6BXyxBCNhyO3GjRuCzcpToThUSxzv6u/vf/fddyVJwk1p+BMcCE29sycCtr/wWJyFFOKHU8FmPszFixc16gYfko7HNwGvyDVYxT9jxoxr167V1NRIkhQXFwcLtKHqJyQkwBxNf3//a6+9xn+aA6o4X+nhYcMuCspDVa7pdLr9+/fDkp1r167FxsZKkoTvOrxcQzFnMpm+//57lAI//fTTzp073Sly4RkGI521thAhPJDr1q3D+FXbEf4hl2U5Pz9fWKuOt6seQOf01FvEokWLcAlRQ0OD2Wz+85//zHdyp06dCg4OVt1qgFvelH0MxC+Y9Msvv8yYMYMvNVXbhIvuRNXU1CRJEj8+BDUKOyFgyH+40OUtghmqp319fWlpafwLAGwjwDxCusHBwUePHsUYYBsB7tuFEp8xY8Yvv/yCYWDzDRB2Wb7CimOHwwGD0yACVOvP77//jvUZJCbf0aIZ+CIkkMRTCMnXRv5e1WNYu6bT6aDTVYaB2HCTOAwvvfPOO/zCBpfVEt4G+S0RfEIg/vgFGFAoo5FrsPNA0O58oqp9rdBEwCnOJzLGBp65e4B44AUSX5P4yBljLpmA0pIkqaamBu8VnhRVSYeB4QDGh/i9ILjVAGv16OUaY6y4uJjf7QFucnFZLazB5V3OwvYybMwFs4VToTiUTcTgsz+8C5YhOptmFcpR9Yl4/Pjx5s2bhe0vqiExUeFAsNn9uiHEQ6fjmMCo5JqwmAN6MvicHK7ih0cFp0ShBkuSNHnyZLPZPGXKlJUrVxqNRmxMIQB2itipuCPXJk2a9NTR4tSpU9GRB++TQpBr/f39r776KmRh6tSpZrN56tSp2G0My5EHGqkt1wCFyWT65JNPysvLf/75Z9XuVnjIYVsWes0AXx7p6enOtp0zxhoaGtC1G9Td69evw6ovXBsBC7zAlYngyINvrJVyjTF2/vx5k8lkfPYBmbq6uqc+JmJiYpYtW8aXmpvPjMuooP/gHSgkJCSYTCZUFaD59Hr9zp07P/nkk9bWVpe3uGlbcXExbJcBByKzZ89esGAB5hHKLjIyMiIiApywlJWV8S4PcFJmzpw506ZNA5cB4IeFr5ba5QsjxIsXL6599pecnJyamorPgmr92bNnT1JSEnhmAZN47cLnXbhdOIWQQm3kb4cJrKVLl5aUlNTV1dXW1sKknvACwN8Cj5UkSZij9PT0pUuX8rPbuF9Bo1qC9xNJksCFis1m27hxIzjywCTAQcbHH38cGxublpaGLYxqNrVH13DHNHpUsdlsb7755po1a8CjitDXQpZVu/kFCxbYbLaysrLe3t7XX3996dKl4IgEKsaOHTt4qY3o3GECy4UNBgPUxvz8/Dlz5syaNQufFGwZMjMzbTYbvsthKnAAnlYERx58jfWIXANrgafNZluxYkVQUBB6wAFT0eHL/v37o6OjeRtaWlqMRqPgmA0zIhSHsoloa2ubNWsWOMcBTy4wuIAx8Aeq5ch/hGrx4sV6vd5gMHz88cf8/h7tZ4dPAtsKbJ+d1Q1y5CFwm1CnHpZrZ86c2bRp09PuJD4+/t69e4ASBttgSlSW5aamJvCRazQa9+7de+rUKU/JtdTU1GPHjiUlJcHauDVr1qAzKmhiJEniFVV/f395eTn6fps2bdpbb70FMsgbco0xduHCBdiB8dxzz3V0dKj2HMqHHJy1whJ7vV4/Z86cL774wtlKC8YYDDDwOYVNBig1sIoLjoJnzpy5Z88efsmzqlxjjCn9viqnPDAV7QOXUR07dgx85Or1+g0bNly+fFnwqmq328HVn9FoBO8MLm/RNpOVphEAACAASURBVAl+7evrQ0fN0dHRTwftdu/ejQyx7M6fP49VLiMjAx2KYhO8e/durPMGg0FwRMwY0yhf3jV0eHh4VVXVN998oy3Xjh49ii6Fp02btnPnTr5A+YxjFuCicAoXlbWRj+HRo0fZ2dlQM+Gp/+qrr/geiw8Mxw6Ho7y8fObMmeCaZ/v27VevXhUK1GW1BG/bhYWF6OZ04cKFOGXMF1xcXNyxY8f4NVuq2XQp1xhjV65cwS+OGwyGlJSU5uZmUFeCPoCcCt28LMuffvqp0WiEd4CBgYHPPvsMG5/IyMgDBw5oPNTuMEE3v7DB6+rVq6mpqbxcexo/eHbUXgdy7ty5F154AVxXmkymt956CxzTYGkO62F3FvjOnTvoG5x3UY6p8E+xsjF3NhKJzx1KH3jE+Caiq6vr5ZdfhnprMBhWr17922+/YbrCgVCO8ETwQxXR0dHvvvuu8v1Z+9kRUhGqkLO6QXJN4DahTkci1/wQkDBy5ocWkknjjIBqry/kUWiChV/plAgQgREQgNWfsClhBLfTLUQgQAmQXAvQgiOzx5gAybUxLgBKfqISuH//fnx8vLOdAROVCuV7/BMguTb+y5hy6A0CJNe8QZXiJAIuCZw9e3bevHnwuTmXgSkAERg3BEiujZuipIz4lADJNZ/ipsSIABEgAhObAMm1iV3+lPuREiC5NlJydB8RIAJEgAgMm8A4kWvDzjfdQASIABEgAkSACBCBACFAci1ACorMJAJEgAgQASJABCYqAZJrE7XkKd9EgAgQASJABIhAgBAguRYgBUVmEgEiQASIABEgAhOVAMm1iVrylG8iQASIABEgAkQgQAiQXAuQgiIziQARIAJEgAgQgYlKgOTaRC15yjcRIAJEgAgQASIQIARIrgVIQZGZRIAIEAEiQASIwEQlQHJtopY85ZsIEAEiQASIABEIEAIk1wKkoMhMIkAEiAARIAJEYKISILk2UUue8k0EiAARIAJEgAgECAGSawFSUGQmESACRIAIEAEiMFEJkFybqCVP+SYCRIAIEAEiQAQChADJtQApKDKTCBABIkAEiAARmKgESK5N1JKnfBMBIkAEiAARIAIBQoDkWoAUFJlJBIgAESACRIAITFQCJNcmaslTvokAESACRIAIEIEAIUByLUAKiswkAkSACBABIkAEJioBkmsTteQp30SACBABIkAEiECAECC5FiAFRWYSASJABIgAESACE5UAybWJWvKUbyJABIgAESACRCBACJBcC5CCIjOJABEgAkSACBCBiUqA5NpELXnKNxEgAkSACBABIhAgBEiuBUhBkZlEgAgQASJABIjARCVAcm2iljzlmwgQASJABIgAEQgQAiTXAqSgyEwi4EMCd+7cWb169T//+U8fpumxpK5fv75q1ar29naPxUgREQEiQATGmgDJtbEuAUqfCPgZAbvdnpKScuDAAVmW/cw0d805efLkn/70J1Js7vKicESACPg9AZJrfl9EZCAR8CGBnp6e9PT00tLSEWu1K1euJCQkNDU1qVp94sSJ+fPnS5Kk1+tfeOGFK1euKIPduXNn/fr1BoNBkqTIyMgvv/xyaGhIGUz7Sn19/dy5czs7O7WD0a9EgAgQgYAgQHItIIqJjCQCviDQ39+//Nlff3//sNLr7+9vbGwsKChISEiQnv01NjYqY6ivrzcajR999NHQs79du3ZNmjTp0KFDfMjOzs7Y2NhXXnnlwYMHjLGTJ09OnTp106ZNDoeDD+byWJblLVu2pKWl9fT0uAxMAYgAESACfk6A5JqfFxCZRwR8RECW5dLS0piYmJs3bw43yUePHm3fvr2goODbb7+FwTOlXLt161ZMTMyqVatQeDkcjlWrVsXExNy6dQtSHBwcXLduXXh4+NWrV9GGAwcO6HQ6QdXhrxoH3d3dSUlJeXl5mKJGYPqJCBABIuDPBEiu+XPpkG1EwHcEjhw5EhQUVFNTM5oke3t7U1NTJUlSyrXKykpJksrKyvj4rVarJEm1tbVwsb29PTQ0NC0tra+vD4O1tbUZjcbMzMzBwUG86ObB8ePHp0yZcvDgQTfDUzAiQASIgH8SILnmn+VCVhEBnxKAgajly5cPdxpUsNKZXBscHMzMzFTKuEOHDkmStHbtWlgqV1tbK0lSTk4OH63dbo949me32/nr7hzDcF1UVNQIhgzdiZ/CEAEiQAR8Q4Dkmm84UypEwK8JWK3W4ODg48ePj9JKZ3Lt4cOHiYmJSrnW2NgoSVJKSsqTJ08YY0VFRUq51tXVZTabjUbj2bNnR2De5cuXw8LCNm3aNILBuREkR7cQASJABLxBgOSaN6hSnEQgkAhcu3ZtxowZWVlZo1/j5UyugeRyJtfMZnNXVxdjLCcnx5lcU97rJmJZlvPz84ODg0+dOuXmLRSMCBABIuBvBEiu+VuJkD1EwKcEZFnesWOHTqdrbm4efcJ+KNcYY6dOnQoODs7OzqYBttEXMcVABIjAmBAguTYm2ClRIuAvBG7cuBEREZGcnOwRhxf+Kdf6+/uXLFliNBrb2tr8hTvZQQSIABEYDgGSa8OhRWGJwLgjUF5eLklSeXm5R3Lmn3KNMWaz2SRJys/PH7H7X4/woUiIABEgAiMjQHJtZNzoLiIwHgiAujKZTJcuXfJIfpzJtbt370ZFRSnXn8FWg6ioqLt37zLG1q1bp7F2zdmXEtyx/Pr169OnT4+Li4OE3LmFwhABIkAE/IcAyTX/KQuyhAj4mgAs6kpNTe3t7fVI2s7kWl9fX1pamjO5ho7WysrKnMm1KVOmXLx4ccRGoieRhoaGEUdCNxIBIkAExooAybWxIk/pEoGxJwBeaouKijxlijO5xhizWCzO3ORaLBYwoKWlRafToXqDi+Amd/bs2ffv3x+NneCnNzc3l+ZDR4OR7iUCRGBMCJBcGxPslCgRGHsCIK10Ol1LS4unrNGQa83NzTqdDpUZpGixWPR6/Q8//ACnd+/ejYuLE5QZaLi33nprlEaePXvWaDQKkY8yTrqdCBABIuAbAiTXfMOZUiECfkcAlnNNnz79+vXrozROluXu7u6urq6ffvopPj5ekqRPP/2069nfwMAARA7fj+c/MKDq762iokKv1+NnoxwOR1ZW1owZM65duzZKI2H9XFBQUGtr6yijotuJABEgAj4mQHLNx8ApOZ8SePDgwYoVK1wuV7Lb7UuXLr1w4YJPjRvrxJqamvgvCozGHBxUkxR//MdD7Xb7ggULzGbzx8/+pk+fnpaWdufOHT5ph8NRWFhoNBotFkttbe3ixYvDwsKOHj3KhxnZ8cDAQEZGhiRJlZWVI4shQO+6du3aiy++eP78+QCyv6ys7O233x693+YAyjKZSgS0CZBc0+ZDvw6DQH9/f1NTU53i7/Tp07dv31Zc/veFH374QXWp++Dg4A8//PDvcM6P2tvblYb29PSkp6eXlpa6s1bpzJkzsbGxZ86cUcbj1SsArbS0NC8vb8+ePTgW5dVEIfKSkhLlun5vpzs0NNTW1lZcXFxaWtrR0eGsaG7dulVZWVlQUHD06FEP9tnwkat169Z5O5vK+G/fvm2z2QoKCvLy8kazxVUZs/aVzs7OuXPn1tfXawfz5a9DQ0MPHz50VvRgicPhyHv258HS92UeKS0i4HECJNc8jnTiRnjv3r2UlBSz2WwwGGCQZerUqWazedu2bS0tLWazOTw8HK4bDAYz9wfh58+ff+XKFR5fX19fdnZ2RESEXq/nI4Rb+eslJSX8jYwxWZa3bNkyrG+WV1RUzJ49ewTfEReSHtYpQAMCHtyh6dIGWZbXrl0rSZLVanUZeNwEgE/I4ydKfZmvlpaWGTNmQDX2GXOYgN6yZYuqNpJl+ejRowkJCRpbbq9cuZKRkQEP4KJFizo6OtyEpnFjW1tbSEjIsmXLSktLla9g+Op17969uXPn7t27180UPRuso6MDMx4ZGVlaWvr48WN3kujr69u+fbvJZJIkyWQyFRYWOruxv79/9+7dGRkZfX197sRMYSY4AZJrE7wCeCX7sN9Q6XkBp8yErYhDQ0NffvllSEiIwWA4dOiQ0iaIMCIiQtBSQ0ND//u//2s0GnNycoS7jh8/Hh4ervrN8sHBwU2bNj333HNCbN3d3UlJSc76NiF+z562trYGBQX5Uq49efIkJSVF6VnDs/nyt9hg1wJ+otT35sHwns/kWk1NTUREhLDs78GDBwcPHvzP//zP6OhoSZKcfexBluXy8nKj0bhr166+vj6Hw/H222/Hx8ffu3dPm5vLG2EWHpSr8t/q6mqMv6amZtq0aZcvX8Yrvjk4c+ZMTExMTU1NV1fXxYsXX3jhhadPSnx8fGdnp7YBMKK/efPm7u5uxtiNGzdWrFgRGxvL39je3r5v3741a9YYjUZJknz51GsbT7/6OQGSa35eQAFpHqgrZaeIck21uzpz5ozp2Z9yRtJZhECnvLxccP0A69OXLFnS39+vJAhL7FV3CJaXl4eFhfm+ewBfFb5suOGb6xNt3T1wdiZQlFXF41egJqvWf4+nBa8fyg853Lx588033ywuLm5sbJw5c6YzGvX19UFBQbiWAJSus8C88S5vLCsrE8bXzWYzDJZnZWXxs5+wU9jHb1D37t1LSEioq6vDTAFJSZJcfna2vLx81apVfBbgXn5fc1NTU15eXmVlJXxQxJdPPeaIDgKRAMm1QCw1f7fZmbrSlmuMMbhR2X45ixBAXLx4MT09/eHDh8gFeuXa2lq8wh9Ax5OZman84Hd7e3toaGhxcTEf3gfHvpdrYy5cfEBVmQSIVEmSfLl6jDfDl3KtoaEhODhYYxss0FBVYLdu3YqJieE/AnH+/HmTyRQXFyeMSfO5Y4y5cyNsIhFuPH78+PPPP8+PQkEAi8USERFx48YNIbz3TmGoW6/X81uUwGlfaGgoztUqDYC9LIKrGsZYTk6Osk1jjMEnPVR/UkZOV4gAyTWqA54n4ExduZRrly5dMplMOp2uubmZN0s1wurqatjLef/+/aVLl/K9iNVq1WhYYYm96vZAsND3Dajv5Rr0Scr5ZR77+DvGb2Gpzrn7IL8+k2uyLOfm5qoOIWM2NeQaDPwIyuP333/nx40wHv7A5Y0DAwPZ2dlnz57l77Lb7QkJCUeOHOEvwnFDQ4NOp+OVkzIMXrl169bevXs3b9789ddfaywIu/rsD+8SDuB1TljWCdJKW+hD62E2m/nhefichuqwHMk1gTydahMguabNh34dCQFVdfXUr71LuXb//v3Zs2dLkiS4nldGCCvlwUnE4ODgiRMnHjx4ALbCO25iYiI/3sYYa29vr6urs9lsiYmJf/jDH0pKSurq6k6fPi3k0GKxaEg9IbCnTp3Jte7u7o8++ij52d/777/f1dUlpCjLckdHR3FxcV5eXnV1dXd3948//piSkjJr1izVzg9vh65COWGNAcblgcsa6O1cO5Nrt27dKi4unjdvXlpa2kcffaRcnD40NHT69OmCggLQIo8fP/7qq6/mzZuXmJj4888/K82GR0l1CBkDO5Nr6PHEarU6HI5z58598803N2/eVN2vgLExxkZ2o8Ph2LhxI8668hHCYxsaGioIRyEMbC3au3fvUy8tsL3J8Ozvf/7nf4aGhpSBa2tref8yQgCHw/Hhhx9u27aNdzEDz4vLxQPw6Q6DwbBnzx6QtqdPnw4LC1N9GEmuCeTpVJsAyTVtPvTrSAgo1RXE4rKzxADC3j1lhDdv3oyKilJtc2EERdlRbdu2DXen6vX6iIgIs9n817/+VcghzHr4eLJMKddkWW5oaAgNDf3b3/7W+exv+/btISEhhw8fRoMdDsdf/vKXSZMmlZaWfvfdd6+//rpOp0tPT//2229NJpO2u4pDhw5JkqQ9+oIJjZsDrGBurh7r6OhISEjgNjG7OHzttde0XbEo5drQ0NBHH30UGhpaVVVlt9uvXr365z//OTIykvcC2NPTs3r16rCwsP3793/zzTcZGRk6ne6NN96Aja5lZWXKArp48eKUKVOEPT1CMGdyDa5LkvTJJ58sWbKk8NlfSEjI6tWre3p6hEj405HdePDgwbS0NGcxg+4UFqfyicLxqVOn5s6de+HCBdCUQ0NDR44ciY6OTkpKEvab2+32l156SWNOUxk5Ywz2iPCzw6rBOjs7Y2NjYf9EUlJSSUnJtGnTPv/8c1WlS3JNlSFddEaA5JozMnR95ASU6grictlZYgBh1AcilCRpxowZ0GGC5wtVuQYdlXKvKNgAMx1r165VbUBxQYnqVCkSGRgYeO2111x03dzPCQkJ2h4QlHLtyJEjer1+x44daKcsyzt27AgODsbtrjabTZIk7JIfPnyYmJgYERFx/fr1M2fOaH9hE5D6ftoXGY7JAVYwl6M1YB5+rQG+0ODyX1X3gXxOlXKtoqJCp9PV1NRgMOWHHIqLiyVJwrWYsFcmOTn5//7v/06cOKE66we7L7VVqTO5Bk+QJEmRkZE4/Hz69Gmj0ZiXl6cxHzqCG2/duhUbG2uz2TD7wgEUmcv3ipKSEnwuMIb+/v733nsP3mG+/vrr1tbWDz74wGQyORvJwxuFA1iQJ0kSX0xCGDxtb2+Pi4vDHa8FBQWqG56wqZlozyCCooPhEiC5NlxiFN41AS/JNZPJVFVVVVdXV1tbm56e7swJBUgfZx0VvCVrqDFY1OXsdsx8b2+vy84bA3R3d6Pqwhj4A0Gu9fT0JCcnG41GYYkPfPUSdryi4zTsxVGLqKpYPjmNXR1CsHF2CguJfO8cGDEKcu3GjRsRz/74lZeMMRj7hE2d4HKFn4ZzJrMwFZQC2jXBWTxQG4WNkFC7lOtK+URHcKPVatX+DBoUmfD+xicKx8XFxXfv3lVeZ4z9+uuvmZmZ4DouPDy8qqpKdYZU9V704ChJUnFxsYZUhdtlWT5y5EhERMTixYvhlVKSpMTERKF8ITCNrjljTtdVCZBcU8VCF0dFYPRyzeVkKHQeqr2RhlyDtTVKGcTnVuN2PphnjyFRfM+GU2UXBdfRoV1OTg7/SSWvyjUcLfDbAzdLBKA5G3x1M5IRBxPkWkNDg6rnLejIo6Ki7t69izqppaUF0nUms3irIAbVBwSDOYsHqpmw1h5fDzQm2Yd7I/jpcDnRmZOTo3wWMBfePgC/JO5oNcZYfX399OnToaQ6OjqSkpLgeUlPT1eOvJJc83bZjbP4Sa6NswL1i+yMWK5B/yFJkjBXpRphTk6Oam8EQ1Cqw2N2uz0iIkJ7YgW6HNXbvQcXEkW5Bu24sotCPpDxQ4cO6XQ6dKzV3d391F9UTEzMrVu3XJoKSDFFl+HHTYBhyTVvT4Y6KwWoD+hiA4KVl5dDKVy9ejU8PFy77GB8TvUBwaJ0JteEaobhAZ2GuhrujaBWXUpnN+Ua/zmBWbNmffXVV85G0Zqf/WG+NA4OHToUEhJy4MAB7dFxiAHGSvmmAxYm6vV6nU6HahuTI7mGKOjAHQIk19yhRGGGR0BVXbmzMxQmIoODg0+dOsUnqRrho0ePVJd1a+gtlwvXGGP+MBkKC4+Ucg3kJjb93d3d8+bNMxgMRUVFNpstIyPDaDTyexF4hsKxM6EgBBtnp8OdDPX2VoOysjLV0TV45cAdyqDPQkJCysrKamtrYfcDvxdBWUyjGV2DRZDKxQYu5dpwb4R9lLy+UWbEzcnQnp6etLS06Ojojz/+uK6urrCwMCQkRLnPAOLfvXu3hjs6tOHMmTMRERHo80WW5aqqqp9++gkDCAe1tbWosPmfKioqJElS7gghucZTomOXBEiuuUREAYZNQFVduZRrg4OD69atAy8ewhoRZxGqWgbrnVVf2QWPaz/++OPXX38tRAJtqMbiNnBY4NWtBuCtV9n0gxJFr6EtLS3Z2dnXr1+vrKzcvHlzTU0NfPpGyJHq6cSUazhfLAzfqiLyxkXAjgIF3h+UuhwqYXJyMuyXfFob33nnnY6OjtLSUovF0tjYqLq9gDd4NFsNZFnOz88XFIY7k6HDuhE/g4Y0ePvxGIpMe0ScMWaz2TZu3Mi3G/39/aWlpUajMT8/H58L2HD90ksvOduIiul2dnYuXLiQHxJ78uTJihUrNL6v6mwdHjy2yiaF5BrSpgN3CJBcc4cShRkeAeiTlC5YsbNUNtCyLB84cECv1wvf14OEIULtJcloojNHHrBwDZds9/T0LF++vK2tDW+Eg8rKShy+En7y3ik06Di9BV81lSRJ2DEHjhvwmzyNjY1JSUnYFQ3LPJgsg9VRw7oxoANr1EDf5EuQa729venp6crhZNgQU1FRAVZZrVbh60wurYWXFtw1rBre2WQoY6y5uVmn0/GiFtQVv9XgqTZ65513zGYz7/XGnRvBGJw5VbYGvLXgyCMjI0N1KB1Dvvvuu9evX8dTPMAFZPHx8cuWLZs6darJZFJ+5g7Dw0FnZ+f8+fPr6+txt1BXV1dLS8u8efPQ92FPT8/atWvnzJmDw5wtLS0Gg0Fw8c0Y+8c//hEREXHp0iUhFZJrAhA61SZAck2bD/06DAJDQ0P37t3r6uraunUrfDr6+++/7+rqglnLrq6uX3/9NSEhQZKkrVu38u1gc3Mz7PRcsGABv4UKVw5BhEFBQY2NjV1dXXfv3uVfowUTQZYp3eTCddB8Dofjvffe27Nnj3JJisVicVMXCumO7BSgNTY2BgUFJSQk/Prrr48ePWKMdXZ2xsfHx8bG4ve5r127Fhsby3uoOnXqVHBwMPgFNZvNUVFRa9asef/9991ZuwZdhXJcZ2S5CJS7xlCuPXX+go8G1H/QH+fOnQsLC1u8eDH6eT558qTJZOJdZthsNp1OFx4eDs5hZs2alZOT89FHH2kodQ03ufictra2mkwm1ceqv79/+fLlUVFRN2/ehMI9fvx4cHAwbxUoQkmSXnrpJRztc+dGiBBvV84S8tUJRpq1dSdj7O9//7tyLT/EI8tyW1tbQUFBXl6eqq9pPjnGGMyrqm6pwRcqxhh+qH7jxo0QA4hv/plljN25c2fRokX4igVj89D6ffjhh5IkwVPf1dXlcv+4YCedTjQCJNcmWol7Mb/4uiy0dLAnQLjIn+r1+oULFx4+fFhYGoydKx8YhKByVIzPWHFxMa774a9///33kydPTk9Pj4uL++CDD5SaD1J09m14PipPHSuh4TTu48ePLRaL0WgEXw9Go9FisfD+7h89erR48WIBjiRJer2+vLxcqUR5myfmR6iQNi5I4pl49Rj0MV9YuA/AbrdnZWUZjUaz2TxjxowpU6bs2bOHd9b122+/8a68MBKNpYqDg4PZ2dmqc4gIAeOBA2Hy3W63L1iwICQkJCcnZ/Xq1ZMmTcrNzUVZBmsbsrOzJ02a9MUXX/DoXN4IgUGHKVfI8VExxhoaGvR6vXLISgjmwVNlSSEofDYZY11dXQsXLgwJCTlx4gSmfufOnbS0NL1ev2LFiry8vDVr1kyZMqWwsJBvapzFz2tBjJAOiAASILmGKOhg/BCAYSd0SMZnDAY5nL2IQxeCW/D4G8fq2OFw3H32x7f4OAawePHie/fuoW0Oh+PYsWNRUVG4vg1/Eg5g+lXooYUwGqePHz/evHlzXl6eRhjP/jQwMJCVlZWbm9vU1GR/9tfU1LRx48aXX36Z1xDaiaJS4efvtG/x2a9QM+/duye8tICj/DfeeIPP5sDAwMGDB00mE65vU9pps9m0P/GuvEW4MjQ01NbWVlxcXFpa2tHRof0CwN/rzo2yLDc3N9tsNl6Y8pHAscVicfktAeVdY3gFvgtXXV1tsVg+++wzd4a6x9BaSjqACJBcC6DCIlPdJdDf37/k2Z92T6CMrry83KXQUd41JldglTqO0PA2wLo0bUUCwmW4q/ROnz5dWlq6YsUKcDrKDzbwBnjjWHWo1Ww248ohdxIdpUh1JwmPh6msrHSmqktKStAJnzJd8GqGfl6UAfz/CmShuLjY/00lC4mAtwmQXPM2YYp/bAgcOXLEZDIpv0ujYU13d3dSUhL/3SeNwGP+EyiPXbt2CWMesizv2rXLZDIplzbzNuO+vGFNC1ZXV8MW1Lfffns03wZobm7esGEDb4/LY0GumUymwsJCfmrYZQyMMWc7Md25d6zCwGzgwYMHBQMcDkdubq72yFNFRUVERAQufxRi8P/TmpqagLbf/wmThQFEgORaABUWmToMArC5cvny5e4PsFVUVCQnJ2ss3x5G8t4PKstyeXm50Wj829/+hp/fuXv3bn5+vl6v37t3ryDjBIvQL0NJSYnwkzunsMNxxKNrjY2Nw70X5JrqaKI7BkMY2FobWIuEHA7HX/7yl8mTJ1dVVYH7CVmWr1279vLLL0+aNElbbcPid36du/usxjzkvXv35s6d685nOsfcVDKACPiAAMk1H0CmJMaGQE9PT3p6upufcz5z5kxsbKzLHf5jkxPnqd66devdd9+NiYnRP/uLiYl599133VwuA17oNL527zxZFqByDRxkaHxGSSPLY/iTLMtXrlzZuHGj2WyWJMlgMDx1j7x37153Xi06Ozvnzp1bX18/hvaPIGmHw5H37E9YsjmCqOgWIjA+CJBcGx/lSLlQJ/DgwYMVK1Y0NDSo//yvq3a7fenSpcNaBfWvWwP4f/BEIHye1c38BKJcA08u/FdW3cxsoAe7du3aiy++eP78+QDKSFlZ2dtvv01aLYCKjEz1NgGSa94mTPETAT8lcP369enP/lT9i2obPVZyrby8PCsrKzw8fOrUqdHR0U1NTdpzvnwuwH8y+knmf6JjIkAEiICfEyC55ucFROYRAW8RwNEm7T2kqsn7Xq719fWlpaVFRUXBRxuHhoZ27dql0+lcrtJD++FDnKquyDAMHRABIkAE/JMAyTX/LBeyigj4ggCoLpcu45Wm+F6uMcb279/PT1jfvn07MjLSmZMLpc2VlZWSJAW0YwtlpugKESACqiycSAAABRxJREFUE4QAybUJUtCUTSKgQgD8CWu4WlW559klN+WaLMsnT56sU/wVFhYuWrRIcbnu8OHDvDNYZ6nDdXTt4Y7cHBwczMzMlCTJ5UJG7UTpVyJABIjAmBAguTYm2ClRIuAXBEDxuD9AhUb7Xq7JsvzkyRNhpVpOTo4kSZmZmYODg2ib6gEs1NP2UqZ6I10kAkSACPgDAZJr/lAKZAMRGDMC5eXlkiQN13G8m3LNWa6G63dNluW33npLkqRNmzbxygzkWlpamssxOfC4NtxsOrOfrhMBIkAEfEyA5JqPgVNyRMC/CNy4cSMiIiIxMfHhw4fuW+ZjuYbznvxGAbxosVi0LYePkrn80oN2JPQrESACRGAMCZBcG0P4lDQR8AsCxcXFOp1O2z++YKiP5RpjzGKxJCcnX7lyBS2BrQZ6vf7IkSN4UfUAluhlZ2fzI3OqIekiESACRMA/CZBc889yIauIgO8IwADbkiVLXH6wq7e3t6ury263b968WZKk5cuX2+32rq6uR48eDcvc4U6GMsbOnz//pz/9qb29HRKSZbm0tFSSpLy8PG1nqk8XveXn549gfd6wckSBiQARIAJeJUByzat4KXIiEBgErFarO8NUMKgmKf6G+wHQEcg1xtjhw4dDQ0NXrFiRl5eXkpKi0+nefvttlxLz0qVLJpMpQL+bGRi1h6wkAkTA+wRIrnmfMaVABPyeQHd3d1JSks++fT4yucYY6+7u/vrrr7dt2/bZZ5+582nUwcHBdevWRUVF3bx50+8LgQwkAkSACDglQHLNKRr6gQhMKALHjx83Go0VFRU+yHVzc/OGDRt8kNCRI0cmTZp08OBBH6RFSRABIkAEvEeA5Jr32FLMRCCQCMBqsGnTpl2+fDmQ7HZuKwwZulzc5jwC+oUIEAEi4C8ESK75S0mQHURgzAk4HI68vLy0tLSenp4xN2aUBoynvIwSBd1OBIjAOCBAcm0cFCJlgQh4jEBPT09aWtqOHTuE7wd4LAGfRAQjhXFxcZ2dnT5JkBIhAkSACHiXAMk17/Kl2IlAwBGw2+1JSUmlpaWBq9jq6+v/+Mc/otePgCsCMpgIEAEiIBAguSYAoVMiQATYnTt3Vq9e/c9//jMQWVy/fj0zM/PatWuBaDzZTASIABFQJUByTRULXSQCRIAIEAEiQASIgL8QILnmLyVBdhABIkAEiAARIAJEQJUAyTVVLHSRCBABIkAEiAARIAL+QoDkmr+UBNlBBIgAESACRIAIEAFVAiTXVLHQRSJABIgAESACRIAI+AsBkmv+UhJkBxEgAkSACBABIkAEVAmQXFPFQheJABEgAkSACBABIuAvBEiu+UtJkB1EgAgQASJABIgAEVAlQHJNFQtdJAJEgAgQASJABIiAvxAgueYvJUF2EAEiQASIABEgAkRAlQDJNVUsdJEIEAEiQASIABEgAv5CgOSav5QE2UEEiAARIAJEgAgQAVUCJNdUsdBFIkAEiAARIAJEgAj4CwGSa/5SEmQHESACRIAIEAEiQARUCZBcU8VCF4kAESACRIAIEAEi4C8ESK75S0mQHUSACBABIkAEiAARUCVAck0VC10kAkSACBABIkAEiIC/ECC55i8lQXYQASJABIgAESACRECVAMk1VSx0kQgQASJABIgAESAC/kKA5Jq/lATZQQSIABEgAkSACBABVQIk11Sx0EUiQASIABEgAkSACPgLAZJr/lISZAcRIAJEgAgQASJABFQJ/D+kkQynzOY1DwAAAABJRU5ErkJggg==)\n",
        "\n",
        "Example:\n",
        "![image.png](data:image/png;base64,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)\n",
        "\n",
        "--------------------------------------------\n",
        "#Example\n",
        "Let's say we have a corpus of 3 documents:\n",
        "\n",
        "    Document 1: \"this is a good example\"\n",
        "    Document 2: \"this example is not good\"\n",
        "    Document 3: \"this is another example\"\n",
        "\n",
        "#Key Insights:\n",
        "##High TF-IDF:\n",
        "A high TF-IDF score for a term in a document indicates that the term is frequent in that specific document but rare across the whole corpus.\n",
        "\n",
        "This makes it an important term for that document.\n",
        "\n",
        "##Low TF-IDF:\n",
        "\n",
        "A low TF-IDF score means the term is either frequent across many documents (like stop words \"the\", \"is\") or it's not frequent in the specific document.\n",
        "\n",
        "------------------------------------------------------------\n",
        "#How TF-IDF is Used:\n",
        "##Text Classification:\n",
        "By converting text documents into numerical vectors using TF-IDF, classifiers can then work with these vectors to classify documents into different categories (e.g., spam vs. non-spam emails).\n",
        "\n",
        "##Information Retrieval\n",
        "TF-IDF can help in search engines to rank documents by relevance to a query. Terms with high TF-IDF scores in the query are given more importance.\n",
        "\n",
        "#In Scikit-learn:\n",
        "In Python's scikit-learn, the TfidfVectorizer is used to convert text data into a TF-IDF matrix. Here's an example of how it works:\n",
        "\n",
        "    from sklearn.feature_extraction.text import TfidfVectorizer\n",
        "\n",
        "# Sample documents\n",
        "    docs = [\"this is a good example\", \"this example is not good\", \"this is another example\"]\n",
        "\n",
        "# Create the TfidfVectorizer\n",
        "    vectorizer = TfidfVectorizer()\n",
        "\n",
        "# Fit and transform the documents into a TF-IDF matrix\n",
        "    tfidf_matrix = vectorizer.fit_transform(docs)\n",
        "\n",
        "# Get feature names (terms) and corresponding TF-IDF values\n",
        "    print(vectorizer.get_feature_names_out())  # ['another', 'example', 'good', 'is', 'not', 'this']\n",
        "    print(tfidf_matrix.toarray())  # TF-IDF matrix for each document\n",
        "This converts the text documents into a matrix of TF-IDF features, where each row corresponds to a document and each column corresponds to a term's TF-IDF score.\n",
        "\n",
        "---------------------------------\n",
        "#Summary\n",
        "TF-IDF weighs words based on their frequency in a document (TF) and their rarity across documents (IDF).\n",
        "\n",
        "It helps highlight more meaningful terms in a document relative to a corpus, which can be used in text classification, search engines, or information retrieval systems."
      ],
      "metadata": {
        "id": "TlBmNHuAQYyy"
      }
    },
    {
      "cell_type": "markdown",
      "metadata": {
        "id": "uXn4sIHFDBUX"
      },
      "source": [
        "## Feed the training data through the first pipeline\n",
        "We'll run naïve Bayes first"
      ]
    },
    {
      "cell_type": "code",
      "execution_count": 23,
      "metadata": {
        "colab": {
          "base_uri": "https://localhost:8080/",
          "height": 141
        },
        "id": "aWx50a6cDBUX",
        "outputId": "1b746847-10fe-4d9b-ccf5-9ef40bfc2091"
      },
      "outputs": [
        {
          "output_type": "execute_result",
          "data": {
            "text/plain": [
              "Pipeline(steps=[('tfidf', TfidfVectorizer()), ('clf', MultinomialNB())])"
            ],
            "text/html": [
              "<style>#sk-container-id-1 {\n",
              "  /* Definition of color scheme common for light and dark mode */\n",
              "  --sklearn-color-text: black;\n",
              "  --sklearn-color-line: gray;\n",
              "  /* Definition of color scheme for unfitted estimators */\n",
              "  --sklearn-color-unfitted-level-0: #fff5e6;\n",
              "  --sklearn-color-unfitted-level-1: #f6e4d2;\n",
              "  --sklearn-color-unfitted-level-2: #ffe0b3;\n",
              "  --sklearn-color-unfitted-level-3: chocolate;\n",
              "  /* Definition of color scheme for fitted estimators */\n",
              "  --sklearn-color-fitted-level-0: #f0f8ff;\n",
              "  --sklearn-color-fitted-level-1: #d4ebff;\n",
              "  --sklearn-color-fitted-level-2: #b3dbfd;\n",
              "  --sklearn-color-fitted-level-3: cornflowerblue;\n",
              "\n",
              "  /* Specific color for light theme */\n",
              "  --sklearn-color-text-on-default-background: var(--sg-text-color, var(--theme-code-foreground, var(--jp-content-font-color1, black)));\n",
              "  --sklearn-color-background: var(--sg-background-color, var(--theme-background, var(--jp-layout-color0, white)));\n",
              "  --sklearn-color-border-box: var(--sg-text-color, var(--theme-code-foreground, var(--jp-content-font-color1, black)));\n",
              "  --sklearn-color-icon: #696969;\n",
              "\n",
              "  @media (prefers-color-scheme: dark) {\n",
              "    /* Redefinition of color scheme for dark theme */\n",
              "    --sklearn-color-text-on-default-background: var(--sg-text-color, var(--theme-code-foreground, var(--jp-content-font-color1, white)));\n",
              "    --sklearn-color-background: var(--sg-background-color, var(--theme-background, var(--jp-layout-color0, #111)));\n",
              "    --sklearn-color-border-box: var(--sg-text-color, var(--theme-code-foreground, var(--jp-content-font-color1, white)));\n",
              "    --sklearn-color-icon: #878787;\n",
              "  }\n",
              "}\n",
              "\n",
              "#sk-container-id-1 {\n",
              "  color: var(--sklearn-color-text);\n",
              "}\n",
              "\n",
              "#sk-container-id-1 pre {\n",
              "  padding: 0;\n",
              "}\n",
              "\n",
              "#sk-container-id-1 input.sk-hidden--visually {\n",
              "  border: 0;\n",
              "  clip: rect(1px 1px 1px 1px);\n",
              "  clip: rect(1px, 1px, 1px, 1px);\n",
              "  height: 1px;\n",
              "  margin: -1px;\n",
              "  overflow: hidden;\n",
              "  padding: 0;\n",
              "  position: absolute;\n",
              "  width: 1px;\n",
              "}\n",
              "\n",
              "#sk-container-id-1 div.sk-dashed-wrapped {\n",
              "  border: 1px dashed var(--sklearn-color-line);\n",
              "  margin: 0 0.4em 0.5em 0.4em;\n",
              "  box-sizing: border-box;\n",
              "  padding-bottom: 0.4em;\n",
              "  background-color: var(--sklearn-color-background);\n",
              "}\n",
              "\n",
              "#sk-container-id-1 div.sk-container {\n",
              "  /* jupyter's `normalize.less` sets `[hidden] { display: none; }`\n",
              "     but bootstrap.min.css set `[hidden] { display: none !important; }`\n",
              "     so we also need the `!important` here to be able to override the\n",
              "     default hidden behavior on the sphinx rendered scikit-learn.org.\n",
              "     See: https://github.com/scikit-learn/scikit-learn/issues/21755 */\n",
              "  display: inline-block !important;\n",
              "  position: relative;\n",
              "}\n",
              "\n",
              "#sk-container-id-1 div.sk-text-repr-fallback {\n",
              "  display: none;\n",
              "}\n",
              "\n",
              "div.sk-parallel-item,\n",
              "div.sk-serial,\n",
              "div.sk-item {\n",
              "  /* draw centered vertical line to link estimators */\n",
              "  background-image: linear-gradient(var(--sklearn-color-text-on-default-background), var(--sklearn-color-text-on-default-background));\n",
              "  background-size: 2px 100%;\n",
              "  background-repeat: no-repeat;\n",
              "  background-position: center center;\n",
              "}\n",
              "\n",
              "/* Parallel-specific style estimator block */\n",
              "\n",
              "#sk-container-id-1 div.sk-parallel-item::after {\n",
              "  content: \"\";\n",
              "  width: 100%;\n",
              "  border-bottom: 2px solid var(--sklearn-color-text-on-default-background);\n",
              "  flex-grow: 1;\n",
              "}\n",
              "\n",
              "#sk-container-id-1 div.sk-parallel {\n",
              "  display: flex;\n",
              "  align-items: stretch;\n",
              "  justify-content: center;\n",
              "  background-color: var(--sklearn-color-background);\n",
              "  position: relative;\n",
              "}\n",
              "\n",
              "#sk-container-id-1 div.sk-parallel-item {\n",
              "  display: flex;\n",
              "  flex-direction: column;\n",
              "}\n",
              "\n",
              "#sk-container-id-1 div.sk-parallel-item:first-child::after {\n",
              "  align-self: flex-end;\n",
              "  width: 50%;\n",
              "}\n",
              "\n",
              "#sk-container-id-1 div.sk-parallel-item:last-child::after {\n",
              "  align-self: flex-start;\n",
              "  width: 50%;\n",
              "}\n",
              "\n",
              "#sk-container-id-1 div.sk-parallel-item:only-child::after {\n",
              "  width: 0;\n",
              "}\n",
              "\n",
              "/* Serial-specific style estimator block */\n",
              "\n",
              "#sk-container-id-1 div.sk-serial {\n",
              "  display: flex;\n",
              "  flex-direction: column;\n",
              "  align-items: center;\n",
              "  background-color: var(--sklearn-color-background);\n",
              "  padding-right: 1em;\n",
              "  padding-left: 1em;\n",
              "}\n",
              "\n",
              "\n",
              "/* Toggleable style: style used for estimator/Pipeline/ColumnTransformer box that is\n",
              "clickable and can be expanded/collapsed.\n",
              "- Pipeline and ColumnTransformer use this feature and define the default style\n",
              "- Estimators will overwrite some part of the style using the `sk-estimator` class\n",
              "*/\n",
              "\n",
              "/* Pipeline and ColumnTransformer style (default) */\n",
              "\n",
              "#sk-container-id-1 div.sk-toggleable {\n",
              "  /* Default theme specific background. It is overwritten whether we have a\n",
              "  specific estimator or a Pipeline/ColumnTransformer */\n",
              "  background-color: var(--sklearn-color-background);\n",
              "}\n",
              "\n",
              "/* Toggleable label */\n",
              "#sk-container-id-1 label.sk-toggleable__label {\n",
              "  cursor: pointer;\n",
              "  display: block;\n",
              "  width: 100%;\n",
              "  margin-bottom: 0;\n",
              "  padding: 0.5em;\n",
              "  box-sizing: border-box;\n",
              "  text-align: center;\n",
              "}\n",
              "\n",
              "#sk-container-id-1 label.sk-toggleable__label-arrow:before {\n",
              "  /* Arrow on the left of the label */\n",
              "  content: \"▸\";\n",
              "  float: left;\n",
              "  margin-right: 0.25em;\n",
              "  color: var(--sklearn-color-icon);\n",
              "}\n",
              "\n",
              "#sk-container-id-1 label.sk-toggleable__label-arrow:hover:before {\n",
              "  color: var(--sklearn-color-text);\n",
              "}\n",
              "\n",
              "/* Toggleable content - dropdown */\n",
              "\n",
              "#sk-container-id-1 div.sk-toggleable__content {\n",
              "  max-height: 0;\n",
              "  max-width: 0;\n",
              "  overflow: hidden;\n",
              "  text-align: left;\n",
              "  /* unfitted */\n",
              "  background-color: var(--sklearn-color-unfitted-level-0);\n",
              "}\n",
              "\n",
              "#sk-container-id-1 div.sk-toggleable__content.fitted {\n",
              "  /* fitted */\n",
              "  background-color: var(--sklearn-color-fitted-level-0);\n",
              "}\n",
              "\n",
              "#sk-container-id-1 div.sk-toggleable__content pre {\n",
              "  margin: 0.2em;\n",
              "  border-radius: 0.25em;\n",
              "  color: var(--sklearn-color-text);\n",
              "  /* unfitted */\n",
              "  background-color: var(--sklearn-color-unfitted-level-0);\n",
              "}\n",
              "\n",
              "#sk-container-id-1 div.sk-toggleable__content.fitted pre {\n",
              "  /* unfitted */\n",
              "  background-color: var(--sklearn-color-fitted-level-0);\n",
              "}\n",
              "\n",
              "#sk-container-id-1 input.sk-toggleable__control:checked~div.sk-toggleable__content {\n",
              "  /* Expand drop-down */\n",
              "  max-height: 200px;\n",
              "  max-width: 100%;\n",
              "  overflow: auto;\n",
              "}\n",
              "\n",
              "#sk-container-id-1 input.sk-toggleable__control:checked~label.sk-toggleable__label-arrow:before {\n",
              "  content: \"▾\";\n",
              "}\n",
              "\n",
              "/* Pipeline/ColumnTransformer-specific style */\n",
              "\n",
              "#sk-container-id-1 div.sk-label input.sk-toggleable__control:checked~label.sk-toggleable__label {\n",
              "  color: var(--sklearn-color-text);\n",
              "  background-color: var(--sklearn-color-unfitted-level-2);\n",
              "}\n",
              "\n",
              "#sk-container-id-1 div.sk-label.fitted input.sk-toggleable__control:checked~label.sk-toggleable__label {\n",
              "  background-color: var(--sklearn-color-fitted-level-2);\n",
              "}\n",
              "\n",
              "/* Estimator-specific style */\n",
              "\n",
              "/* Colorize estimator box */\n",
              "#sk-container-id-1 div.sk-estimator input.sk-toggleable__control:checked~label.sk-toggleable__label {\n",
              "  /* unfitted */\n",
              "  background-color: var(--sklearn-color-unfitted-level-2);\n",
              "}\n",
              "\n",
              "#sk-container-id-1 div.sk-estimator.fitted input.sk-toggleable__control:checked~label.sk-toggleable__label {\n",
              "  /* fitted */\n",
              "  background-color: var(--sklearn-color-fitted-level-2);\n",
              "}\n",
              "\n",
              "#sk-container-id-1 div.sk-label label.sk-toggleable__label,\n",
              "#sk-container-id-1 div.sk-label label {\n",
              "  /* The background is the default theme color */\n",
              "  color: var(--sklearn-color-text-on-default-background);\n",
              "}\n",
              "\n",
              "/* On hover, darken the color of the background */\n",
              "#sk-container-id-1 div.sk-label:hover label.sk-toggleable__label {\n",
              "  color: var(--sklearn-color-text);\n",
              "  background-color: var(--sklearn-color-unfitted-level-2);\n",
              "}\n",
              "\n",
              "/* Label box, darken color on hover, fitted */\n",
              "#sk-container-id-1 div.sk-label.fitted:hover label.sk-toggleable__label.fitted {\n",
              "  color: var(--sklearn-color-text);\n",
              "  background-color: var(--sklearn-color-fitted-level-2);\n",
              "}\n",
              "\n",
              "/* Estimator label */\n",
              "\n",
              "#sk-container-id-1 div.sk-label label {\n",
              "  font-family: monospace;\n",
              "  font-weight: bold;\n",
              "  display: inline-block;\n",
              "  line-height: 1.2em;\n",
              "}\n",
              "\n",
              "#sk-container-id-1 div.sk-label-container {\n",
              "  text-align: center;\n",
              "}\n",
              "\n",
              "/* Estimator-specific */\n",
              "#sk-container-id-1 div.sk-estimator {\n",
              "  font-family: monospace;\n",
              "  border: 1px dotted var(--sklearn-color-border-box);\n",
              "  border-radius: 0.25em;\n",
              "  box-sizing: border-box;\n",
              "  margin-bottom: 0.5em;\n",
              "  /* unfitted */\n",
              "  background-color: var(--sklearn-color-unfitted-level-0);\n",
              "}\n",
              "\n",
              "#sk-container-id-1 div.sk-estimator.fitted {\n",
              "  /* fitted */\n",
              "  background-color: var(--sklearn-color-fitted-level-0);\n",
              "}\n",
              "\n",
              "/* on hover */\n",
              "#sk-container-id-1 div.sk-estimator:hover {\n",
              "  /* unfitted */\n",
              "  background-color: var(--sklearn-color-unfitted-level-2);\n",
              "}\n",
              "\n",
              "#sk-container-id-1 div.sk-estimator.fitted:hover {\n",
              "  /* fitted */\n",
              "  background-color: var(--sklearn-color-fitted-level-2);\n",
              "}\n",
              "\n",
              "/* Specification for estimator info (e.g. \"i\" and \"?\") */\n",
              "\n",
              "/* Common style for \"i\" and \"?\" */\n",
              "\n",
              ".sk-estimator-doc-link,\n",
              "a:link.sk-estimator-doc-link,\n",
              "a:visited.sk-estimator-doc-link {\n",
              "  float: right;\n",
              "  font-size: smaller;\n",
              "  line-height: 1em;\n",
              "  font-family: monospace;\n",
              "  background-color: var(--sklearn-color-background);\n",
              "  border-radius: 1em;\n",
              "  height: 1em;\n",
              "  width: 1em;\n",
              "  text-decoration: none !important;\n",
              "  margin-left: 1ex;\n",
              "  /* unfitted */\n",
              "  border: var(--sklearn-color-unfitted-level-1) 1pt solid;\n",
              "  color: var(--sklearn-color-unfitted-level-1);\n",
              "}\n",
              "\n",
              ".sk-estimator-doc-link.fitted,\n",
              "a:link.sk-estimator-doc-link.fitted,\n",
              "a:visited.sk-estimator-doc-link.fitted {\n",
              "  /* fitted */\n",
              "  border: var(--sklearn-color-fitted-level-1) 1pt solid;\n",
              "  color: var(--sklearn-color-fitted-level-1);\n",
              "}\n",
              "\n",
              "/* On hover */\n",
              "div.sk-estimator:hover .sk-estimator-doc-link:hover,\n",
              ".sk-estimator-doc-link:hover,\n",
              "div.sk-label-container:hover .sk-estimator-doc-link:hover,\n",
              ".sk-estimator-doc-link:hover {\n",
              "  /* unfitted */\n",
              "  background-color: var(--sklearn-color-unfitted-level-3);\n",
              "  color: var(--sklearn-color-background);\n",
              "  text-decoration: none;\n",
              "}\n",
              "\n",
              "div.sk-estimator.fitted:hover .sk-estimator-doc-link.fitted:hover,\n",
              ".sk-estimator-doc-link.fitted:hover,\n",
              "div.sk-label-container:hover .sk-estimator-doc-link.fitted:hover,\n",
              ".sk-estimator-doc-link.fitted:hover {\n",
              "  /* fitted */\n",
              "  background-color: var(--sklearn-color-fitted-level-3);\n",
              "  color: var(--sklearn-color-background);\n",
              "  text-decoration: none;\n",
              "}\n",
              "\n",
              "/* Span, style for the box shown on hovering the info icon */\n",
              ".sk-estimator-doc-link span {\n",
              "  display: none;\n",
              "  z-index: 9999;\n",
              "  position: relative;\n",
              "  font-weight: normal;\n",
              "  right: .2ex;\n",
              "  padding: .5ex;\n",
              "  margin: .5ex;\n",
              "  width: min-content;\n",
              "  min-width: 20ex;\n",
              "  max-width: 50ex;\n",
              "  color: var(--sklearn-color-text);\n",
              "  box-shadow: 2pt 2pt 4pt #999;\n",
              "  /* unfitted */\n",
              "  background: var(--sklearn-color-unfitted-level-0);\n",
              "  border: .5pt solid var(--sklearn-color-unfitted-level-3);\n",
              "}\n",
              "\n",
              ".sk-estimator-doc-link.fitted span {\n",
              "  /* fitted */\n",
              "  background: var(--sklearn-color-fitted-level-0);\n",
              "  border: var(--sklearn-color-fitted-level-3);\n",
              "}\n",
              "\n",
              ".sk-estimator-doc-link:hover span {\n",
              "  display: block;\n",
              "}\n",
              "\n",
              "/* \"?\"-specific style due to the `<a>` HTML tag */\n",
              "\n",
              "#sk-container-id-1 a.estimator_doc_link {\n",
              "  float: right;\n",
              "  font-size: 1rem;\n",
              "  line-height: 1em;\n",
              "  font-family: monospace;\n",
              "  background-color: var(--sklearn-color-background);\n",
              "  border-radius: 1rem;\n",
              "  height: 1rem;\n",
              "  width: 1rem;\n",
              "  text-decoration: none;\n",
              "  /* unfitted */\n",
              "  color: var(--sklearn-color-unfitted-level-1);\n",
              "  border: var(--sklearn-color-unfitted-level-1) 1pt solid;\n",
              "}\n",
              "\n",
              "#sk-container-id-1 a.estimator_doc_link.fitted {\n",
              "  /* fitted */\n",
              "  border: var(--sklearn-color-fitted-level-1) 1pt solid;\n",
              "  color: var(--sklearn-color-fitted-level-1);\n",
              "}\n",
              "\n",
              "/* On hover */\n",
              "#sk-container-id-1 a.estimator_doc_link:hover {\n",
              "  /* unfitted */\n",
              "  background-color: var(--sklearn-color-unfitted-level-3);\n",
              "  color: var(--sklearn-color-background);\n",
              "  text-decoration: none;\n",
              "}\n",
              "\n",
              "#sk-container-id-1 a.estimator_doc_link.fitted:hover {\n",
              "  /* fitted */\n",
              "  background-color: var(--sklearn-color-fitted-level-3);\n",
              "}\n",
              "</style><div id=\"sk-container-id-1\" class=\"sk-top-container\"><div class=\"sk-text-repr-fallback\"><pre>Pipeline(steps=[(&#x27;tfidf&#x27;, TfidfVectorizer()), (&#x27;clf&#x27;, MultinomialNB())])</pre><b>In a Jupyter environment, please rerun this cell to show the HTML representation or trust the notebook. <br />On GitHub, the HTML representation is unable to render, please try loading this page with nbviewer.org.</b></div><div class=\"sk-container\" hidden><div class=\"sk-item sk-dashed-wrapped\"><div class=\"sk-label-container\"><div class=\"sk-label fitted sk-toggleable\"><input class=\"sk-toggleable__control sk-hidden--visually\" id=\"sk-estimator-id-1\" type=\"checkbox\" ><label for=\"sk-estimator-id-1\" class=\"sk-toggleable__label fitted sk-toggleable__label-arrow fitted\">&nbsp;&nbsp;Pipeline<a class=\"sk-estimator-doc-link fitted\" rel=\"noreferrer\" target=\"_blank\" href=\"https://scikit-learn.org/1.5/modules/generated/sklearn.pipeline.Pipeline.html\">?<span>Documentation for Pipeline</span></a><span class=\"sk-estimator-doc-link fitted\">i<span>Fitted</span></span></label><div class=\"sk-toggleable__content fitted\"><pre>Pipeline(steps=[(&#x27;tfidf&#x27;, TfidfVectorizer()), (&#x27;clf&#x27;, MultinomialNB())])</pre></div> </div></div><div class=\"sk-serial\"><div class=\"sk-item\"><div class=\"sk-estimator fitted sk-toggleable\"><input class=\"sk-toggleable__control sk-hidden--visually\" id=\"sk-estimator-id-2\" type=\"checkbox\" ><label for=\"sk-estimator-id-2\" class=\"sk-toggleable__label fitted sk-toggleable__label-arrow fitted\">&nbsp;TfidfVectorizer<a class=\"sk-estimator-doc-link fitted\" rel=\"noreferrer\" target=\"_blank\" href=\"https://scikit-learn.org/1.5/modules/generated/sklearn.feature_extraction.text.TfidfVectorizer.html\">?<span>Documentation for TfidfVectorizer</span></a></label><div class=\"sk-toggleable__content fitted\"><pre>TfidfVectorizer()</pre></div> </div></div><div class=\"sk-item\"><div class=\"sk-estimator fitted sk-toggleable\"><input class=\"sk-toggleable__control sk-hidden--visually\" id=\"sk-estimator-id-3\" type=\"checkbox\" ><label for=\"sk-estimator-id-3\" class=\"sk-toggleable__label fitted sk-toggleable__label-arrow fitted\">&nbsp;MultinomialNB<a class=\"sk-estimator-doc-link fitted\" rel=\"noreferrer\" target=\"_blank\" href=\"https://scikit-learn.org/1.5/modules/generated/sklearn.naive_bayes.MultinomialNB.html\">?<span>Documentation for MultinomialNB</span></a></label><div class=\"sk-toggleable__content fitted\"><pre>MultinomialNB()</pre></div> </div></div></div></div></div></div>"
            ]
          },
          "metadata": {},
          "execution_count": 23
        }
      ],
      "source": [
        "text_clf_nb.fit(X_train, y_train)"
      ]
    },
    {
      "cell_type": "markdown",
      "source": [
        "# Bayes' Theorem Overview\n",
        "Bayes' Theorem is a way to update our belief about a situation (a class in classification tasks) based on new evidence (the data we observe).\n",
        "\n",
        "![image.png](data:image/png;base64,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)\n",
        "\n",
        "This formula helps us calculate the posterior probability,\n",
        "\n",
        "![image.png](data:image/png;base64,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)\n",
        "\n",
        "P(C∣X), which is the probability of a class 𝐶 (e.g., spam or not spam) given some observed data\n",
        "\n",
        "𝑋 (e.g., the contents of an email). Let's break down each component:\n",
        "\n",
        "1.\n",
        "𝑃\n",
        "(\n",
        "𝐶\n",
        "∣\n",
        "𝑋\n",
        ")\n",
        "#P(C∣X) — Posterior Probability:\n",
        "This is what we are trying to find: the probability of the class 𝐶 (e.g., \"spam\" or \"not spam\") after seeing the data\n",
        "𝑋 (e.g., the words in an email).\n",
        "\n",
        "Think of it like this:\n",
        "\n",
        "Imagine you're trying to determine whether an email is spam. Based on the contents of the email (the data), what is the likelihood that it's spam?\n",
        "\n",
        "If the email contains words like \"free\" and \"prize,\" you might think it's more likely to be spam, so the posterior probability of it being spam increases after seeing those words.\n",
        "\n",
        "In short,\n",
        "$$𝑃(𝐶∣𝑋)$$\n",
        "\n",
        "P(C∣X) tells you how much you should believe that the email belongs to class\n",
        "\n",
        "𝐶(e.g., \"spam\") after considering the evidence (data)\n",
        "𝑋.\n",
        "\n",
        "---------------------------------------\n",
        "#2. 𝑃(𝑋∣𝐶) — Likelihood:\n",
        "This is the probability of the observed data given that you already know the class.\n",
        "\n",
        "In our example:\n",
        "\n",
        "$$𝑃(𝑋∣𝐶=spam)##\n",
        "\n",
        "##P(X∣C=spam) means:\n",
        "\"If we assume the email is spam, how likely is it that this specific set of words\n",
        "\n",
        "𝑋 (e.g., 'free', 'prize', etc.) would appear in a spam email?\"\n",
        "\n",
        "In other words, the likelihood measures how well a certain class C explains the observed data 𝑋\n",
        "\n",
        "##For example:\n",
        "\n",
        "If certain words frequently appear in spam emails, the likelihood of observing those words, given that the email is spam, is high.\n",
        "\n",
        "-----------------------------------\n",
        "#Putting It Together:\n",
        "Let's use an intuitive scenario:\n",
        "\n",
        "Imagine you get an email that says: \"Congratulations! You won a free prize!\"\n",
        "\n",
        "You want to know whether this email is spam or not spam.\n",
        "\n",
        "That's your 𝐶, the class you're trying to predict.\n",
        "\n",
        "To calculate this, you use Bayes' Theorem:\n",
        "\n",
        "##P(C∣X)\n",
        "is the probability the email is spam after seeing the words \"Congratulations!\" and \"free prize.\" (This is what we want to know!)\n",
        "\n",
        "##P(X∣C)\n",
        "tells you how likely it is that a spam email contains words like \"Congratulations!\" and \"free prize.\"\n",
        "\n",
        "If spam emails often have these words, P(X∣C=spam) will be high.\n",
        "\n",
        "Finally, based on how common spam is overall and how well these words match typical spam content, Bayes' Theorem combines these probabilities to give you a posterior probability P(C∣X) — how likely it is that this particular email is spam.\n",
        "\n",
        "----------------------------\n",
        "#Summary\n",
        "\n",
        "##P(C∣X) (Posterior Probability):\n",
        "\n",
        "After seeing the data (like words in an email), how likely is it that the email is spam?\n",
        "\n",
        "##P(X∣C) (Likelihood):\n",
        "If the email is spam, how likely are we to see this specific set of words?\n",
        "\n",
        "This process allows us to update our beliefs about whether the email is spam based on the evidence we observe (the words in the email).\n",
        "\n",
        "-------------------------------\n",
        "#Understanding the Reversal with an Analogy:\n",
        "Imagine you’re a doctor diagnosing a patient for a rare disease, and the patient has just received a positive test result.\n",
        "\n",
        "You want to figure out how likely it is that they actually have the disease.\n",
        "\n",
        "Now, you have two different ways of thinking:\n",
        "\n",
        "Likelihood: If the patient has the disease (this is\n",
        "𝐶, the class), how likely is it that they would test positive (this is 𝑋, the evidence)?\n",
        "\n",
        "Example: If the disease causes a positive test 90% of the time, then\n",
        "    P(X∣C)=0.90.\n",
        "Posterior Probability: Given that the patient tested positive (this is 𝑋, the data), how likely is it that they actually have the disease (this is 𝐶)?\n",
        "\n",
        "This is what you’re really interested in:\n",
        "\n",
        "P(C∣X), the probability they have the disease"
      ],
      "metadata": {
        "id": "INhauUFuntS8"
      }
    },
    {
      "cell_type": "markdown",
      "metadata": {
        "id": "yguTwAjsDBUX"
      },
      "source": [
        "## Run predictions and analyze the results (naïve Bayes)"
      ]
    },
    {
      "cell_type": "code",
      "execution_count": 24,
      "metadata": {
        "collapsed": true,
        "id": "x5f8T7-yDBUX"
      },
      "outputs": [],
      "source": [
        "# Form a prediction set\n",
        "predictions = text_clf_nb.predict(X_test)"
      ]
    },
    {
      "cell_type": "code",
      "execution_count": 25,
      "metadata": {
        "colab": {
          "base_uri": "https://localhost:8080/"
        },
        "id": "K4E4MtM_DBUX",
        "outputId": "8dba3f46-d5f4-4f3e-8c5f-d56889518603"
      },
      "outputs": [
        {
          "output_type": "stream",
          "name": "stdout",
          "text": [
            "[[287  21]\n",
            " [130 202]]\n"
          ]
        }
      ],
      "source": [
        "# Report the confusion matrix\n",
        "from sklearn import metrics\n",
        "print(metrics.confusion_matrix(y_test,predictions))"
      ]
    },
    {
      "cell_type": "code",
      "execution_count": null,
      "metadata": {
        "id": "vcAS96SiDBUY",
        "outputId": "2b4ae87a-4c70-4812-a1b4-04f0abcf85d1"
      },
      "outputs": [
        {
          "name": "stdout",
          "output_type": "stream",
          "text": [
            "              precision    recall  f1-score   support\n",
            "\n",
            "         neg       0.69      0.93      0.79       308\n",
            "         pos       0.91      0.61      0.73       332\n",
            "\n",
            "   micro avg       0.76      0.76      0.76       640\n",
            "   macro avg       0.80      0.77      0.76       640\n",
            "weighted avg       0.80      0.76      0.76       640\n",
            "\n"
          ]
        }
      ],
      "source": [
        "# Print a classification report\n",
        "print(metrics.classification_report(y_test,predictions))"
      ]
    },
    {
      "cell_type": "code",
      "execution_count": null,
      "metadata": {
        "id": "v8u6qxitDBUY",
        "outputId": "c18a747f-57db-4dad-b3d1-88b99c482167"
      },
      "outputs": [
        {
          "name": "stdout",
          "output_type": "stream",
          "text": [
            "0.7640625\n"
          ]
        }
      ],
      "source": [
        "# Print the overall accuracy\n",
        "print(metrics.accuracy_score(y_test,predictions))"
      ]
    },
    {
      "cell_type": "markdown",
      "metadata": {
        "id": "Ow_NrTmFDBUY"
      },
      "source": [
        "Naïve Bayes gave us better-than-average results at 76.4% for classifying reviews as positive or negative based on text alone. Let's see if we can do better."
      ]
    },
    {
      "cell_type": "markdown",
      "metadata": {
        "id": "b8m-ifDPDBUY"
      },
      "source": [
        "## Feed the training data through the second pipeline\n",
        "Next we'll run Linear SVC"
      ]
    },
    {
      "cell_type": "code",
      "execution_count": null,
      "metadata": {
        "id": "B2DdAdp0DBUY",
        "outputId": "5e26abea-77e4-4d15-8fb8-d1004193e15b"
      },
      "outputs": [
        {
          "data": {
            "text/plain": [
              "Pipeline(memory=None,\n",
              "     steps=[('tfidf', TfidfVectorizer(analyzer='word', binary=False, decode_error='strict',\n",
              "        dtype=<class 'numpy.float64'>, encoding='utf-8', input='content',\n",
              "        lowercase=True, max_df=1.0, max_features=None, min_df=1,\n",
              "        ngram_range=(1, 1), norm='l2', preprocessor=None, smooth_idf=True,...ax_iter=1000,\n",
              "     multi_class='ovr', penalty='l2', random_state=None, tol=0.0001,\n",
              "     verbose=0))])"
            ]
          },
          "execution_count": 16,
          "metadata": {},
          "output_type": "execute_result"
        }
      ],
      "source": [
        "text_clf_lsvc.fit(X_train, y_train)"
      ]
    },
    {
      "cell_type": "markdown",
      "metadata": {
        "id": "dXgQtHP3DBUY"
      },
      "source": [
        "## Run predictions and analyze the results (Linear SVC)"
      ]
    },
    {
      "cell_type": "code",
      "execution_count": null,
      "metadata": {
        "collapsed": true,
        "id": "6pb0rnEfDBUZ"
      },
      "outputs": [],
      "source": [
        "# Form a prediction set\n",
        "predictions = text_clf_lsvc.predict(X_test)"
      ]
    },
    {
      "cell_type": "code",
      "execution_count": null,
      "metadata": {
        "id": "d_Cqb6ywDBUZ",
        "outputId": "47107d62-a720-4cef-d603-5f9351a24305"
      },
      "outputs": [
        {
          "name": "stdout",
          "output_type": "stream",
          "text": [
            "[[259  49]\n",
            " [ 49 283]]\n"
          ]
        }
      ],
      "source": [
        "# Report the confusion matrix\n",
        "from sklearn import metrics\n",
        "print(metrics.confusion_matrix(y_test,predictions))"
      ]
    },
    {
      "cell_type": "code",
      "execution_count": null,
      "metadata": {
        "id": "l1noR3OKDBUZ",
        "outputId": "a4b5caf5-038d-487b-859f-841e59f0becd"
      },
      "outputs": [
        {
          "name": "stdout",
          "output_type": "stream",
          "text": [
            "              precision    recall  f1-score   support\n",
            "\n",
            "         neg       0.84      0.84      0.84       308\n",
            "         pos       0.85      0.85      0.85       332\n",
            "\n",
            "   micro avg       0.85      0.85      0.85       640\n",
            "   macro avg       0.85      0.85      0.85       640\n",
            "weighted avg       0.85      0.85      0.85       640\n",
            "\n"
          ]
        }
      ],
      "source": [
        "# Print a classification report\n",
        "print(metrics.classification_report(y_test,predictions))"
      ]
    },
    {
      "cell_type": "code",
      "execution_count": null,
      "metadata": {
        "id": "v64xdVeDDBUZ",
        "outputId": "da23a9c3-7384-4abe-e06b-5e070b902fc3"
      },
      "outputs": [
        {
          "name": "stdout",
          "output_type": "stream",
          "text": [
            "0.846875\n"
          ]
        }
      ],
      "source": [
        "# Print the overall accuracy\n",
        "print(metrics.accuracy_score(y_test,predictions))"
      ]
    },
    {
      "cell_type": "markdown",
      "metadata": {
        "id": "SKQ4sZhHDBUZ"
      },
      "source": [
        "Not bad! Based on text alone we correctly classified reviews as positive or negative **84.7%** of the time. In an upcoming section we'll try to improve this score even further by performing *sentiment analysis* on the reviews."
      ]
    },
    {
      "cell_type": "markdown",
      "metadata": {
        "id": "VTPS646XDBUa"
      },
      "source": [
        "## Advanced Topic - Adding Stopwords to CountVectorizer\n",
        "By default, **CountVectorizer** and **TfidfVectorizer** do *not* filter stopwords. However, they offer some optional settings, including passing in your own stopword list.\n",
        "<div class=\"alert alert-info\" style=\"margin: 20px\">CAUTION: There are some [known issues](http://aclweb.org/anthology/W18-2502) using Scikit-learn's built-in stopwords list. Some words that are filtered may in fact aid in classification. In this section we'll pass in our own stopword list, so that we know exactly what's being filtered.</div>"
      ]
    },
    {
      "cell_type": "markdown",
      "metadata": {
        "id": "RoIJSf7lDBUa"
      },
      "source": [
        "The [CountVectorizer](https://scikit-learn.org/stable/modules/generated/sklearn.feature_extraction.text.CountVectorizer.html) class accepts the following arguments:\n",
        "> *CountVectorizer(input='content', encoding='utf-8', decode_error='strict', strip_accents=None, lowercase=True, preprocessor=None, tokenizer=None, **stop_words=None**, token_pattern='(?u)\\b\\w\\w+\\b', ngram_range=(1, 1), analyzer='word', max_df=1.0, min_df=1, max_features=None, vocabulary=None, binary=False, dtype=<class 'numpy.int64'>)*\n",
        "\n",
        "[TfidVectorizer](https://scikit-learn.org/stable/modules/generated/sklearn.feature_extraction.text.TfidfVectorizer.html) supports the same arguments and more. Under *stop_words* we have the following options:\n",
        "> stop_words : *string {'english'}, list, or None (default)*\n",
        "\n",
        "That is, we can run `TfidVectorizer(stop_words='english')` to accept scikit-learn's built-in list,<br>\n",
        "or `TfidVectorizer(stop_words=[a, and, the])` to filter these three words. In practice we would assign our list to a variable and pass that in instead."
      ]
    },
    {
      "cell_type": "markdown",
      "metadata": {
        "id": "F3l1nHujDBUb"
      },
      "source": [
        "Scikit-learn's built-in list contains 318 stopwords:\n",
        "> <pre>from sklearn.feature_extraction import text\n",
        "> print(text.ENGLISH_STOP_WORDS)</pre>\n",
        "['a', 'about', 'above', 'across', 'after', 'afterwards', 'again', 'against', 'all', 'almost', 'alone', 'along', 'already', 'also', 'although', 'always', 'am', 'among', 'amongst', 'amoungst', 'amount', 'an', 'and', 'another', 'any', 'anyhow', 'anyone', 'anything', 'anyway', 'anywhere', 'are', 'around', 'as', 'at', 'back', 'be', 'became', 'because', 'become', 'becomes', 'becoming', 'been', 'before', 'beforehand', 'behind', 'being', 'below', 'beside', 'besides', 'between', 'beyond', 'bill', 'both', 'bottom', 'but', 'by', 'call', 'can', 'cannot', 'cant', 'co', 'con', 'could', 'couldnt', 'cry', 'de', 'describe', 'detail', 'do', 'done', 'down', 'due', 'during', 'each', 'eg', 'eight', 'either', 'eleven', 'else', 'elsewhere', 'empty', 'enough', 'etc', 'even', 'ever', 'every', 'everyone', 'everything', 'everywhere', 'except', 'few', 'fifteen', 'fifty', 'fill', 'find', 'fire', 'first', 'five', 'for', 'former', 'formerly', 'forty', 'found', 'four', 'from', 'front', 'full', 'further', 'get', 'give', 'go', 'had', 'has', 'hasnt', 'have', 'he', 'hence', 'her', 'here', 'hereafter', 'hereby', 'herein', 'hereupon', 'hers', 'herself', 'him', 'himself', 'his', 'how', 'however', 'hundred', 'i', 'ie', 'if', 'in', 'inc', 'indeed', 'interest', 'into', 'is', 'it', 'its', 'itself', 'keep', 'last', 'latter', 'latterly', 'least', 'less', 'ltd', 'made', 'many', 'may', 'me', 'meanwhile', 'might', 'mill', 'mine', 'more', 'moreover', 'most', 'mostly', 'move', 'much', 'must', 'my', 'myself', 'name', 'namely', 'neither', 'never', 'nevertheless', 'next', 'nine', 'no', 'nobody', 'none', 'noone', 'nor', 'not', 'nothing', 'now', 'nowhere', 'of', 'off', 'often', 'on', 'once', 'one', 'only', 'onto', 'or', 'other', 'others', 'otherwise', 'our', 'ours', 'ourselves', 'out', 'over', 'own', 'part', 'per', 'perhaps', 'please', 'put', 'rather', 're', 'same', 'see', 'seem', 'seemed', 'seeming', 'seems', 'serious', 'several', 'she', 'should', 'show', 'side', 'since', 'sincere', 'six', 'sixty', 'so', 'some', 'somehow', 'someone', 'something', 'sometime', 'sometimes', 'somewhere', 'still', 'such', 'system', 'take', 'ten', 'than', 'that', 'the', 'their', 'them', 'themselves', 'then', 'thence', 'there', 'thereafter', 'thereby', 'therefore', 'therein', 'thereupon', 'these', 'they', 'thick', 'thin', 'third', 'this', 'those', 'though', 'three', 'through', 'throughout', 'thru', 'thus', 'to', 'together', 'too', 'top', 'toward', 'towards', 'twelve', 'twenty', 'two', 'un', 'under', 'until', 'up', 'upon', 'us', 'very', 'via', 'was', 'we', 'well', 'were', 'what', 'whatever', 'when', 'whence', 'whenever', 'where', 'whereafter', 'whereas', 'whereby', 'wherein', 'whereupon', 'wherever', 'whether', 'which', 'while', 'whither', 'who', 'whoever', 'whole', 'whom', 'whose', 'why', 'will', 'with', 'within', 'without', 'would', 'yet', 'you', 'your', 'yours', 'yourself', 'yourselves']\n",
        "\n",
        "However, there are words in this list that may influence a classification of movie reviews. With this in mind, let's trim the list to just 60 words:"
      ]
    },
    {
      "cell_type": "code",
      "execution_count": null,
      "metadata": {
        "collapsed": true,
        "id": "oTVZ9owfDBUb"
      },
      "outputs": [],
      "source": [
        "stopwords = ['a', 'about', 'an', 'and', 'are', 'as', 'at', 'be', 'been', 'but', 'by', 'can', \\\n",
        "             'even', 'ever', 'for', 'from', 'get', 'had', 'has', 'have', 'he', 'her', 'hers', 'his', \\\n",
        "             'how', 'i', 'if', 'in', 'into', 'is', 'it', 'its', 'just', 'me', 'my', 'of', 'on', 'or', \\\n",
        "             'see', 'seen', 'she', 'so', 'than', 'that', 'the', 'their', 'there', 'they', 'this', \\\n",
        "             'to', 'was', 'we', 'were', 'what', 'when', 'which', 'who', 'will', 'with', 'you']"
      ]
    },
    {
      "cell_type": "markdown",
      "metadata": {
        "id": "wxPJtk9nDBUb"
      },
      "source": [
        "Now let's repeat the process above and see if the removal of stopwords improves or impairs our score."
      ]
    },
    {
      "cell_type": "code",
      "execution_count": null,
      "metadata": {
        "collapsed": true,
        "id": "PMK8F1C2DBUb"
      },
      "outputs": [],
      "source": [
        "# YOU DO NOT NEED TO RUN THIS CELL UNLESS YOU HAVE\n",
        "# RECENTLY OPENED THIS NOTEBOOK OR RESTARTED THE KERNEL:\n",
        "\n",
        "import numpy as np\n",
        "import pandas as pd\n",
        "\n",
        "df = pd.read_csv('../TextFiles/moviereviews.tsv', sep='\\t')\n",
        "df.dropna(inplace=True)\n",
        "blanks = []\n",
        "for i,lb,rv in df.itertuples():\n",
        "    if type(rv)==str:\n",
        "        if rv.isspace():\n",
        "            blanks.append(i)\n",
        "df.drop(blanks, inplace=True)\n",
        "from sklearn.model_selection import train_test_split\n",
        "X = df['review']\n",
        "y = df['label']\n",
        "X_train, X_test, y_train, y_test = train_test_split(X, y, test_size=0.33, random_state=42)\n",
        "\n",
        "from sklearn.pipeline import Pipeline\n",
        "from sklearn.feature_extraction.text import TfidfVectorizer\n",
        "from sklearn.naive_bayes import MultinomialNB\n",
        "from sklearn.svm import LinearSVC\n",
        "from sklearn import metrics"
      ]
    },
    {
      "cell_type": "code",
      "execution_count": null,
      "metadata": {
        "id": "GZyp7EamDBUb",
        "outputId": "707899dd-0c85-4af6-bb0c-de65e76e8741"
      },
      "outputs": [
        {
          "data": {
            "text/plain": [
              "Pipeline(memory=None,\n",
              "     steps=[('tfidf', TfidfVectorizer(analyzer='word', binary=False, decode_error='strict',\n",
              "        dtype=<class 'numpy.float64'>, encoding='utf-8', input='content',\n",
              "        lowercase=True, max_df=1.0, max_features=None, min_df=1,\n",
              "        ngram_range=(1, 1), norm='l2', preprocessor=None, smooth_idf=True,...ax_iter=1000,\n",
              "     multi_class='ovr', penalty='l2', random_state=None, tol=0.0001,\n",
              "     verbose=0))])"
            ]
          },
          "execution_count": 22,
          "metadata": {},
          "output_type": "execute_result"
        }
      ],
      "source": [
        "# RUN THIS CELL TO ADD STOPWORDS TO THE LINEAR SVC PIPELINE:\n",
        "text_clf_lsvc2 = Pipeline([('tfidf', TfidfVectorizer(stop_words=stopwords)),\n",
        "                     ('clf', LinearSVC()),\n",
        "])\n",
        "text_clf_lsvc2.fit(X_train, y_train)"
      ]
    },
    {
      "cell_type": "code",
      "execution_count": null,
      "metadata": {
        "id": "FyzNu9keDBUc",
        "outputId": "1cb3a637-e194-4b37-be5f-87a569abd896"
      },
      "outputs": [
        {
          "name": "stdout",
          "output_type": "stream",
          "text": [
            "[[256  52]\n",
            " [ 48 284]]\n"
          ]
        }
      ],
      "source": [
        "predictions = text_clf_lsvc2.predict(X_test)\n",
        "print(metrics.confusion_matrix(y_test,predictions))"
      ]
    },
    {
      "cell_type": "code",
      "execution_count": null,
      "metadata": {
        "id": "WSr5Oz2ZDBUc",
        "outputId": "11f89491-1f94-44ec-cb7b-51695428cc99"
      },
      "outputs": [
        {
          "name": "stdout",
          "output_type": "stream",
          "text": [
            "              precision    recall  f1-score   support\n",
            "\n",
            "         neg       0.84      0.83      0.84       308\n",
            "         pos       0.85      0.86      0.85       332\n",
            "\n",
            "   micro avg       0.84      0.84      0.84       640\n",
            "   macro avg       0.84      0.84      0.84       640\n",
            "weighted avg       0.84      0.84      0.84       640\n",
            "\n"
          ]
        }
      ],
      "source": [
        "print(metrics.classification_report(y_test,predictions))"
      ]
    },
    {
      "cell_type": "code",
      "execution_count": null,
      "metadata": {
        "id": "Rto-RKMPDBUc",
        "outputId": "4e20463e-3057-4f6b-be78-b21e04e5e391"
      },
      "outputs": [
        {
          "name": "stdout",
          "output_type": "stream",
          "text": [
            "0.84375\n"
          ]
        }
      ],
      "source": [
        "print(metrics.accuracy_score(y_test,predictions))"
      ]
    },
    {
      "cell_type": "markdown",
      "metadata": {
        "id": "AVBMG7qRDBUc"
      },
      "source": [
        "Our score didn't change that much. We went from 84.7% without filtering stopwords to 84.4% after adding a stopword filter to our pipeline. Keep in mind that 2000 movie reviews is a relatively small dataset. The real gain from stripping stopwords is improved processing speed; depending on the size of the corpus, it might save hours."
      ]
    },
    {
      "cell_type": "markdown",
      "metadata": {
        "id": "lMSFAPXjDBUc"
      },
      "source": [
        "## Feed new data into a trained model\n",
        "Once we've developed a fairly accurate model, it's time to feed new data through it. In this last section we'll write our own review, and see how accurately our model assigns a \"positive\" or \"negative\" label to it."
      ]
    },
    {
      "cell_type": "markdown",
      "metadata": {
        "id": "BFXfLzfIDBUd"
      },
      "source": [
        "### First, train the model"
      ]
    },
    {
      "cell_type": "code",
      "execution_count": null,
      "metadata": {
        "collapsed": true,
        "id": "f7sdSkqlDBUd"
      },
      "outputs": [],
      "source": [
        "# YOU DO NOT NEED TO RUN THIS CELL UNLESS YOU HAVE\n",
        "# RECENTLY OPENED THIS NOTEBOOK OR RESTARTED THE KERNEL:\n",
        "\n",
        "import numpy as np\n",
        "import pandas as pd\n",
        "\n",
        "df = pd.read_csv('../TextFiles/moviereviews.tsv', sep='\\t')\n",
        "df.dropna(inplace=True)\n",
        "blanks = []\n",
        "for i,lb,rv in df.itertuples():\n",
        "    if type(rv)==str:\n",
        "        if rv.isspace():\n",
        "            blanks.append(i)\n",
        "df.drop(blanks, inplace=True)\n",
        "from sklearn.model_selection import train_test_split\n",
        "X = df['review']\n",
        "y = df['label']\n",
        "X_train, X_test, y_train, y_test = train_test_split(X, y, test_size=0.33, random_state=42)\n",
        "\n",
        "from sklearn.pipeline import Pipeline\n",
        "from sklearn.feature_extraction.text import TfidfVectorizer\n",
        "from sklearn.naive_bayes import MultinomialNB\n",
        "from sklearn.svm import LinearSVC\n",
        "from sklearn import metrics\n",
        "\n",
        "# Naïve Bayes Model:\n",
        "text_clf_nb = Pipeline([('tfidf', TfidfVectorizer()),\n",
        "                     ('clf', MultinomialNB()),\n",
        "])\n",
        "\n",
        "# Linear SVC Model:\n",
        "text_clf_lsvc = Pipeline([('tfidf', TfidfVectorizer()),\n",
        "                     ('clf', LinearSVC()),\n",
        "])\n",
        "\n",
        "# Train both models on the moviereviews.tsv training set:\n",
        "text_clf_nb.fit(X_train, y_train)\n",
        "text_clf_lsvc.fit(X_train, y_train)"
      ]
    },
    {
      "cell_type": "markdown",
      "metadata": {
        "id": "T6u8k8EnDBUd"
      },
      "source": [
        "### Next, feed new data to the model's `predict()` method"
      ]
    },
    {
      "cell_type": "code",
      "execution_count": null,
      "metadata": {
        "collapsed": true,
        "id": "bwLp_IrsDBUd"
      },
      "outputs": [],
      "source": [
        "myreview = \"A movie I really wanted to love was terrible. \\\n",
        "I'm sure the producers had the best intentions, but the execution was lacking.\""
      ]
    },
    {
      "cell_type": "code",
      "execution_count": null,
      "metadata": {
        "collapsed": true,
        "id": "K5GIQGSfDBUd"
      },
      "outputs": [],
      "source": [
        "# Use this space to write your own review. Experiment with different lengths and writing styles.\n",
        "myreview =\n",
        "\n",
        "\n",
        "\n",
        "\n"
      ]
    },
    {
      "cell_type": "code",
      "execution_count": null,
      "metadata": {
        "id": "bPgT6bytDBUe",
        "outputId": "eef4c4a3-1ce4-4b17-dc17-3b5c347b73ff"
      },
      "outputs": [
        {
          "name": "stdout",
          "output_type": "stream",
          "text": [
            "['neg']\n"
          ]
        }
      ],
      "source": [
        "print(text_clf_nb.predict([myreview]))  # be sure to put \"myreview\" inside square brackets"
      ]
    },
    {
      "cell_type": "code",
      "execution_count": null,
      "metadata": {
        "id": "7oe8LzU6DBUe",
        "outputId": "197b1975-afc8-4b9c-f94f-a8cf2c07ba27"
      },
      "outputs": [
        {
          "name": "stdout",
          "output_type": "stream",
          "text": [
            "['neg']\n"
          ]
        }
      ],
      "source": [
        "print(text_clf_lsvc.predict([myreview]))"
      ]
    },
    {
      "cell_type": "markdown",
      "metadata": {
        "id": "bog-j-q-DBUe"
      },
      "source": [
        "Great! Now you should be able to build text classification pipelines in scikit-learn, apply a variety of algorithms like naïve Bayes and Linear SVC, handle stopwords, and test a fitted model on new data."
      ]
    },
    {
      "cell_type": "markdown",
      "metadata": {
        "id": "vmQU0H8pDBUe"
      },
      "source": [
        "## Up next: Text Classification Assessment"
      ]
    }
  ],
  "metadata": {
    "kernelspec": {
      "display_name": "Python 3",
      "language": "python",
      "name": "python3"
    },
    "language_info": {
      "codemirror_mode": {
        "name": "ipython",
        "version": 3
      },
      "file_extension": ".py",
      "mimetype": "text/x-python",
      "name": "python",
      "nbconvert_exporter": "python",
      "pygments_lexer": "ipython3",
      "version": "3.6.7"
    },
    "colab": {
      "provenance": [],
      "include_colab_link": true
    }
  },
  "nbformat": 4,
  "nbformat_minor": 0
}